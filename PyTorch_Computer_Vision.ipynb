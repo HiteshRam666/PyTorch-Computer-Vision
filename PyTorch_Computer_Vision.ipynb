{
  "nbformat": 4,
  "nbformat_minor": 0,
  "metadata": {
    "colab": {
      "provenance": []
    },
    "kernelspec": {
      "name": "python3",
      "display_name": "Python 3"
    },
    "language_info": {
      "name": "python"
    },
    "widgets": {
      "application/vnd.jupyter.widget-state+json": {
        "c7b2f1cc68e545afbac84d17c7f94963": {
          "model_module": "@jupyter-widgets/controls",
          "model_name": "HBoxModel",
          "model_module_version": "1.5.0",
          "state": {
            "_dom_classes": [],
            "_model_module": "@jupyter-widgets/controls",
            "_model_module_version": "1.5.0",
            "_model_name": "HBoxModel",
            "_view_count": null,
            "_view_module": "@jupyter-widgets/controls",
            "_view_module_version": "1.5.0",
            "_view_name": "HBoxView",
            "box_style": "",
            "children": [
              "IPY_MODEL_2109d802e5014c1ba76fe0377cbfd8ce",
              "IPY_MODEL_00bcfe4bb8164864a73ebfd24e64a63e",
              "IPY_MODEL_628a4b9bf6e0454aaf3ff87c08c02aec"
            ],
            "layout": "IPY_MODEL_5fb535a604894e078e192921ce805b3f"
          }
        },
        "2109d802e5014c1ba76fe0377cbfd8ce": {
          "model_module": "@jupyter-widgets/controls",
          "model_name": "HTMLModel",
          "model_module_version": "1.5.0",
          "state": {
            "_dom_classes": [],
            "_model_module": "@jupyter-widgets/controls",
            "_model_module_version": "1.5.0",
            "_model_name": "HTMLModel",
            "_view_count": null,
            "_view_module": "@jupyter-widgets/controls",
            "_view_module_version": "1.5.0",
            "_view_name": "HTMLView",
            "description": "",
            "description_tooltip": null,
            "layout": "IPY_MODEL_24c6511eb55a401a8ef8adfe137b13d3",
            "placeholder": "​",
            "style": "IPY_MODEL_38b971fcb9d04330b85d3c17cce175be",
            "value": "100%"
          }
        },
        "00bcfe4bb8164864a73ebfd24e64a63e": {
          "model_module": "@jupyter-widgets/controls",
          "model_name": "FloatProgressModel",
          "model_module_version": "1.5.0",
          "state": {
            "_dom_classes": [],
            "_model_module": "@jupyter-widgets/controls",
            "_model_module_version": "1.5.0",
            "_model_name": "FloatProgressModel",
            "_view_count": null,
            "_view_module": "@jupyter-widgets/controls",
            "_view_module_version": "1.5.0",
            "_view_name": "ProgressView",
            "bar_style": "success",
            "description": "",
            "description_tooltip": null,
            "layout": "IPY_MODEL_8acfa4e6a4864d3c8677e230c38cd3a9",
            "max": 3,
            "min": 0,
            "orientation": "horizontal",
            "style": "IPY_MODEL_b0bebc926ad44e3580ce79c8baa30a1c",
            "value": 3
          }
        },
        "628a4b9bf6e0454aaf3ff87c08c02aec": {
          "model_module": "@jupyter-widgets/controls",
          "model_name": "HTMLModel",
          "model_module_version": "1.5.0",
          "state": {
            "_dom_classes": [],
            "_model_module": "@jupyter-widgets/controls",
            "_model_module_version": "1.5.0",
            "_model_name": "HTMLModel",
            "_view_count": null,
            "_view_module": "@jupyter-widgets/controls",
            "_view_module_version": "1.5.0",
            "_view_name": "HTMLView",
            "description": "",
            "description_tooltip": null,
            "layout": "IPY_MODEL_9ed7d0b71e434fe3ab20e7ee03132fdd",
            "placeholder": "​",
            "style": "IPY_MODEL_072c28284b7b41b89a17cf15bbf4ae81",
            "value": " 3/3 [00:33&lt;00:00, 11.01s/it]"
          }
        },
        "5fb535a604894e078e192921ce805b3f": {
          "model_module": "@jupyter-widgets/base",
          "model_name": "LayoutModel",
          "model_module_version": "1.2.0",
          "state": {
            "_model_module": "@jupyter-widgets/base",
            "_model_module_version": "1.2.0",
            "_model_name": "LayoutModel",
            "_view_count": null,
            "_view_module": "@jupyter-widgets/base",
            "_view_module_version": "1.2.0",
            "_view_name": "LayoutView",
            "align_content": null,
            "align_items": null,
            "align_self": null,
            "border": null,
            "bottom": null,
            "display": null,
            "flex": null,
            "flex_flow": null,
            "grid_area": null,
            "grid_auto_columns": null,
            "grid_auto_flow": null,
            "grid_auto_rows": null,
            "grid_column": null,
            "grid_gap": null,
            "grid_row": null,
            "grid_template_areas": null,
            "grid_template_columns": null,
            "grid_template_rows": null,
            "height": null,
            "justify_content": null,
            "justify_items": null,
            "left": null,
            "margin": null,
            "max_height": null,
            "max_width": null,
            "min_height": null,
            "min_width": null,
            "object_fit": null,
            "object_position": null,
            "order": null,
            "overflow": null,
            "overflow_x": null,
            "overflow_y": null,
            "padding": null,
            "right": null,
            "top": null,
            "visibility": null,
            "width": null
          }
        },
        "24c6511eb55a401a8ef8adfe137b13d3": {
          "model_module": "@jupyter-widgets/base",
          "model_name": "LayoutModel",
          "model_module_version": "1.2.0",
          "state": {
            "_model_module": "@jupyter-widgets/base",
            "_model_module_version": "1.2.0",
            "_model_name": "LayoutModel",
            "_view_count": null,
            "_view_module": "@jupyter-widgets/base",
            "_view_module_version": "1.2.0",
            "_view_name": "LayoutView",
            "align_content": null,
            "align_items": null,
            "align_self": null,
            "border": null,
            "bottom": null,
            "display": null,
            "flex": null,
            "flex_flow": null,
            "grid_area": null,
            "grid_auto_columns": null,
            "grid_auto_flow": null,
            "grid_auto_rows": null,
            "grid_column": null,
            "grid_gap": null,
            "grid_row": null,
            "grid_template_areas": null,
            "grid_template_columns": null,
            "grid_template_rows": null,
            "height": null,
            "justify_content": null,
            "justify_items": null,
            "left": null,
            "margin": null,
            "max_height": null,
            "max_width": null,
            "min_height": null,
            "min_width": null,
            "object_fit": null,
            "object_position": null,
            "order": null,
            "overflow": null,
            "overflow_x": null,
            "overflow_y": null,
            "padding": null,
            "right": null,
            "top": null,
            "visibility": null,
            "width": null
          }
        },
        "38b971fcb9d04330b85d3c17cce175be": {
          "model_module": "@jupyter-widgets/controls",
          "model_name": "DescriptionStyleModel",
          "model_module_version": "1.5.0",
          "state": {
            "_model_module": "@jupyter-widgets/controls",
            "_model_module_version": "1.5.0",
            "_model_name": "DescriptionStyleModel",
            "_view_count": null,
            "_view_module": "@jupyter-widgets/base",
            "_view_module_version": "1.2.0",
            "_view_name": "StyleView",
            "description_width": ""
          }
        },
        "8acfa4e6a4864d3c8677e230c38cd3a9": {
          "model_module": "@jupyter-widgets/base",
          "model_name": "LayoutModel",
          "model_module_version": "1.2.0",
          "state": {
            "_model_module": "@jupyter-widgets/base",
            "_model_module_version": "1.2.0",
            "_model_name": "LayoutModel",
            "_view_count": null,
            "_view_module": "@jupyter-widgets/base",
            "_view_module_version": "1.2.0",
            "_view_name": "LayoutView",
            "align_content": null,
            "align_items": null,
            "align_self": null,
            "border": null,
            "bottom": null,
            "display": null,
            "flex": null,
            "flex_flow": null,
            "grid_area": null,
            "grid_auto_columns": null,
            "grid_auto_flow": null,
            "grid_auto_rows": null,
            "grid_column": null,
            "grid_gap": null,
            "grid_row": null,
            "grid_template_areas": null,
            "grid_template_columns": null,
            "grid_template_rows": null,
            "height": null,
            "justify_content": null,
            "justify_items": null,
            "left": null,
            "margin": null,
            "max_height": null,
            "max_width": null,
            "min_height": null,
            "min_width": null,
            "object_fit": null,
            "object_position": null,
            "order": null,
            "overflow": null,
            "overflow_x": null,
            "overflow_y": null,
            "padding": null,
            "right": null,
            "top": null,
            "visibility": null,
            "width": null
          }
        },
        "b0bebc926ad44e3580ce79c8baa30a1c": {
          "model_module": "@jupyter-widgets/controls",
          "model_name": "ProgressStyleModel",
          "model_module_version": "1.5.0",
          "state": {
            "_model_module": "@jupyter-widgets/controls",
            "_model_module_version": "1.5.0",
            "_model_name": "ProgressStyleModel",
            "_view_count": null,
            "_view_module": "@jupyter-widgets/base",
            "_view_module_version": "1.2.0",
            "_view_name": "StyleView",
            "bar_color": null,
            "description_width": ""
          }
        },
        "9ed7d0b71e434fe3ab20e7ee03132fdd": {
          "model_module": "@jupyter-widgets/base",
          "model_name": "LayoutModel",
          "model_module_version": "1.2.0",
          "state": {
            "_model_module": "@jupyter-widgets/base",
            "_model_module_version": "1.2.0",
            "_model_name": "LayoutModel",
            "_view_count": null,
            "_view_module": "@jupyter-widgets/base",
            "_view_module_version": "1.2.0",
            "_view_name": "LayoutView",
            "align_content": null,
            "align_items": null,
            "align_self": null,
            "border": null,
            "bottom": null,
            "display": null,
            "flex": null,
            "flex_flow": null,
            "grid_area": null,
            "grid_auto_columns": null,
            "grid_auto_flow": null,
            "grid_auto_rows": null,
            "grid_column": null,
            "grid_gap": null,
            "grid_row": null,
            "grid_template_areas": null,
            "grid_template_columns": null,
            "grid_template_rows": null,
            "height": null,
            "justify_content": null,
            "justify_items": null,
            "left": null,
            "margin": null,
            "max_height": null,
            "max_width": null,
            "min_height": null,
            "min_width": null,
            "object_fit": null,
            "object_position": null,
            "order": null,
            "overflow": null,
            "overflow_x": null,
            "overflow_y": null,
            "padding": null,
            "right": null,
            "top": null,
            "visibility": null,
            "width": null
          }
        },
        "072c28284b7b41b89a17cf15bbf4ae81": {
          "model_module": "@jupyter-widgets/controls",
          "model_name": "DescriptionStyleModel",
          "model_module_version": "1.5.0",
          "state": {
            "_model_module": "@jupyter-widgets/controls",
            "_model_module_version": "1.5.0",
            "_model_name": "DescriptionStyleModel",
            "_view_count": null,
            "_view_module": "@jupyter-widgets/base",
            "_view_module_version": "1.2.0",
            "_view_name": "StyleView",
            "description_width": ""
          }
        },
        "76f6a4004f3945dcab82c8a0ce4b27ef": {
          "model_module": "@jupyter-widgets/controls",
          "model_name": "HBoxModel",
          "model_module_version": "1.5.0",
          "state": {
            "_dom_classes": [],
            "_model_module": "@jupyter-widgets/controls",
            "_model_module_version": "1.5.0",
            "_model_name": "HBoxModel",
            "_view_count": null,
            "_view_module": "@jupyter-widgets/controls",
            "_view_module_version": "1.5.0",
            "_view_name": "HBoxView",
            "box_style": "",
            "children": [
              "IPY_MODEL_2f3b96a9185d46d6be5c7de306328cd5",
              "IPY_MODEL_cbd9ebc4a7314f56bf036c9612c13fbf",
              "IPY_MODEL_8c5a440f66054005a662c2f12c868ba0"
            ],
            "layout": "IPY_MODEL_a8fb874c14e14436b84703cd5aa8e7ab"
          }
        },
        "2f3b96a9185d46d6be5c7de306328cd5": {
          "model_module": "@jupyter-widgets/controls",
          "model_name": "HTMLModel",
          "model_module_version": "1.5.0",
          "state": {
            "_dom_classes": [],
            "_model_module": "@jupyter-widgets/controls",
            "_model_module_version": "1.5.0",
            "_model_name": "HTMLModel",
            "_view_count": null,
            "_view_module": "@jupyter-widgets/controls",
            "_view_module_version": "1.5.0",
            "_view_name": "HTMLView",
            "description": "",
            "description_tooltip": null,
            "layout": "IPY_MODEL_6544e0f0610848cca706b817a6122c55",
            "placeholder": "​",
            "style": "IPY_MODEL_a8ad0eee691c4851a24fb90996575ec2",
            "value": "100%"
          }
        },
        "cbd9ebc4a7314f56bf036c9612c13fbf": {
          "model_module": "@jupyter-widgets/controls",
          "model_name": "FloatProgressModel",
          "model_module_version": "1.5.0",
          "state": {
            "_dom_classes": [],
            "_model_module": "@jupyter-widgets/controls",
            "_model_module_version": "1.5.0",
            "_model_name": "FloatProgressModel",
            "_view_count": null,
            "_view_module": "@jupyter-widgets/controls",
            "_view_module_version": "1.5.0",
            "_view_name": "ProgressView",
            "bar_style": "success",
            "description": "",
            "description_tooltip": null,
            "layout": "IPY_MODEL_adc2ec1cce68489bbb15e5dd6d6fd057",
            "max": 313,
            "min": 0,
            "orientation": "horizontal",
            "style": "IPY_MODEL_881f0724470047d1a44b8090f0f35ff6",
            "value": 313
          }
        },
        "8c5a440f66054005a662c2f12c868ba0": {
          "model_module": "@jupyter-widgets/controls",
          "model_name": "HTMLModel",
          "model_module_version": "1.5.0",
          "state": {
            "_dom_classes": [],
            "_model_module": "@jupyter-widgets/controls",
            "_model_module_version": "1.5.0",
            "_model_name": "HTMLModel",
            "_view_count": null,
            "_view_module": "@jupyter-widgets/controls",
            "_view_module_version": "1.5.0",
            "_view_name": "HTMLView",
            "description": "",
            "description_tooltip": null,
            "layout": "IPY_MODEL_2ebfd68c64114105a78cdf6d491ca89f",
            "placeholder": "​",
            "style": "IPY_MODEL_09cc310650a34655a2a8b78fc96889fd",
            "value": " 313/313 [00:01&lt;00:00, 237.97it/s]"
          }
        },
        "a8fb874c14e14436b84703cd5aa8e7ab": {
          "model_module": "@jupyter-widgets/base",
          "model_name": "LayoutModel",
          "model_module_version": "1.2.0",
          "state": {
            "_model_module": "@jupyter-widgets/base",
            "_model_module_version": "1.2.0",
            "_model_name": "LayoutModel",
            "_view_count": null,
            "_view_module": "@jupyter-widgets/base",
            "_view_module_version": "1.2.0",
            "_view_name": "LayoutView",
            "align_content": null,
            "align_items": null,
            "align_self": null,
            "border": null,
            "bottom": null,
            "display": null,
            "flex": null,
            "flex_flow": null,
            "grid_area": null,
            "grid_auto_columns": null,
            "grid_auto_flow": null,
            "grid_auto_rows": null,
            "grid_column": null,
            "grid_gap": null,
            "grid_row": null,
            "grid_template_areas": null,
            "grid_template_columns": null,
            "grid_template_rows": null,
            "height": null,
            "justify_content": null,
            "justify_items": null,
            "left": null,
            "margin": null,
            "max_height": null,
            "max_width": null,
            "min_height": null,
            "min_width": null,
            "object_fit": null,
            "object_position": null,
            "order": null,
            "overflow": null,
            "overflow_x": null,
            "overflow_y": null,
            "padding": null,
            "right": null,
            "top": null,
            "visibility": null,
            "width": null
          }
        },
        "6544e0f0610848cca706b817a6122c55": {
          "model_module": "@jupyter-widgets/base",
          "model_name": "LayoutModel",
          "model_module_version": "1.2.0",
          "state": {
            "_model_module": "@jupyter-widgets/base",
            "_model_module_version": "1.2.0",
            "_model_name": "LayoutModel",
            "_view_count": null,
            "_view_module": "@jupyter-widgets/base",
            "_view_module_version": "1.2.0",
            "_view_name": "LayoutView",
            "align_content": null,
            "align_items": null,
            "align_self": null,
            "border": null,
            "bottom": null,
            "display": null,
            "flex": null,
            "flex_flow": null,
            "grid_area": null,
            "grid_auto_columns": null,
            "grid_auto_flow": null,
            "grid_auto_rows": null,
            "grid_column": null,
            "grid_gap": null,
            "grid_row": null,
            "grid_template_areas": null,
            "grid_template_columns": null,
            "grid_template_rows": null,
            "height": null,
            "justify_content": null,
            "justify_items": null,
            "left": null,
            "margin": null,
            "max_height": null,
            "max_width": null,
            "min_height": null,
            "min_width": null,
            "object_fit": null,
            "object_position": null,
            "order": null,
            "overflow": null,
            "overflow_x": null,
            "overflow_y": null,
            "padding": null,
            "right": null,
            "top": null,
            "visibility": null,
            "width": null
          }
        },
        "a8ad0eee691c4851a24fb90996575ec2": {
          "model_module": "@jupyter-widgets/controls",
          "model_name": "DescriptionStyleModel",
          "model_module_version": "1.5.0",
          "state": {
            "_model_module": "@jupyter-widgets/controls",
            "_model_module_version": "1.5.0",
            "_model_name": "DescriptionStyleModel",
            "_view_count": null,
            "_view_module": "@jupyter-widgets/base",
            "_view_module_version": "1.2.0",
            "_view_name": "StyleView",
            "description_width": ""
          }
        },
        "adc2ec1cce68489bbb15e5dd6d6fd057": {
          "model_module": "@jupyter-widgets/base",
          "model_name": "LayoutModel",
          "model_module_version": "1.2.0",
          "state": {
            "_model_module": "@jupyter-widgets/base",
            "_model_module_version": "1.2.0",
            "_model_name": "LayoutModel",
            "_view_count": null,
            "_view_module": "@jupyter-widgets/base",
            "_view_module_version": "1.2.0",
            "_view_name": "LayoutView",
            "align_content": null,
            "align_items": null,
            "align_self": null,
            "border": null,
            "bottom": null,
            "display": null,
            "flex": null,
            "flex_flow": null,
            "grid_area": null,
            "grid_auto_columns": null,
            "grid_auto_flow": null,
            "grid_auto_rows": null,
            "grid_column": null,
            "grid_gap": null,
            "grid_row": null,
            "grid_template_areas": null,
            "grid_template_columns": null,
            "grid_template_rows": null,
            "height": null,
            "justify_content": null,
            "justify_items": null,
            "left": null,
            "margin": null,
            "max_height": null,
            "max_width": null,
            "min_height": null,
            "min_width": null,
            "object_fit": null,
            "object_position": null,
            "order": null,
            "overflow": null,
            "overflow_x": null,
            "overflow_y": null,
            "padding": null,
            "right": null,
            "top": null,
            "visibility": null,
            "width": null
          }
        },
        "881f0724470047d1a44b8090f0f35ff6": {
          "model_module": "@jupyter-widgets/controls",
          "model_name": "ProgressStyleModel",
          "model_module_version": "1.5.0",
          "state": {
            "_model_module": "@jupyter-widgets/controls",
            "_model_module_version": "1.5.0",
            "_model_name": "ProgressStyleModel",
            "_view_count": null,
            "_view_module": "@jupyter-widgets/base",
            "_view_module_version": "1.2.0",
            "_view_name": "StyleView",
            "bar_color": null,
            "description_width": ""
          }
        },
        "2ebfd68c64114105a78cdf6d491ca89f": {
          "model_module": "@jupyter-widgets/base",
          "model_name": "LayoutModel",
          "model_module_version": "1.2.0",
          "state": {
            "_model_module": "@jupyter-widgets/base",
            "_model_module_version": "1.2.0",
            "_model_name": "LayoutModel",
            "_view_count": null,
            "_view_module": "@jupyter-widgets/base",
            "_view_module_version": "1.2.0",
            "_view_name": "LayoutView",
            "align_content": null,
            "align_items": null,
            "align_self": null,
            "border": null,
            "bottom": null,
            "display": null,
            "flex": null,
            "flex_flow": null,
            "grid_area": null,
            "grid_auto_columns": null,
            "grid_auto_flow": null,
            "grid_auto_rows": null,
            "grid_column": null,
            "grid_gap": null,
            "grid_row": null,
            "grid_template_areas": null,
            "grid_template_columns": null,
            "grid_template_rows": null,
            "height": null,
            "justify_content": null,
            "justify_items": null,
            "left": null,
            "margin": null,
            "max_height": null,
            "max_width": null,
            "min_height": null,
            "min_width": null,
            "object_fit": null,
            "object_position": null,
            "order": null,
            "overflow": null,
            "overflow_x": null,
            "overflow_y": null,
            "padding": null,
            "right": null,
            "top": null,
            "visibility": null,
            "width": null
          }
        },
        "09cc310650a34655a2a8b78fc96889fd": {
          "model_module": "@jupyter-widgets/controls",
          "model_name": "DescriptionStyleModel",
          "model_module_version": "1.5.0",
          "state": {
            "_model_module": "@jupyter-widgets/controls",
            "_model_module_version": "1.5.0",
            "_model_name": "DescriptionStyleModel",
            "_view_count": null,
            "_view_module": "@jupyter-widgets/base",
            "_view_module_version": "1.2.0",
            "_view_name": "StyleView",
            "description_width": ""
          }
        },
        "177b5b07b10948999a785cb6979632d0": {
          "model_module": "@jupyter-widgets/controls",
          "model_name": "HBoxModel",
          "model_module_version": "1.5.0",
          "state": {
            "_dom_classes": [],
            "_model_module": "@jupyter-widgets/controls",
            "_model_module_version": "1.5.0",
            "_model_name": "HBoxModel",
            "_view_count": null,
            "_view_module": "@jupyter-widgets/controls",
            "_view_module_version": "1.5.0",
            "_view_name": "HBoxView",
            "box_style": "",
            "children": [
              "IPY_MODEL_1cdc5016aaa64166aebb6b5fbee9248f",
              "IPY_MODEL_1eba0e41b0b7495cb6b1cf1d317273f4",
              "IPY_MODEL_7422422aa99f4f1dae341ee48a8e2651"
            ],
            "layout": "IPY_MODEL_877f7288a8f04dc79abc5712591abe62"
          }
        },
        "1cdc5016aaa64166aebb6b5fbee9248f": {
          "model_module": "@jupyter-widgets/controls",
          "model_name": "HTMLModel",
          "model_module_version": "1.5.0",
          "state": {
            "_dom_classes": [],
            "_model_module": "@jupyter-widgets/controls",
            "_model_module_version": "1.5.0",
            "_model_name": "HTMLModel",
            "_view_count": null,
            "_view_module": "@jupyter-widgets/controls",
            "_view_module_version": "1.5.0",
            "_view_name": "HTMLView",
            "description": "",
            "description_tooltip": null,
            "layout": "IPY_MODEL_4c0cf378307a47fbb1f65f6caadc56de",
            "placeholder": "​",
            "style": "IPY_MODEL_5f222e0077114b8db611bed1bc7ac984",
            "value": "100%"
          }
        },
        "1eba0e41b0b7495cb6b1cf1d317273f4": {
          "model_module": "@jupyter-widgets/controls",
          "model_name": "FloatProgressModel",
          "model_module_version": "1.5.0",
          "state": {
            "_dom_classes": [],
            "_model_module": "@jupyter-widgets/controls",
            "_model_module_version": "1.5.0",
            "_model_name": "FloatProgressModel",
            "_view_count": null,
            "_view_module": "@jupyter-widgets/controls",
            "_view_module_version": "1.5.0",
            "_view_name": "ProgressView",
            "bar_style": "success",
            "description": "",
            "description_tooltip": null,
            "layout": "IPY_MODEL_646095b29b304bcbbcd406b80da4ba82",
            "max": 3,
            "min": 0,
            "orientation": "horizontal",
            "style": "IPY_MODEL_e1255506290f4b72b973c0a5c71af5e1",
            "value": 3
          }
        },
        "7422422aa99f4f1dae341ee48a8e2651": {
          "model_module": "@jupyter-widgets/controls",
          "model_name": "HTMLModel",
          "model_module_version": "1.5.0",
          "state": {
            "_dom_classes": [],
            "_model_module": "@jupyter-widgets/controls",
            "_model_module_version": "1.5.0",
            "_model_name": "HTMLModel",
            "_view_count": null,
            "_view_module": "@jupyter-widgets/controls",
            "_view_module_version": "1.5.0",
            "_view_name": "HTMLView",
            "description": "",
            "description_tooltip": null,
            "layout": "IPY_MODEL_61ba1293f70e491099f132e697884d07",
            "placeholder": "​",
            "style": "IPY_MODEL_f6b570479f5e4715bc69bd27160bfe05",
            "value": " 3/3 [00:34&lt;00:00, 11.23s/it]"
          }
        },
        "877f7288a8f04dc79abc5712591abe62": {
          "model_module": "@jupyter-widgets/base",
          "model_name": "LayoutModel",
          "model_module_version": "1.2.0",
          "state": {
            "_model_module": "@jupyter-widgets/base",
            "_model_module_version": "1.2.0",
            "_model_name": "LayoutModel",
            "_view_count": null,
            "_view_module": "@jupyter-widgets/base",
            "_view_module_version": "1.2.0",
            "_view_name": "LayoutView",
            "align_content": null,
            "align_items": null,
            "align_self": null,
            "border": null,
            "bottom": null,
            "display": null,
            "flex": null,
            "flex_flow": null,
            "grid_area": null,
            "grid_auto_columns": null,
            "grid_auto_flow": null,
            "grid_auto_rows": null,
            "grid_column": null,
            "grid_gap": null,
            "grid_row": null,
            "grid_template_areas": null,
            "grid_template_columns": null,
            "grid_template_rows": null,
            "height": null,
            "justify_content": null,
            "justify_items": null,
            "left": null,
            "margin": null,
            "max_height": null,
            "max_width": null,
            "min_height": null,
            "min_width": null,
            "object_fit": null,
            "object_position": null,
            "order": null,
            "overflow": null,
            "overflow_x": null,
            "overflow_y": null,
            "padding": null,
            "right": null,
            "top": null,
            "visibility": null,
            "width": null
          }
        },
        "4c0cf378307a47fbb1f65f6caadc56de": {
          "model_module": "@jupyter-widgets/base",
          "model_name": "LayoutModel",
          "model_module_version": "1.2.0",
          "state": {
            "_model_module": "@jupyter-widgets/base",
            "_model_module_version": "1.2.0",
            "_model_name": "LayoutModel",
            "_view_count": null,
            "_view_module": "@jupyter-widgets/base",
            "_view_module_version": "1.2.0",
            "_view_name": "LayoutView",
            "align_content": null,
            "align_items": null,
            "align_self": null,
            "border": null,
            "bottom": null,
            "display": null,
            "flex": null,
            "flex_flow": null,
            "grid_area": null,
            "grid_auto_columns": null,
            "grid_auto_flow": null,
            "grid_auto_rows": null,
            "grid_column": null,
            "grid_gap": null,
            "grid_row": null,
            "grid_template_areas": null,
            "grid_template_columns": null,
            "grid_template_rows": null,
            "height": null,
            "justify_content": null,
            "justify_items": null,
            "left": null,
            "margin": null,
            "max_height": null,
            "max_width": null,
            "min_height": null,
            "min_width": null,
            "object_fit": null,
            "object_position": null,
            "order": null,
            "overflow": null,
            "overflow_x": null,
            "overflow_y": null,
            "padding": null,
            "right": null,
            "top": null,
            "visibility": null,
            "width": null
          }
        },
        "5f222e0077114b8db611bed1bc7ac984": {
          "model_module": "@jupyter-widgets/controls",
          "model_name": "DescriptionStyleModel",
          "model_module_version": "1.5.0",
          "state": {
            "_model_module": "@jupyter-widgets/controls",
            "_model_module_version": "1.5.0",
            "_model_name": "DescriptionStyleModel",
            "_view_count": null,
            "_view_module": "@jupyter-widgets/base",
            "_view_module_version": "1.2.0",
            "_view_name": "StyleView",
            "description_width": ""
          }
        },
        "646095b29b304bcbbcd406b80da4ba82": {
          "model_module": "@jupyter-widgets/base",
          "model_name": "LayoutModel",
          "model_module_version": "1.2.0",
          "state": {
            "_model_module": "@jupyter-widgets/base",
            "_model_module_version": "1.2.0",
            "_model_name": "LayoutModel",
            "_view_count": null,
            "_view_module": "@jupyter-widgets/base",
            "_view_module_version": "1.2.0",
            "_view_name": "LayoutView",
            "align_content": null,
            "align_items": null,
            "align_self": null,
            "border": null,
            "bottom": null,
            "display": null,
            "flex": null,
            "flex_flow": null,
            "grid_area": null,
            "grid_auto_columns": null,
            "grid_auto_flow": null,
            "grid_auto_rows": null,
            "grid_column": null,
            "grid_gap": null,
            "grid_row": null,
            "grid_template_areas": null,
            "grid_template_columns": null,
            "grid_template_rows": null,
            "height": null,
            "justify_content": null,
            "justify_items": null,
            "left": null,
            "margin": null,
            "max_height": null,
            "max_width": null,
            "min_height": null,
            "min_width": null,
            "object_fit": null,
            "object_position": null,
            "order": null,
            "overflow": null,
            "overflow_x": null,
            "overflow_y": null,
            "padding": null,
            "right": null,
            "top": null,
            "visibility": null,
            "width": null
          }
        },
        "e1255506290f4b72b973c0a5c71af5e1": {
          "model_module": "@jupyter-widgets/controls",
          "model_name": "ProgressStyleModel",
          "model_module_version": "1.5.0",
          "state": {
            "_model_module": "@jupyter-widgets/controls",
            "_model_module_version": "1.5.0",
            "_model_name": "ProgressStyleModel",
            "_view_count": null,
            "_view_module": "@jupyter-widgets/base",
            "_view_module_version": "1.2.0",
            "_view_name": "StyleView",
            "bar_color": null,
            "description_width": ""
          }
        },
        "61ba1293f70e491099f132e697884d07": {
          "model_module": "@jupyter-widgets/base",
          "model_name": "LayoutModel",
          "model_module_version": "1.2.0",
          "state": {
            "_model_module": "@jupyter-widgets/base",
            "_model_module_version": "1.2.0",
            "_model_name": "LayoutModel",
            "_view_count": null,
            "_view_module": "@jupyter-widgets/base",
            "_view_module_version": "1.2.0",
            "_view_name": "LayoutView",
            "align_content": null,
            "align_items": null,
            "align_self": null,
            "border": null,
            "bottom": null,
            "display": null,
            "flex": null,
            "flex_flow": null,
            "grid_area": null,
            "grid_auto_columns": null,
            "grid_auto_flow": null,
            "grid_auto_rows": null,
            "grid_column": null,
            "grid_gap": null,
            "grid_row": null,
            "grid_template_areas": null,
            "grid_template_columns": null,
            "grid_template_rows": null,
            "height": null,
            "justify_content": null,
            "justify_items": null,
            "left": null,
            "margin": null,
            "max_height": null,
            "max_width": null,
            "min_height": null,
            "min_width": null,
            "object_fit": null,
            "object_position": null,
            "order": null,
            "overflow": null,
            "overflow_x": null,
            "overflow_y": null,
            "padding": null,
            "right": null,
            "top": null,
            "visibility": null,
            "width": null
          }
        },
        "f6b570479f5e4715bc69bd27160bfe05": {
          "model_module": "@jupyter-widgets/controls",
          "model_name": "DescriptionStyleModel",
          "model_module_version": "1.5.0",
          "state": {
            "_model_module": "@jupyter-widgets/controls",
            "_model_module_version": "1.5.0",
            "_model_name": "DescriptionStyleModel",
            "_view_count": null,
            "_view_module": "@jupyter-widgets/base",
            "_view_module_version": "1.2.0",
            "_view_name": "StyleView",
            "description_width": ""
          }
        },
        "b07ab65d94bc40adb7f90ebccbf89c2a": {
          "model_module": "@jupyter-widgets/controls",
          "model_name": "HBoxModel",
          "model_module_version": "1.5.0",
          "state": {
            "_dom_classes": [],
            "_model_module": "@jupyter-widgets/controls",
            "_model_module_version": "1.5.0",
            "_model_name": "HBoxModel",
            "_view_count": null,
            "_view_module": "@jupyter-widgets/controls",
            "_view_module_version": "1.5.0",
            "_view_name": "HBoxView",
            "box_style": "",
            "children": [
              "IPY_MODEL_0cdff1c3c86343d0b5fd2ee2d992ae93",
              "IPY_MODEL_faf52c64feaa4dd8950fc463d30aeef9",
              "IPY_MODEL_199733ce60bc448885792c58ea1d90d1"
            ],
            "layout": "IPY_MODEL_9dd9e577ec464e2daae877fe3185e4fe"
          }
        },
        "0cdff1c3c86343d0b5fd2ee2d992ae93": {
          "model_module": "@jupyter-widgets/controls",
          "model_name": "HTMLModel",
          "model_module_version": "1.5.0",
          "state": {
            "_dom_classes": [],
            "_model_module": "@jupyter-widgets/controls",
            "_model_module_version": "1.5.0",
            "_model_name": "HTMLModel",
            "_view_count": null,
            "_view_module": "@jupyter-widgets/controls",
            "_view_module_version": "1.5.0",
            "_view_name": "HTMLView",
            "description": "",
            "description_tooltip": null,
            "layout": "IPY_MODEL_939e2adbfbec4e7594af04f804bcd930",
            "placeholder": "​",
            "style": "IPY_MODEL_e1b82655a5a14a7587ce3ac556f2e7f3",
            "value": "100%"
          }
        },
        "faf52c64feaa4dd8950fc463d30aeef9": {
          "model_module": "@jupyter-widgets/controls",
          "model_name": "FloatProgressModel",
          "model_module_version": "1.5.0",
          "state": {
            "_dom_classes": [],
            "_model_module": "@jupyter-widgets/controls",
            "_model_module_version": "1.5.0",
            "_model_name": "FloatProgressModel",
            "_view_count": null,
            "_view_module": "@jupyter-widgets/controls",
            "_view_module_version": "1.5.0",
            "_view_name": "ProgressView",
            "bar_style": "success",
            "description": "",
            "description_tooltip": null,
            "layout": "IPY_MODEL_03017580e3e64152974a142669d40aa8",
            "max": 313,
            "min": 0,
            "orientation": "horizontal",
            "style": "IPY_MODEL_550065816c5140de8733fb64abd2acc5",
            "value": 313
          }
        },
        "199733ce60bc448885792c58ea1d90d1": {
          "model_module": "@jupyter-widgets/controls",
          "model_name": "HTMLModel",
          "model_module_version": "1.5.0",
          "state": {
            "_dom_classes": [],
            "_model_module": "@jupyter-widgets/controls",
            "_model_module_version": "1.5.0",
            "_model_name": "HTMLModel",
            "_view_count": null,
            "_view_module": "@jupyter-widgets/controls",
            "_view_module_version": "1.5.0",
            "_view_name": "HTMLView",
            "description": "",
            "description_tooltip": null,
            "layout": "IPY_MODEL_a132c17140784690b87becdecd65821a",
            "placeholder": "​",
            "style": "IPY_MODEL_d2d5a987a8f442dfbb08444cd58a76d5",
            "value": " 313/313 [00:01&lt;00:00, 156.43it/s]"
          }
        },
        "9dd9e577ec464e2daae877fe3185e4fe": {
          "model_module": "@jupyter-widgets/base",
          "model_name": "LayoutModel",
          "model_module_version": "1.2.0",
          "state": {
            "_model_module": "@jupyter-widgets/base",
            "_model_module_version": "1.2.0",
            "_model_name": "LayoutModel",
            "_view_count": null,
            "_view_module": "@jupyter-widgets/base",
            "_view_module_version": "1.2.0",
            "_view_name": "LayoutView",
            "align_content": null,
            "align_items": null,
            "align_self": null,
            "border": null,
            "bottom": null,
            "display": null,
            "flex": null,
            "flex_flow": null,
            "grid_area": null,
            "grid_auto_columns": null,
            "grid_auto_flow": null,
            "grid_auto_rows": null,
            "grid_column": null,
            "grid_gap": null,
            "grid_row": null,
            "grid_template_areas": null,
            "grid_template_columns": null,
            "grid_template_rows": null,
            "height": null,
            "justify_content": null,
            "justify_items": null,
            "left": null,
            "margin": null,
            "max_height": null,
            "max_width": null,
            "min_height": null,
            "min_width": null,
            "object_fit": null,
            "object_position": null,
            "order": null,
            "overflow": null,
            "overflow_x": null,
            "overflow_y": null,
            "padding": null,
            "right": null,
            "top": null,
            "visibility": null,
            "width": null
          }
        },
        "939e2adbfbec4e7594af04f804bcd930": {
          "model_module": "@jupyter-widgets/base",
          "model_name": "LayoutModel",
          "model_module_version": "1.2.0",
          "state": {
            "_model_module": "@jupyter-widgets/base",
            "_model_module_version": "1.2.0",
            "_model_name": "LayoutModel",
            "_view_count": null,
            "_view_module": "@jupyter-widgets/base",
            "_view_module_version": "1.2.0",
            "_view_name": "LayoutView",
            "align_content": null,
            "align_items": null,
            "align_self": null,
            "border": null,
            "bottom": null,
            "display": null,
            "flex": null,
            "flex_flow": null,
            "grid_area": null,
            "grid_auto_columns": null,
            "grid_auto_flow": null,
            "grid_auto_rows": null,
            "grid_column": null,
            "grid_gap": null,
            "grid_row": null,
            "grid_template_areas": null,
            "grid_template_columns": null,
            "grid_template_rows": null,
            "height": null,
            "justify_content": null,
            "justify_items": null,
            "left": null,
            "margin": null,
            "max_height": null,
            "max_width": null,
            "min_height": null,
            "min_width": null,
            "object_fit": null,
            "object_position": null,
            "order": null,
            "overflow": null,
            "overflow_x": null,
            "overflow_y": null,
            "padding": null,
            "right": null,
            "top": null,
            "visibility": null,
            "width": null
          }
        },
        "e1b82655a5a14a7587ce3ac556f2e7f3": {
          "model_module": "@jupyter-widgets/controls",
          "model_name": "DescriptionStyleModel",
          "model_module_version": "1.5.0",
          "state": {
            "_model_module": "@jupyter-widgets/controls",
            "_model_module_version": "1.5.0",
            "_model_name": "DescriptionStyleModel",
            "_view_count": null,
            "_view_module": "@jupyter-widgets/base",
            "_view_module_version": "1.2.0",
            "_view_name": "StyleView",
            "description_width": ""
          }
        },
        "03017580e3e64152974a142669d40aa8": {
          "model_module": "@jupyter-widgets/base",
          "model_name": "LayoutModel",
          "model_module_version": "1.2.0",
          "state": {
            "_model_module": "@jupyter-widgets/base",
            "_model_module_version": "1.2.0",
            "_model_name": "LayoutModel",
            "_view_count": null,
            "_view_module": "@jupyter-widgets/base",
            "_view_module_version": "1.2.0",
            "_view_name": "LayoutView",
            "align_content": null,
            "align_items": null,
            "align_self": null,
            "border": null,
            "bottom": null,
            "display": null,
            "flex": null,
            "flex_flow": null,
            "grid_area": null,
            "grid_auto_columns": null,
            "grid_auto_flow": null,
            "grid_auto_rows": null,
            "grid_column": null,
            "grid_gap": null,
            "grid_row": null,
            "grid_template_areas": null,
            "grid_template_columns": null,
            "grid_template_rows": null,
            "height": null,
            "justify_content": null,
            "justify_items": null,
            "left": null,
            "margin": null,
            "max_height": null,
            "max_width": null,
            "min_height": null,
            "min_width": null,
            "object_fit": null,
            "object_position": null,
            "order": null,
            "overflow": null,
            "overflow_x": null,
            "overflow_y": null,
            "padding": null,
            "right": null,
            "top": null,
            "visibility": null,
            "width": null
          }
        },
        "550065816c5140de8733fb64abd2acc5": {
          "model_module": "@jupyter-widgets/controls",
          "model_name": "ProgressStyleModel",
          "model_module_version": "1.5.0",
          "state": {
            "_model_module": "@jupyter-widgets/controls",
            "_model_module_version": "1.5.0",
            "_model_name": "ProgressStyleModel",
            "_view_count": null,
            "_view_module": "@jupyter-widgets/base",
            "_view_module_version": "1.2.0",
            "_view_name": "StyleView",
            "bar_color": null,
            "description_width": ""
          }
        },
        "a132c17140784690b87becdecd65821a": {
          "model_module": "@jupyter-widgets/base",
          "model_name": "LayoutModel",
          "model_module_version": "1.2.0",
          "state": {
            "_model_module": "@jupyter-widgets/base",
            "_model_module_version": "1.2.0",
            "_model_name": "LayoutModel",
            "_view_count": null,
            "_view_module": "@jupyter-widgets/base",
            "_view_module_version": "1.2.0",
            "_view_name": "LayoutView",
            "align_content": null,
            "align_items": null,
            "align_self": null,
            "border": null,
            "bottom": null,
            "display": null,
            "flex": null,
            "flex_flow": null,
            "grid_area": null,
            "grid_auto_columns": null,
            "grid_auto_flow": null,
            "grid_auto_rows": null,
            "grid_column": null,
            "grid_gap": null,
            "grid_row": null,
            "grid_template_areas": null,
            "grid_template_columns": null,
            "grid_template_rows": null,
            "height": null,
            "justify_content": null,
            "justify_items": null,
            "left": null,
            "margin": null,
            "max_height": null,
            "max_width": null,
            "min_height": null,
            "min_width": null,
            "object_fit": null,
            "object_position": null,
            "order": null,
            "overflow": null,
            "overflow_x": null,
            "overflow_y": null,
            "padding": null,
            "right": null,
            "top": null,
            "visibility": null,
            "width": null
          }
        },
        "d2d5a987a8f442dfbb08444cd58a76d5": {
          "model_module": "@jupyter-widgets/controls",
          "model_name": "DescriptionStyleModel",
          "model_module_version": "1.5.0",
          "state": {
            "_model_module": "@jupyter-widgets/controls",
            "_model_module_version": "1.5.0",
            "_model_name": "DescriptionStyleModel",
            "_view_count": null,
            "_view_module": "@jupyter-widgets/base",
            "_view_module_version": "1.2.0",
            "_view_name": "StyleView",
            "description_width": ""
          }
        },
        "c74426437f39494693768ebd1cf245e6": {
          "model_module": "@jupyter-widgets/controls",
          "model_name": "HBoxModel",
          "model_module_version": "1.5.0",
          "state": {
            "_dom_classes": [],
            "_model_module": "@jupyter-widgets/controls",
            "_model_module_version": "1.5.0",
            "_model_name": "HBoxModel",
            "_view_count": null,
            "_view_module": "@jupyter-widgets/controls",
            "_view_module_version": "1.5.0",
            "_view_name": "HBoxView",
            "box_style": "",
            "children": [
              "IPY_MODEL_953421aff65047e48a7418f3998483c7",
              "IPY_MODEL_945aedfa9f18447eb9d81513cd0afd2e",
              "IPY_MODEL_f9ed4782b62a496d9ee39b494ccbe7ae"
            ],
            "layout": "IPY_MODEL_52630342f40f48f2bd7e4211636c6ace"
          }
        },
        "953421aff65047e48a7418f3998483c7": {
          "model_module": "@jupyter-widgets/controls",
          "model_name": "HTMLModel",
          "model_module_version": "1.5.0",
          "state": {
            "_dom_classes": [],
            "_model_module": "@jupyter-widgets/controls",
            "_model_module_version": "1.5.0",
            "_model_name": "HTMLModel",
            "_view_count": null,
            "_view_module": "@jupyter-widgets/controls",
            "_view_module_version": "1.5.0",
            "_view_name": "HTMLView",
            "description": "",
            "description_tooltip": null,
            "layout": "IPY_MODEL_05c584f5c5a44ab09850a096ce01c5d3",
            "placeholder": "​",
            "style": "IPY_MODEL_4af906dc2c024bd88722760b19791f86",
            "value": "100%"
          }
        },
        "945aedfa9f18447eb9d81513cd0afd2e": {
          "model_module": "@jupyter-widgets/controls",
          "model_name": "FloatProgressModel",
          "model_module_version": "1.5.0",
          "state": {
            "_dom_classes": [],
            "_model_module": "@jupyter-widgets/controls",
            "_model_module_version": "1.5.0",
            "_model_name": "FloatProgressModel",
            "_view_count": null,
            "_view_module": "@jupyter-widgets/controls",
            "_view_module_version": "1.5.0",
            "_view_name": "ProgressView",
            "bar_style": "success",
            "description": "",
            "description_tooltip": null,
            "layout": "IPY_MODEL_f3f0afec579540dbb15d2f97515587e6",
            "max": 3,
            "min": 0,
            "orientation": "horizontal",
            "style": "IPY_MODEL_0e999ed8aa0e438aa3a08008c268ea92",
            "value": 3
          }
        },
        "f9ed4782b62a496d9ee39b494ccbe7ae": {
          "model_module": "@jupyter-widgets/controls",
          "model_name": "HTMLModel",
          "model_module_version": "1.5.0",
          "state": {
            "_dom_classes": [],
            "_model_module": "@jupyter-widgets/controls",
            "_model_module_version": "1.5.0",
            "_model_name": "HTMLModel",
            "_view_count": null,
            "_view_module": "@jupyter-widgets/controls",
            "_view_module_version": "1.5.0",
            "_view_name": "HTMLView",
            "description": "",
            "description_tooltip": null,
            "layout": "IPY_MODEL_0c026b01224546e9b45113b4f801014d",
            "placeholder": "​",
            "style": "IPY_MODEL_225d131cb6484718aa0676cf042fcd66",
            "value": " 3/3 [02:37&lt;00:00, 52.12s/it]"
          }
        },
        "52630342f40f48f2bd7e4211636c6ace": {
          "model_module": "@jupyter-widgets/base",
          "model_name": "LayoutModel",
          "model_module_version": "1.2.0",
          "state": {
            "_model_module": "@jupyter-widgets/base",
            "_model_module_version": "1.2.0",
            "_model_name": "LayoutModel",
            "_view_count": null,
            "_view_module": "@jupyter-widgets/base",
            "_view_module_version": "1.2.0",
            "_view_name": "LayoutView",
            "align_content": null,
            "align_items": null,
            "align_self": null,
            "border": null,
            "bottom": null,
            "display": null,
            "flex": null,
            "flex_flow": null,
            "grid_area": null,
            "grid_auto_columns": null,
            "grid_auto_flow": null,
            "grid_auto_rows": null,
            "grid_column": null,
            "grid_gap": null,
            "grid_row": null,
            "grid_template_areas": null,
            "grid_template_columns": null,
            "grid_template_rows": null,
            "height": null,
            "justify_content": null,
            "justify_items": null,
            "left": null,
            "margin": null,
            "max_height": null,
            "max_width": null,
            "min_height": null,
            "min_width": null,
            "object_fit": null,
            "object_position": null,
            "order": null,
            "overflow": null,
            "overflow_x": null,
            "overflow_y": null,
            "padding": null,
            "right": null,
            "top": null,
            "visibility": null,
            "width": null
          }
        },
        "05c584f5c5a44ab09850a096ce01c5d3": {
          "model_module": "@jupyter-widgets/base",
          "model_name": "LayoutModel",
          "model_module_version": "1.2.0",
          "state": {
            "_model_module": "@jupyter-widgets/base",
            "_model_module_version": "1.2.0",
            "_model_name": "LayoutModel",
            "_view_count": null,
            "_view_module": "@jupyter-widgets/base",
            "_view_module_version": "1.2.0",
            "_view_name": "LayoutView",
            "align_content": null,
            "align_items": null,
            "align_self": null,
            "border": null,
            "bottom": null,
            "display": null,
            "flex": null,
            "flex_flow": null,
            "grid_area": null,
            "grid_auto_columns": null,
            "grid_auto_flow": null,
            "grid_auto_rows": null,
            "grid_column": null,
            "grid_gap": null,
            "grid_row": null,
            "grid_template_areas": null,
            "grid_template_columns": null,
            "grid_template_rows": null,
            "height": null,
            "justify_content": null,
            "justify_items": null,
            "left": null,
            "margin": null,
            "max_height": null,
            "max_width": null,
            "min_height": null,
            "min_width": null,
            "object_fit": null,
            "object_position": null,
            "order": null,
            "overflow": null,
            "overflow_x": null,
            "overflow_y": null,
            "padding": null,
            "right": null,
            "top": null,
            "visibility": null,
            "width": null
          }
        },
        "4af906dc2c024bd88722760b19791f86": {
          "model_module": "@jupyter-widgets/controls",
          "model_name": "DescriptionStyleModel",
          "model_module_version": "1.5.0",
          "state": {
            "_model_module": "@jupyter-widgets/controls",
            "_model_module_version": "1.5.0",
            "_model_name": "DescriptionStyleModel",
            "_view_count": null,
            "_view_module": "@jupyter-widgets/base",
            "_view_module_version": "1.2.0",
            "_view_name": "StyleView",
            "description_width": ""
          }
        },
        "f3f0afec579540dbb15d2f97515587e6": {
          "model_module": "@jupyter-widgets/base",
          "model_name": "LayoutModel",
          "model_module_version": "1.2.0",
          "state": {
            "_model_module": "@jupyter-widgets/base",
            "_model_module_version": "1.2.0",
            "_model_name": "LayoutModel",
            "_view_count": null,
            "_view_module": "@jupyter-widgets/base",
            "_view_module_version": "1.2.0",
            "_view_name": "LayoutView",
            "align_content": null,
            "align_items": null,
            "align_self": null,
            "border": null,
            "bottom": null,
            "display": null,
            "flex": null,
            "flex_flow": null,
            "grid_area": null,
            "grid_auto_columns": null,
            "grid_auto_flow": null,
            "grid_auto_rows": null,
            "grid_column": null,
            "grid_gap": null,
            "grid_row": null,
            "grid_template_areas": null,
            "grid_template_columns": null,
            "grid_template_rows": null,
            "height": null,
            "justify_content": null,
            "justify_items": null,
            "left": null,
            "margin": null,
            "max_height": null,
            "max_width": null,
            "min_height": null,
            "min_width": null,
            "object_fit": null,
            "object_position": null,
            "order": null,
            "overflow": null,
            "overflow_x": null,
            "overflow_y": null,
            "padding": null,
            "right": null,
            "top": null,
            "visibility": null,
            "width": null
          }
        },
        "0e999ed8aa0e438aa3a08008c268ea92": {
          "model_module": "@jupyter-widgets/controls",
          "model_name": "ProgressStyleModel",
          "model_module_version": "1.5.0",
          "state": {
            "_model_module": "@jupyter-widgets/controls",
            "_model_module_version": "1.5.0",
            "_model_name": "ProgressStyleModel",
            "_view_count": null,
            "_view_module": "@jupyter-widgets/base",
            "_view_module_version": "1.2.0",
            "_view_name": "StyleView",
            "bar_color": null,
            "description_width": ""
          }
        },
        "0c026b01224546e9b45113b4f801014d": {
          "model_module": "@jupyter-widgets/base",
          "model_name": "LayoutModel",
          "model_module_version": "1.2.0",
          "state": {
            "_model_module": "@jupyter-widgets/base",
            "_model_module_version": "1.2.0",
            "_model_name": "LayoutModel",
            "_view_count": null,
            "_view_module": "@jupyter-widgets/base",
            "_view_module_version": "1.2.0",
            "_view_name": "LayoutView",
            "align_content": null,
            "align_items": null,
            "align_self": null,
            "border": null,
            "bottom": null,
            "display": null,
            "flex": null,
            "flex_flow": null,
            "grid_area": null,
            "grid_auto_columns": null,
            "grid_auto_flow": null,
            "grid_auto_rows": null,
            "grid_column": null,
            "grid_gap": null,
            "grid_row": null,
            "grid_template_areas": null,
            "grid_template_columns": null,
            "grid_template_rows": null,
            "height": null,
            "justify_content": null,
            "justify_items": null,
            "left": null,
            "margin": null,
            "max_height": null,
            "max_width": null,
            "min_height": null,
            "min_width": null,
            "object_fit": null,
            "object_position": null,
            "order": null,
            "overflow": null,
            "overflow_x": null,
            "overflow_y": null,
            "padding": null,
            "right": null,
            "top": null,
            "visibility": null,
            "width": null
          }
        },
        "225d131cb6484718aa0676cf042fcd66": {
          "model_module": "@jupyter-widgets/controls",
          "model_name": "DescriptionStyleModel",
          "model_module_version": "1.5.0",
          "state": {
            "_model_module": "@jupyter-widgets/controls",
            "_model_module_version": "1.5.0",
            "_model_name": "DescriptionStyleModel",
            "_view_count": null,
            "_view_module": "@jupyter-widgets/base",
            "_view_module_version": "1.2.0",
            "_view_name": "StyleView",
            "description_width": ""
          }
        },
        "99aa77e4b42c471790d1831ded0b6de7": {
          "model_module": "@jupyter-widgets/controls",
          "model_name": "HBoxModel",
          "model_module_version": "1.5.0",
          "state": {
            "_dom_classes": [],
            "_model_module": "@jupyter-widgets/controls",
            "_model_module_version": "1.5.0",
            "_model_name": "HBoxModel",
            "_view_count": null,
            "_view_module": "@jupyter-widgets/controls",
            "_view_module_version": "1.5.0",
            "_view_name": "HBoxView",
            "box_style": "",
            "children": [
              "IPY_MODEL_79a66fef5a2b42c28a9ed15bfbce1c3a",
              "IPY_MODEL_ef157dc979a34935be7fd5e8fc133fd9",
              "IPY_MODEL_86c9ffe9ce1f444c873918fd77d09497"
            ],
            "layout": "IPY_MODEL_a37f623884504782bfe3a035798fcbc5"
          }
        },
        "79a66fef5a2b42c28a9ed15bfbce1c3a": {
          "model_module": "@jupyter-widgets/controls",
          "model_name": "HTMLModel",
          "model_module_version": "1.5.0",
          "state": {
            "_dom_classes": [],
            "_model_module": "@jupyter-widgets/controls",
            "_model_module_version": "1.5.0",
            "_model_name": "HTMLModel",
            "_view_count": null,
            "_view_module": "@jupyter-widgets/controls",
            "_view_module_version": "1.5.0",
            "_view_name": "HTMLView",
            "description": "",
            "description_tooltip": null,
            "layout": "IPY_MODEL_026505cc47dd444a82886af145ab45f3",
            "placeholder": "​",
            "style": "IPY_MODEL_16a1abd7bfa846ae8fa255a4669ac977",
            "value": "100%"
          }
        },
        "ef157dc979a34935be7fd5e8fc133fd9": {
          "model_module": "@jupyter-widgets/controls",
          "model_name": "FloatProgressModel",
          "model_module_version": "1.5.0",
          "state": {
            "_dom_classes": [],
            "_model_module": "@jupyter-widgets/controls",
            "_model_module_version": "1.5.0",
            "_model_name": "FloatProgressModel",
            "_view_count": null,
            "_view_module": "@jupyter-widgets/controls",
            "_view_module_version": "1.5.0",
            "_view_name": "ProgressView",
            "bar_style": "success",
            "description": "",
            "description_tooltip": null,
            "layout": "IPY_MODEL_30e79a63b46047e9a4be48359f809e78",
            "max": 313,
            "min": 0,
            "orientation": "horizontal",
            "style": "IPY_MODEL_982263c31594450a847692c580e29e9b",
            "value": 313
          }
        },
        "86c9ffe9ce1f444c873918fd77d09497": {
          "model_module": "@jupyter-widgets/controls",
          "model_name": "HTMLModel",
          "model_module_version": "1.5.0",
          "state": {
            "_dom_classes": [],
            "_model_module": "@jupyter-widgets/controls",
            "_model_module_version": "1.5.0",
            "_model_name": "HTMLModel",
            "_view_count": null,
            "_view_module": "@jupyter-widgets/controls",
            "_view_module_version": "1.5.0",
            "_view_name": "HTMLView",
            "description": "",
            "description_tooltip": null,
            "layout": "IPY_MODEL_3884df1b9e16401da18092cb8b915797",
            "placeholder": "​",
            "style": "IPY_MODEL_b93a5e2a75544ed6a93186df8249150e",
            "value": " 313/313 [00:05&lt;00:00, 80.96it/s]"
          }
        },
        "a37f623884504782bfe3a035798fcbc5": {
          "model_module": "@jupyter-widgets/base",
          "model_name": "LayoutModel",
          "model_module_version": "1.2.0",
          "state": {
            "_model_module": "@jupyter-widgets/base",
            "_model_module_version": "1.2.0",
            "_model_name": "LayoutModel",
            "_view_count": null,
            "_view_module": "@jupyter-widgets/base",
            "_view_module_version": "1.2.0",
            "_view_name": "LayoutView",
            "align_content": null,
            "align_items": null,
            "align_self": null,
            "border": null,
            "bottom": null,
            "display": null,
            "flex": null,
            "flex_flow": null,
            "grid_area": null,
            "grid_auto_columns": null,
            "grid_auto_flow": null,
            "grid_auto_rows": null,
            "grid_column": null,
            "grid_gap": null,
            "grid_row": null,
            "grid_template_areas": null,
            "grid_template_columns": null,
            "grid_template_rows": null,
            "height": null,
            "justify_content": null,
            "justify_items": null,
            "left": null,
            "margin": null,
            "max_height": null,
            "max_width": null,
            "min_height": null,
            "min_width": null,
            "object_fit": null,
            "object_position": null,
            "order": null,
            "overflow": null,
            "overflow_x": null,
            "overflow_y": null,
            "padding": null,
            "right": null,
            "top": null,
            "visibility": null,
            "width": null
          }
        },
        "026505cc47dd444a82886af145ab45f3": {
          "model_module": "@jupyter-widgets/base",
          "model_name": "LayoutModel",
          "model_module_version": "1.2.0",
          "state": {
            "_model_module": "@jupyter-widgets/base",
            "_model_module_version": "1.2.0",
            "_model_name": "LayoutModel",
            "_view_count": null,
            "_view_module": "@jupyter-widgets/base",
            "_view_module_version": "1.2.0",
            "_view_name": "LayoutView",
            "align_content": null,
            "align_items": null,
            "align_self": null,
            "border": null,
            "bottom": null,
            "display": null,
            "flex": null,
            "flex_flow": null,
            "grid_area": null,
            "grid_auto_columns": null,
            "grid_auto_flow": null,
            "grid_auto_rows": null,
            "grid_column": null,
            "grid_gap": null,
            "grid_row": null,
            "grid_template_areas": null,
            "grid_template_columns": null,
            "grid_template_rows": null,
            "height": null,
            "justify_content": null,
            "justify_items": null,
            "left": null,
            "margin": null,
            "max_height": null,
            "max_width": null,
            "min_height": null,
            "min_width": null,
            "object_fit": null,
            "object_position": null,
            "order": null,
            "overflow": null,
            "overflow_x": null,
            "overflow_y": null,
            "padding": null,
            "right": null,
            "top": null,
            "visibility": null,
            "width": null
          }
        },
        "16a1abd7bfa846ae8fa255a4669ac977": {
          "model_module": "@jupyter-widgets/controls",
          "model_name": "DescriptionStyleModel",
          "model_module_version": "1.5.0",
          "state": {
            "_model_module": "@jupyter-widgets/controls",
            "_model_module_version": "1.5.0",
            "_model_name": "DescriptionStyleModel",
            "_view_count": null,
            "_view_module": "@jupyter-widgets/base",
            "_view_module_version": "1.2.0",
            "_view_name": "StyleView",
            "description_width": ""
          }
        },
        "30e79a63b46047e9a4be48359f809e78": {
          "model_module": "@jupyter-widgets/base",
          "model_name": "LayoutModel",
          "model_module_version": "1.2.0",
          "state": {
            "_model_module": "@jupyter-widgets/base",
            "_model_module_version": "1.2.0",
            "_model_name": "LayoutModel",
            "_view_count": null,
            "_view_module": "@jupyter-widgets/base",
            "_view_module_version": "1.2.0",
            "_view_name": "LayoutView",
            "align_content": null,
            "align_items": null,
            "align_self": null,
            "border": null,
            "bottom": null,
            "display": null,
            "flex": null,
            "flex_flow": null,
            "grid_area": null,
            "grid_auto_columns": null,
            "grid_auto_flow": null,
            "grid_auto_rows": null,
            "grid_column": null,
            "grid_gap": null,
            "grid_row": null,
            "grid_template_areas": null,
            "grid_template_columns": null,
            "grid_template_rows": null,
            "height": null,
            "justify_content": null,
            "justify_items": null,
            "left": null,
            "margin": null,
            "max_height": null,
            "max_width": null,
            "min_height": null,
            "min_width": null,
            "object_fit": null,
            "object_position": null,
            "order": null,
            "overflow": null,
            "overflow_x": null,
            "overflow_y": null,
            "padding": null,
            "right": null,
            "top": null,
            "visibility": null,
            "width": null
          }
        },
        "982263c31594450a847692c580e29e9b": {
          "model_module": "@jupyter-widgets/controls",
          "model_name": "ProgressStyleModel",
          "model_module_version": "1.5.0",
          "state": {
            "_model_module": "@jupyter-widgets/controls",
            "_model_module_version": "1.5.0",
            "_model_name": "ProgressStyleModel",
            "_view_count": null,
            "_view_module": "@jupyter-widgets/base",
            "_view_module_version": "1.2.0",
            "_view_name": "StyleView",
            "bar_color": null,
            "description_width": ""
          }
        },
        "3884df1b9e16401da18092cb8b915797": {
          "model_module": "@jupyter-widgets/base",
          "model_name": "LayoutModel",
          "model_module_version": "1.2.0",
          "state": {
            "_model_module": "@jupyter-widgets/base",
            "_model_module_version": "1.2.0",
            "_model_name": "LayoutModel",
            "_view_count": null,
            "_view_module": "@jupyter-widgets/base",
            "_view_module_version": "1.2.0",
            "_view_name": "LayoutView",
            "align_content": null,
            "align_items": null,
            "align_self": null,
            "border": null,
            "bottom": null,
            "display": null,
            "flex": null,
            "flex_flow": null,
            "grid_area": null,
            "grid_auto_columns": null,
            "grid_auto_flow": null,
            "grid_auto_rows": null,
            "grid_column": null,
            "grid_gap": null,
            "grid_row": null,
            "grid_template_areas": null,
            "grid_template_columns": null,
            "grid_template_rows": null,
            "height": null,
            "justify_content": null,
            "justify_items": null,
            "left": null,
            "margin": null,
            "max_height": null,
            "max_width": null,
            "min_height": null,
            "min_width": null,
            "object_fit": null,
            "object_position": null,
            "order": null,
            "overflow": null,
            "overflow_x": null,
            "overflow_y": null,
            "padding": null,
            "right": null,
            "top": null,
            "visibility": null,
            "width": null
          }
        },
        "b93a5e2a75544ed6a93186df8249150e": {
          "model_module": "@jupyter-widgets/controls",
          "model_name": "DescriptionStyleModel",
          "model_module_version": "1.5.0",
          "state": {
            "_model_module": "@jupyter-widgets/controls",
            "_model_module_version": "1.5.0",
            "_model_name": "DescriptionStyleModel",
            "_view_count": null,
            "_view_module": "@jupyter-widgets/base",
            "_view_module_version": "1.2.0",
            "_view_name": "StyleView",
            "description_width": ""
          }
        },
        "743b47c39416490e9e60a512eb7c927f": {
          "model_module": "@jupyter-widgets/controls",
          "model_name": "HBoxModel",
          "model_module_version": "1.5.0",
          "state": {
            "_dom_classes": [],
            "_model_module": "@jupyter-widgets/controls",
            "_model_module_version": "1.5.0",
            "_model_name": "HBoxModel",
            "_view_count": null,
            "_view_module": "@jupyter-widgets/controls",
            "_view_module_version": "1.5.0",
            "_view_name": "HBoxView",
            "box_style": "",
            "children": [
              "IPY_MODEL_516ca89baa5b4ac5a1f27f9a35137564",
              "IPY_MODEL_b37ce845544a4d73beb5a01581eae6bf",
              "IPY_MODEL_6de645345bc44d67b77ce36a84502f68"
            ],
            "layout": "IPY_MODEL_0e15b943052b4f4b833e9ced7f2bba4f"
          }
        },
        "516ca89baa5b4ac5a1f27f9a35137564": {
          "model_module": "@jupyter-widgets/controls",
          "model_name": "HTMLModel",
          "model_module_version": "1.5.0",
          "state": {
            "_dom_classes": [],
            "_model_module": "@jupyter-widgets/controls",
            "_model_module_version": "1.5.0",
            "_model_name": "HTMLModel",
            "_view_count": null,
            "_view_module": "@jupyter-widgets/controls",
            "_view_module_version": "1.5.0",
            "_view_name": "HTMLView",
            "description": "",
            "description_tooltip": null,
            "layout": "IPY_MODEL_a262d716ea2b4b5d9a86cdb052473d03",
            "placeholder": "​",
            "style": "IPY_MODEL_9b831b6b299a48b19ed676711899dfed",
            "value": "Making Predictions.....: 100%"
          }
        },
        "b37ce845544a4d73beb5a01581eae6bf": {
          "model_module": "@jupyter-widgets/controls",
          "model_name": "FloatProgressModel",
          "model_module_version": "1.5.0",
          "state": {
            "_dom_classes": [],
            "_model_module": "@jupyter-widgets/controls",
            "_model_module_version": "1.5.0",
            "_model_name": "FloatProgressModel",
            "_view_count": null,
            "_view_module": "@jupyter-widgets/controls",
            "_view_module_version": "1.5.0",
            "_view_name": "ProgressView",
            "bar_style": "success",
            "description": "",
            "description_tooltip": null,
            "layout": "IPY_MODEL_e7cab557be66481fabdc8ea577a97d6c",
            "max": 313,
            "min": 0,
            "orientation": "horizontal",
            "style": "IPY_MODEL_45b747a48ec74154a11f0f966bd05b78",
            "value": 313
          }
        },
        "6de645345bc44d67b77ce36a84502f68": {
          "model_module": "@jupyter-widgets/controls",
          "model_name": "HTMLModel",
          "model_module_version": "1.5.0",
          "state": {
            "_dom_classes": [],
            "_model_module": "@jupyter-widgets/controls",
            "_model_module_version": "1.5.0",
            "_model_name": "HTMLModel",
            "_view_count": null,
            "_view_module": "@jupyter-widgets/controls",
            "_view_module_version": "1.5.0",
            "_view_name": "HTMLView",
            "description": "",
            "description_tooltip": null,
            "layout": "IPY_MODEL_863367d1790446ac982bd564b5a7c5e1",
            "placeholder": "​",
            "style": "IPY_MODEL_3f1a761a4f474186a7138dfa74c22d17",
            "value": " 313/313 [00:05&lt;00:00, 38.97it/s]"
          }
        },
        "0e15b943052b4f4b833e9ced7f2bba4f": {
          "model_module": "@jupyter-widgets/base",
          "model_name": "LayoutModel",
          "model_module_version": "1.2.0",
          "state": {
            "_model_module": "@jupyter-widgets/base",
            "_model_module_version": "1.2.0",
            "_model_name": "LayoutModel",
            "_view_count": null,
            "_view_module": "@jupyter-widgets/base",
            "_view_module_version": "1.2.0",
            "_view_name": "LayoutView",
            "align_content": null,
            "align_items": null,
            "align_self": null,
            "border": null,
            "bottom": null,
            "display": null,
            "flex": null,
            "flex_flow": null,
            "grid_area": null,
            "grid_auto_columns": null,
            "grid_auto_flow": null,
            "grid_auto_rows": null,
            "grid_column": null,
            "grid_gap": null,
            "grid_row": null,
            "grid_template_areas": null,
            "grid_template_columns": null,
            "grid_template_rows": null,
            "height": null,
            "justify_content": null,
            "justify_items": null,
            "left": null,
            "margin": null,
            "max_height": null,
            "max_width": null,
            "min_height": null,
            "min_width": null,
            "object_fit": null,
            "object_position": null,
            "order": null,
            "overflow": null,
            "overflow_x": null,
            "overflow_y": null,
            "padding": null,
            "right": null,
            "top": null,
            "visibility": null,
            "width": null
          }
        },
        "a262d716ea2b4b5d9a86cdb052473d03": {
          "model_module": "@jupyter-widgets/base",
          "model_name": "LayoutModel",
          "model_module_version": "1.2.0",
          "state": {
            "_model_module": "@jupyter-widgets/base",
            "_model_module_version": "1.2.0",
            "_model_name": "LayoutModel",
            "_view_count": null,
            "_view_module": "@jupyter-widgets/base",
            "_view_module_version": "1.2.0",
            "_view_name": "LayoutView",
            "align_content": null,
            "align_items": null,
            "align_self": null,
            "border": null,
            "bottom": null,
            "display": null,
            "flex": null,
            "flex_flow": null,
            "grid_area": null,
            "grid_auto_columns": null,
            "grid_auto_flow": null,
            "grid_auto_rows": null,
            "grid_column": null,
            "grid_gap": null,
            "grid_row": null,
            "grid_template_areas": null,
            "grid_template_columns": null,
            "grid_template_rows": null,
            "height": null,
            "justify_content": null,
            "justify_items": null,
            "left": null,
            "margin": null,
            "max_height": null,
            "max_width": null,
            "min_height": null,
            "min_width": null,
            "object_fit": null,
            "object_position": null,
            "order": null,
            "overflow": null,
            "overflow_x": null,
            "overflow_y": null,
            "padding": null,
            "right": null,
            "top": null,
            "visibility": null,
            "width": null
          }
        },
        "9b831b6b299a48b19ed676711899dfed": {
          "model_module": "@jupyter-widgets/controls",
          "model_name": "DescriptionStyleModel",
          "model_module_version": "1.5.0",
          "state": {
            "_model_module": "@jupyter-widgets/controls",
            "_model_module_version": "1.5.0",
            "_model_name": "DescriptionStyleModel",
            "_view_count": null,
            "_view_module": "@jupyter-widgets/base",
            "_view_module_version": "1.2.0",
            "_view_name": "StyleView",
            "description_width": ""
          }
        },
        "e7cab557be66481fabdc8ea577a97d6c": {
          "model_module": "@jupyter-widgets/base",
          "model_name": "LayoutModel",
          "model_module_version": "1.2.0",
          "state": {
            "_model_module": "@jupyter-widgets/base",
            "_model_module_version": "1.2.0",
            "_model_name": "LayoutModel",
            "_view_count": null,
            "_view_module": "@jupyter-widgets/base",
            "_view_module_version": "1.2.0",
            "_view_name": "LayoutView",
            "align_content": null,
            "align_items": null,
            "align_self": null,
            "border": null,
            "bottom": null,
            "display": null,
            "flex": null,
            "flex_flow": null,
            "grid_area": null,
            "grid_auto_columns": null,
            "grid_auto_flow": null,
            "grid_auto_rows": null,
            "grid_column": null,
            "grid_gap": null,
            "grid_row": null,
            "grid_template_areas": null,
            "grid_template_columns": null,
            "grid_template_rows": null,
            "height": null,
            "justify_content": null,
            "justify_items": null,
            "left": null,
            "margin": null,
            "max_height": null,
            "max_width": null,
            "min_height": null,
            "min_width": null,
            "object_fit": null,
            "object_position": null,
            "order": null,
            "overflow": null,
            "overflow_x": null,
            "overflow_y": null,
            "padding": null,
            "right": null,
            "top": null,
            "visibility": null,
            "width": null
          }
        },
        "45b747a48ec74154a11f0f966bd05b78": {
          "model_module": "@jupyter-widgets/controls",
          "model_name": "ProgressStyleModel",
          "model_module_version": "1.5.0",
          "state": {
            "_model_module": "@jupyter-widgets/controls",
            "_model_module_version": "1.5.0",
            "_model_name": "ProgressStyleModel",
            "_view_count": null,
            "_view_module": "@jupyter-widgets/base",
            "_view_module_version": "1.2.0",
            "_view_name": "StyleView",
            "bar_color": null,
            "description_width": ""
          }
        },
        "863367d1790446ac982bd564b5a7c5e1": {
          "model_module": "@jupyter-widgets/base",
          "model_name": "LayoutModel",
          "model_module_version": "1.2.0",
          "state": {
            "_model_module": "@jupyter-widgets/base",
            "_model_module_version": "1.2.0",
            "_model_name": "LayoutModel",
            "_view_count": null,
            "_view_module": "@jupyter-widgets/base",
            "_view_module_version": "1.2.0",
            "_view_name": "LayoutView",
            "align_content": null,
            "align_items": null,
            "align_self": null,
            "border": null,
            "bottom": null,
            "display": null,
            "flex": null,
            "flex_flow": null,
            "grid_area": null,
            "grid_auto_columns": null,
            "grid_auto_flow": null,
            "grid_auto_rows": null,
            "grid_column": null,
            "grid_gap": null,
            "grid_row": null,
            "grid_template_areas": null,
            "grid_template_columns": null,
            "grid_template_rows": null,
            "height": null,
            "justify_content": null,
            "justify_items": null,
            "left": null,
            "margin": null,
            "max_height": null,
            "max_width": null,
            "min_height": null,
            "min_width": null,
            "object_fit": null,
            "object_position": null,
            "order": null,
            "overflow": null,
            "overflow_x": null,
            "overflow_y": null,
            "padding": null,
            "right": null,
            "top": null,
            "visibility": null,
            "width": null
          }
        },
        "3f1a761a4f474186a7138dfa74c22d17": {
          "model_module": "@jupyter-widgets/controls",
          "model_name": "DescriptionStyleModel",
          "model_module_version": "1.5.0",
          "state": {
            "_model_module": "@jupyter-widgets/controls",
            "_model_module_version": "1.5.0",
            "_model_name": "DescriptionStyleModel",
            "_view_count": null,
            "_view_module": "@jupyter-widgets/base",
            "_view_module_version": "1.2.0",
            "_view_name": "StyleView",
            "description_width": ""
          }
        },
        "4d5f8065e24c43c9864940e58454931e": {
          "model_module": "@jupyter-widgets/controls",
          "model_name": "HBoxModel",
          "model_module_version": "1.5.0",
          "state": {
            "_dom_classes": [],
            "_model_module": "@jupyter-widgets/controls",
            "_model_module_version": "1.5.0",
            "_model_name": "HBoxModel",
            "_view_count": null,
            "_view_module": "@jupyter-widgets/controls",
            "_view_module_version": "1.5.0",
            "_view_name": "HBoxView",
            "box_style": "",
            "children": [
              "IPY_MODEL_38addf4458334798aff6d8214450d79f",
              "IPY_MODEL_43d0c34e443d4e42a0d57fadf7e3e60a",
              "IPY_MODEL_3c63588ef09d4068bb4fb61144cce605"
            ],
            "layout": "IPY_MODEL_18f048a440e54f97899489f822866739"
          }
        },
        "38addf4458334798aff6d8214450d79f": {
          "model_module": "@jupyter-widgets/controls",
          "model_name": "HTMLModel",
          "model_module_version": "1.5.0",
          "state": {
            "_dom_classes": [],
            "_model_module": "@jupyter-widgets/controls",
            "_model_module_version": "1.5.0",
            "_model_name": "HTMLModel",
            "_view_count": null,
            "_view_module": "@jupyter-widgets/controls",
            "_view_module_version": "1.5.0",
            "_view_name": "HTMLView",
            "description": "",
            "description_tooltip": null,
            "layout": "IPY_MODEL_b18f1684b7f84157b993f281d2429d63",
            "placeholder": "​",
            "style": "IPY_MODEL_1d834ec173484b26838a869a1260f9de",
            "value": "100%"
          }
        },
        "43d0c34e443d4e42a0d57fadf7e3e60a": {
          "model_module": "@jupyter-widgets/controls",
          "model_name": "FloatProgressModel",
          "model_module_version": "1.5.0",
          "state": {
            "_dom_classes": [],
            "_model_module": "@jupyter-widgets/controls",
            "_model_module_version": "1.5.0",
            "_model_name": "FloatProgressModel",
            "_view_count": null,
            "_view_module": "@jupyter-widgets/controls",
            "_view_module_version": "1.5.0",
            "_view_name": "ProgressView",
            "bar_style": "success",
            "description": "",
            "description_tooltip": null,
            "layout": "IPY_MODEL_a10ac68c5e2a48c089df0ff9b0cca21c",
            "max": 313,
            "min": 0,
            "orientation": "horizontal",
            "style": "IPY_MODEL_675e403db3c1463eb00910d178b2915d",
            "value": 313
          }
        },
        "3c63588ef09d4068bb4fb61144cce605": {
          "model_module": "@jupyter-widgets/controls",
          "model_name": "HTMLModel",
          "model_module_version": "1.5.0",
          "state": {
            "_dom_classes": [],
            "_model_module": "@jupyter-widgets/controls",
            "_model_module_version": "1.5.0",
            "_model_name": "HTMLModel",
            "_view_count": null,
            "_view_module": "@jupyter-widgets/controls",
            "_view_module_version": "1.5.0",
            "_view_name": "HTMLView",
            "description": "",
            "description_tooltip": null,
            "layout": "IPY_MODEL_266d954405224f6f981d673f8e93453a",
            "placeholder": "​",
            "style": "IPY_MODEL_a5335f251bc846fc9fa98240539d9c63",
            "value": " 313/313 [00:05&lt;00:00, 76.23it/s]"
          }
        },
        "18f048a440e54f97899489f822866739": {
          "model_module": "@jupyter-widgets/base",
          "model_name": "LayoutModel",
          "model_module_version": "1.2.0",
          "state": {
            "_model_module": "@jupyter-widgets/base",
            "_model_module_version": "1.2.0",
            "_model_name": "LayoutModel",
            "_view_count": null,
            "_view_module": "@jupyter-widgets/base",
            "_view_module_version": "1.2.0",
            "_view_name": "LayoutView",
            "align_content": null,
            "align_items": null,
            "align_self": null,
            "border": null,
            "bottom": null,
            "display": null,
            "flex": null,
            "flex_flow": null,
            "grid_area": null,
            "grid_auto_columns": null,
            "grid_auto_flow": null,
            "grid_auto_rows": null,
            "grid_column": null,
            "grid_gap": null,
            "grid_row": null,
            "grid_template_areas": null,
            "grid_template_columns": null,
            "grid_template_rows": null,
            "height": null,
            "justify_content": null,
            "justify_items": null,
            "left": null,
            "margin": null,
            "max_height": null,
            "max_width": null,
            "min_height": null,
            "min_width": null,
            "object_fit": null,
            "object_position": null,
            "order": null,
            "overflow": null,
            "overflow_x": null,
            "overflow_y": null,
            "padding": null,
            "right": null,
            "top": null,
            "visibility": null,
            "width": null
          }
        },
        "b18f1684b7f84157b993f281d2429d63": {
          "model_module": "@jupyter-widgets/base",
          "model_name": "LayoutModel",
          "model_module_version": "1.2.0",
          "state": {
            "_model_module": "@jupyter-widgets/base",
            "_model_module_version": "1.2.0",
            "_model_name": "LayoutModel",
            "_view_count": null,
            "_view_module": "@jupyter-widgets/base",
            "_view_module_version": "1.2.0",
            "_view_name": "LayoutView",
            "align_content": null,
            "align_items": null,
            "align_self": null,
            "border": null,
            "bottom": null,
            "display": null,
            "flex": null,
            "flex_flow": null,
            "grid_area": null,
            "grid_auto_columns": null,
            "grid_auto_flow": null,
            "grid_auto_rows": null,
            "grid_column": null,
            "grid_gap": null,
            "grid_row": null,
            "grid_template_areas": null,
            "grid_template_columns": null,
            "grid_template_rows": null,
            "height": null,
            "justify_content": null,
            "justify_items": null,
            "left": null,
            "margin": null,
            "max_height": null,
            "max_width": null,
            "min_height": null,
            "min_width": null,
            "object_fit": null,
            "object_position": null,
            "order": null,
            "overflow": null,
            "overflow_x": null,
            "overflow_y": null,
            "padding": null,
            "right": null,
            "top": null,
            "visibility": null,
            "width": null
          }
        },
        "1d834ec173484b26838a869a1260f9de": {
          "model_module": "@jupyter-widgets/controls",
          "model_name": "DescriptionStyleModel",
          "model_module_version": "1.5.0",
          "state": {
            "_model_module": "@jupyter-widgets/controls",
            "_model_module_version": "1.5.0",
            "_model_name": "DescriptionStyleModel",
            "_view_count": null,
            "_view_module": "@jupyter-widgets/base",
            "_view_module_version": "1.2.0",
            "_view_name": "StyleView",
            "description_width": ""
          }
        },
        "a10ac68c5e2a48c089df0ff9b0cca21c": {
          "model_module": "@jupyter-widgets/base",
          "model_name": "LayoutModel",
          "model_module_version": "1.2.0",
          "state": {
            "_model_module": "@jupyter-widgets/base",
            "_model_module_version": "1.2.0",
            "_model_name": "LayoutModel",
            "_view_count": null,
            "_view_module": "@jupyter-widgets/base",
            "_view_module_version": "1.2.0",
            "_view_name": "LayoutView",
            "align_content": null,
            "align_items": null,
            "align_self": null,
            "border": null,
            "bottom": null,
            "display": null,
            "flex": null,
            "flex_flow": null,
            "grid_area": null,
            "grid_auto_columns": null,
            "grid_auto_flow": null,
            "grid_auto_rows": null,
            "grid_column": null,
            "grid_gap": null,
            "grid_row": null,
            "grid_template_areas": null,
            "grid_template_columns": null,
            "grid_template_rows": null,
            "height": null,
            "justify_content": null,
            "justify_items": null,
            "left": null,
            "margin": null,
            "max_height": null,
            "max_width": null,
            "min_height": null,
            "min_width": null,
            "object_fit": null,
            "object_position": null,
            "order": null,
            "overflow": null,
            "overflow_x": null,
            "overflow_y": null,
            "padding": null,
            "right": null,
            "top": null,
            "visibility": null,
            "width": null
          }
        },
        "675e403db3c1463eb00910d178b2915d": {
          "model_module": "@jupyter-widgets/controls",
          "model_name": "ProgressStyleModel",
          "model_module_version": "1.5.0",
          "state": {
            "_model_module": "@jupyter-widgets/controls",
            "_model_module_version": "1.5.0",
            "_model_name": "ProgressStyleModel",
            "_view_count": null,
            "_view_module": "@jupyter-widgets/base",
            "_view_module_version": "1.2.0",
            "_view_name": "StyleView",
            "bar_color": null,
            "description_width": ""
          }
        },
        "266d954405224f6f981d673f8e93453a": {
          "model_module": "@jupyter-widgets/base",
          "model_name": "LayoutModel",
          "model_module_version": "1.2.0",
          "state": {
            "_model_module": "@jupyter-widgets/base",
            "_model_module_version": "1.2.0",
            "_model_name": "LayoutModel",
            "_view_count": null,
            "_view_module": "@jupyter-widgets/base",
            "_view_module_version": "1.2.0",
            "_view_name": "LayoutView",
            "align_content": null,
            "align_items": null,
            "align_self": null,
            "border": null,
            "bottom": null,
            "display": null,
            "flex": null,
            "flex_flow": null,
            "grid_area": null,
            "grid_auto_columns": null,
            "grid_auto_flow": null,
            "grid_auto_rows": null,
            "grid_column": null,
            "grid_gap": null,
            "grid_row": null,
            "grid_template_areas": null,
            "grid_template_columns": null,
            "grid_template_rows": null,
            "height": null,
            "justify_content": null,
            "justify_items": null,
            "left": null,
            "margin": null,
            "max_height": null,
            "max_width": null,
            "min_height": null,
            "min_width": null,
            "object_fit": null,
            "object_position": null,
            "order": null,
            "overflow": null,
            "overflow_x": null,
            "overflow_y": null,
            "padding": null,
            "right": null,
            "top": null,
            "visibility": null,
            "width": null
          }
        },
        "a5335f251bc846fc9fa98240539d9c63": {
          "model_module": "@jupyter-widgets/controls",
          "model_name": "DescriptionStyleModel",
          "model_module_version": "1.5.0",
          "state": {
            "_model_module": "@jupyter-widgets/controls",
            "_model_module_version": "1.5.0",
            "_model_name": "DescriptionStyleModel",
            "_view_count": null,
            "_view_module": "@jupyter-widgets/base",
            "_view_module_version": "1.2.0",
            "_view_name": "StyleView",
            "description_width": ""
          }
        }
      }
    }
  },
  "cells": [
    {
      "cell_type": "code",
      "execution_count": 1,
      "metadata": {
        "colab": {
          "base_uri": "https://localhost:8080/"
        },
        "id": "oYcPTN-Yezo1",
        "outputId": "d483ba98-b764-44d2-a1da-5a664cb8a849"
      },
      "outputs": [
        {
          "output_type": "stream",
          "name": "stdout",
          "text": [
            "2.1.0+cu118\n",
            "0.16.0+cu118\n"
          ]
        }
      ],
      "source": [
        "# Import PyTorch\n",
        "import torch\n",
        "from torch import nn\n",
        "\n",
        "# Import TorchVision\n",
        "import torchvision\n",
        "from torchvision import datasets\n",
        "from torchvision import transforms\n",
        "from torchvision.transforms import ToTensor\n",
        "\n",
        "import matplotlib.pyplot as plt\n",
        "\n",
        "print(torch.__version__)\n",
        "print(torchvision.__version__)"
      ]
    },
    {
      "cell_type": "markdown",
      "source": [
        "## 1. Getting dataset\n",
        "\n",
        "**FashionMNIST**"
      ],
      "metadata": {
        "id": "UqmZv08XmRSx"
      }
    },
    {
      "cell_type": "code",
      "source": [
        "# Setup training data\n",
        "train_data = datasets.FashionMNIST(\n",
        "    root = 'data',\n",
        "    train = True,\n",
        "    download = True,\n",
        "    transform =  torchvision.transforms.ToTensor(),\n",
        "    target_transform = None\n",
        ")\n",
        "\n",
        "test_data = datasets.FashionMNIST(\n",
        "    root = 'data',\n",
        "    train = False,\n",
        "    download=True,\n",
        "    transform = ToTensor(),\n",
        "    target_transform = None\n",
        ")"
      ],
      "metadata": {
        "id": "VvAwV-Jdl8xw",
        "colab": {
          "base_uri": "https://localhost:8080/"
        },
        "outputId": "b5266917-8b57-417b-eff3-600fa02639e8"
      },
      "execution_count": 2,
      "outputs": [
        {
          "output_type": "stream",
          "name": "stdout",
          "text": [
            "Downloading http://fashion-mnist.s3-website.eu-central-1.amazonaws.com/train-images-idx3-ubyte.gz\n",
            "Downloading http://fashion-mnist.s3-website.eu-central-1.amazonaws.com/train-images-idx3-ubyte.gz to data/FashionMNIST/raw/train-images-idx3-ubyte.gz\n"
          ]
        },
        {
          "output_type": "stream",
          "name": "stderr",
          "text": [
            "100%|██████████| 26421880/26421880 [00:02<00:00, 12693307.57it/s]\n"
          ]
        },
        {
          "output_type": "stream",
          "name": "stdout",
          "text": [
            "Extracting data/FashionMNIST/raw/train-images-idx3-ubyte.gz to data/FashionMNIST/raw\n",
            "\n",
            "Downloading http://fashion-mnist.s3-website.eu-central-1.amazonaws.com/train-labels-idx1-ubyte.gz\n",
            "Downloading http://fashion-mnist.s3-website.eu-central-1.amazonaws.com/train-labels-idx1-ubyte.gz to data/FashionMNIST/raw/train-labels-idx1-ubyte.gz\n"
          ]
        },
        {
          "output_type": "stream",
          "name": "stderr",
          "text": [
            "100%|██████████| 29515/29515 [00:00<00:00, 202310.95it/s]\n"
          ]
        },
        {
          "output_type": "stream",
          "name": "stdout",
          "text": [
            "Extracting data/FashionMNIST/raw/train-labels-idx1-ubyte.gz to data/FashionMNIST/raw\n",
            "\n",
            "Downloading http://fashion-mnist.s3-website.eu-central-1.amazonaws.com/t10k-images-idx3-ubyte.gz\n",
            "Downloading http://fashion-mnist.s3-website.eu-central-1.amazonaws.com/t10k-images-idx3-ubyte.gz to data/FashionMNIST/raw/t10k-images-idx3-ubyte.gz\n"
          ]
        },
        {
          "output_type": "stream",
          "name": "stderr",
          "text": [
            "100%|██████████| 4422102/4422102 [00:01<00:00, 3702374.29it/s]\n"
          ]
        },
        {
          "output_type": "stream",
          "name": "stdout",
          "text": [
            "Extracting data/FashionMNIST/raw/t10k-images-idx3-ubyte.gz to data/FashionMNIST/raw\n",
            "\n",
            "Downloading http://fashion-mnist.s3-website.eu-central-1.amazonaws.com/t10k-labels-idx1-ubyte.gz\n",
            "Downloading http://fashion-mnist.s3-website.eu-central-1.amazonaws.com/t10k-labels-idx1-ubyte.gz to data/FashionMNIST/raw/t10k-labels-idx1-ubyte.gz\n"
          ]
        },
        {
          "output_type": "stream",
          "name": "stderr",
          "text": [
            "100%|██████████| 5148/5148 [00:00<00:00, 15911773.76it/s]"
          ]
        },
        {
          "output_type": "stream",
          "name": "stdout",
          "text": [
            "Extracting data/FashionMNIST/raw/t10k-labels-idx1-ubyte.gz to data/FashionMNIST/raw\n",
            "\n"
          ]
        },
        {
          "output_type": "stream",
          "name": "stderr",
          "text": [
            "\n"
          ]
        }
      ]
    },
    {
      "cell_type": "code",
      "source": [
        " len(train_data), len(test_data)"
      ],
      "metadata": {
        "colab": {
          "base_uri": "https://localhost:8080/"
        },
        "id": "6ZTbJkWioaan",
        "outputId": "360a6771-24b3-414b-e674-1cee84640947"
      },
      "execution_count": 3,
      "outputs": [
        {
          "output_type": "execute_result",
          "data": {
            "text/plain": [
              "(60000, 10000)"
            ]
          },
          "metadata": {},
          "execution_count": 3
        }
      ]
    },
    {
      "cell_type": "code",
      "source": [
        "image, label = train_data[0]\n",
        "image, label"
      ],
      "metadata": {
        "colab": {
          "base_uri": "https://localhost:8080/"
        },
        "id": "KnUMZ5QjotV-",
        "outputId": "202b053b-f005-45d5-f972-ab93b53f8d93"
      },
      "execution_count": 4,
      "outputs": [
        {
          "output_type": "execute_result",
          "data": {
            "text/plain": [
              "(tensor([[[0.0000, 0.0000, 0.0000, 0.0000, 0.0000, 0.0000, 0.0000, 0.0000,\n",
              "           0.0000, 0.0000, 0.0000, 0.0000, 0.0000, 0.0000, 0.0000, 0.0000,\n",
              "           0.0000, 0.0000, 0.0000, 0.0000, 0.0000, 0.0000, 0.0000, 0.0000,\n",
              "           0.0000, 0.0000, 0.0000, 0.0000],\n",
              "          [0.0000, 0.0000, 0.0000, 0.0000, 0.0000, 0.0000, 0.0000, 0.0000,\n",
              "           0.0000, 0.0000, 0.0000, 0.0000, 0.0000, 0.0000, 0.0000, 0.0000,\n",
              "           0.0000, 0.0000, 0.0000, 0.0000, 0.0000, 0.0000, 0.0000, 0.0000,\n",
              "           0.0000, 0.0000, 0.0000, 0.0000],\n",
              "          [0.0000, 0.0000, 0.0000, 0.0000, 0.0000, 0.0000, 0.0000, 0.0000,\n",
              "           0.0000, 0.0000, 0.0000, 0.0000, 0.0000, 0.0000, 0.0000, 0.0000,\n",
              "           0.0000, 0.0000, 0.0000, 0.0000, 0.0000, 0.0000, 0.0000, 0.0000,\n",
              "           0.0000, 0.0000, 0.0000, 0.0000],\n",
              "          [0.0000, 0.0000, 0.0000, 0.0000, 0.0000, 0.0000, 0.0000, 0.0000,\n",
              "           0.0000, 0.0000, 0.0000, 0.0000, 0.0039, 0.0000, 0.0000, 0.0510,\n",
              "           0.2863, 0.0000, 0.0000, 0.0039, 0.0157, 0.0000, 0.0000, 0.0000,\n",
              "           0.0000, 0.0039, 0.0039, 0.0000],\n",
              "          [0.0000, 0.0000, 0.0000, 0.0000, 0.0000, 0.0000, 0.0000, 0.0000,\n",
              "           0.0000, 0.0000, 0.0000, 0.0000, 0.0118, 0.0000, 0.1412, 0.5333,\n",
              "           0.4980, 0.2431, 0.2118, 0.0000, 0.0000, 0.0000, 0.0039, 0.0118,\n",
              "           0.0157, 0.0000, 0.0000, 0.0118],\n",
              "          [0.0000, 0.0000, 0.0000, 0.0000, 0.0000, 0.0000, 0.0000, 0.0000,\n",
              "           0.0000, 0.0000, 0.0000, 0.0000, 0.0235, 0.0000, 0.4000, 0.8000,\n",
              "           0.6902, 0.5255, 0.5647, 0.4824, 0.0902, 0.0000, 0.0000, 0.0000,\n",
              "           0.0000, 0.0471, 0.0392, 0.0000],\n",
              "          [0.0000, 0.0000, 0.0000, 0.0000, 0.0000, 0.0000, 0.0000, 0.0000,\n",
              "           0.0000, 0.0000, 0.0000, 0.0000, 0.0000, 0.0000, 0.6078, 0.9255,\n",
              "           0.8118, 0.6980, 0.4196, 0.6118, 0.6314, 0.4275, 0.2510, 0.0902,\n",
              "           0.3020, 0.5098, 0.2824, 0.0588],\n",
              "          [0.0000, 0.0000, 0.0000, 0.0000, 0.0000, 0.0000, 0.0000, 0.0000,\n",
              "           0.0000, 0.0000, 0.0000, 0.0039, 0.0000, 0.2706, 0.8118, 0.8745,\n",
              "           0.8549, 0.8471, 0.8471, 0.6392, 0.4980, 0.4745, 0.4784, 0.5725,\n",
              "           0.5529, 0.3451, 0.6745, 0.2588],\n",
              "          [0.0000, 0.0000, 0.0000, 0.0000, 0.0000, 0.0000, 0.0000, 0.0000,\n",
              "           0.0000, 0.0039, 0.0039, 0.0039, 0.0000, 0.7843, 0.9098, 0.9098,\n",
              "           0.9137, 0.8980, 0.8745, 0.8745, 0.8431, 0.8353, 0.6431, 0.4980,\n",
              "           0.4824, 0.7686, 0.8980, 0.0000],\n",
              "          [0.0000, 0.0000, 0.0000, 0.0000, 0.0000, 0.0000, 0.0000, 0.0000,\n",
              "           0.0000, 0.0000, 0.0000, 0.0000, 0.0000, 0.7176, 0.8824, 0.8471,\n",
              "           0.8745, 0.8941, 0.9216, 0.8902, 0.8784, 0.8706, 0.8784, 0.8667,\n",
              "           0.8745, 0.9608, 0.6784, 0.0000],\n",
              "          [0.0000, 0.0000, 0.0000, 0.0000, 0.0000, 0.0000, 0.0000, 0.0000,\n",
              "           0.0000, 0.0000, 0.0000, 0.0000, 0.0000, 0.7569, 0.8941, 0.8549,\n",
              "           0.8353, 0.7765, 0.7059, 0.8314, 0.8235, 0.8275, 0.8353, 0.8745,\n",
              "           0.8627, 0.9529, 0.7922, 0.0000],\n",
              "          [0.0000, 0.0000, 0.0000, 0.0000, 0.0000, 0.0000, 0.0000, 0.0000,\n",
              "           0.0000, 0.0039, 0.0118, 0.0000, 0.0471, 0.8588, 0.8627, 0.8314,\n",
              "           0.8549, 0.7529, 0.6627, 0.8902, 0.8157, 0.8549, 0.8784, 0.8314,\n",
              "           0.8863, 0.7725, 0.8196, 0.2039],\n",
              "          [0.0000, 0.0000, 0.0000, 0.0000, 0.0000, 0.0000, 0.0000, 0.0000,\n",
              "           0.0000, 0.0000, 0.0235, 0.0000, 0.3882, 0.9569, 0.8706, 0.8627,\n",
              "           0.8549, 0.7961, 0.7765, 0.8667, 0.8431, 0.8353, 0.8706, 0.8627,\n",
              "           0.9608, 0.4667, 0.6549, 0.2196],\n",
              "          [0.0000, 0.0000, 0.0000, 0.0000, 0.0000, 0.0000, 0.0000, 0.0000,\n",
              "           0.0000, 0.0157, 0.0000, 0.0000, 0.2157, 0.9255, 0.8941, 0.9020,\n",
              "           0.8941, 0.9412, 0.9098, 0.8353, 0.8549, 0.8745, 0.9176, 0.8510,\n",
              "           0.8510, 0.8196, 0.3608, 0.0000],\n",
              "          [0.0000, 0.0000, 0.0039, 0.0157, 0.0235, 0.0275, 0.0078, 0.0000,\n",
              "           0.0000, 0.0000, 0.0000, 0.0000, 0.9294, 0.8863, 0.8510, 0.8745,\n",
              "           0.8706, 0.8588, 0.8706, 0.8667, 0.8471, 0.8745, 0.8980, 0.8431,\n",
              "           0.8549, 1.0000, 0.3020, 0.0000],\n",
              "          [0.0000, 0.0118, 0.0000, 0.0000, 0.0000, 0.0000, 0.0000, 0.0000,\n",
              "           0.0000, 0.2431, 0.5686, 0.8000, 0.8941, 0.8118, 0.8353, 0.8667,\n",
              "           0.8549, 0.8157, 0.8275, 0.8549, 0.8784, 0.8745, 0.8588, 0.8431,\n",
              "           0.8784, 0.9569, 0.6235, 0.0000],\n",
              "          [0.0000, 0.0000, 0.0000, 0.0000, 0.0706, 0.1725, 0.3216, 0.4196,\n",
              "           0.7412, 0.8941, 0.8627, 0.8706, 0.8510, 0.8863, 0.7843, 0.8039,\n",
              "           0.8275, 0.9020, 0.8784, 0.9176, 0.6902, 0.7373, 0.9804, 0.9725,\n",
              "           0.9137, 0.9333, 0.8431, 0.0000],\n",
              "          [0.0000, 0.2235, 0.7333, 0.8157, 0.8784, 0.8667, 0.8784, 0.8157,\n",
              "           0.8000, 0.8392, 0.8157, 0.8196, 0.7843, 0.6235, 0.9608, 0.7569,\n",
              "           0.8078, 0.8745, 1.0000, 1.0000, 0.8667, 0.9176, 0.8667, 0.8275,\n",
              "           0.8627, 0.9098, 0.9647, 0.0000],\n",
              "          [0.0118, 0.7922, 0.8941, 0.8784, 0.8667, 0.8275, 0.8275, 0.8392,\n",
              "           0.8039, 0.8039, 0.8039, 0.8627, 0.9412, 0.3137, 0.5882, 1.0000,\n",
              "           0.8980, 0.8667, 0.7373, 0.6039, 0.7490, 0.8235, 0.8000, 0.8196,\n",
              "           0.8706, 0.8941, 0.8824, 0.0000],\n",
              "          [0.3843, 0.9137, 0.7765, 0.8235, 0.8706, 0.8980, 0.8980, 0.9176,\n",
              "           0.9765, 0.8627, 0.7608, 0.8431, 0.8510, 0.9451, 0.2549, 0.2863,\n",
              "           0.4157, 0.4588, 0.6588, 0.8588, 0.8667, 0.8431, 0.8510, 0.8745,\n",
              "           0.8745, 0.8784, 0.8980, 0.1137],\n",
              "          [0.2941, 0.8000, 0.8314, 0.8000, 0.7569, 0.8039, 0.8275, 0.8824,\n",
              "           0.8471, 0.7255, 0.7725, 0.8078, 0.7765, 0.8353, 0.9412, 0.7647,\n",
              "           0.8902, 0.9608, 0.9373, 0.8745, 0.8549, 0.8314, 0.8196, 0.8706,\n",
              "           0.8627, 0.8667, 0.9020, 0.2627],\n",
              "          [0.1882, 0.7961, 0.7176, 0.7608, 0.8353, 0.7725, 0.7255, 0.7451,\n",
              "           0.7608, 0.7529, 0.7922, 0.8392, 0.8588, 0.8667, 0.8627, 0.9255,\n",
              "           0.8824, 0.8471, 0.7804, 0.8078, 0.7294, 0.7098, 0.6941, 0.6745,\n",
              "           0.7098, 0.8039, 0.8078, 0.4510],\n",
              "          [0.0000, 0.4784, 0.8588, 0.7569, 0.7020, 0.6706, 0.7176, 0.7686,\n",
              "           0.8000, 0.8235, 0.8353, 0.8118, 0.8275, 0.8235, 0.7843, 0.7686,\n",
              "           0.7608, 0.7490, 0.7647, 0.7490, 0.7765, 0.7529, 0.6902, 0.6118,\n",
              "           0.6549, 0.6941, 0.8235, 0.3608],\n",
              "          [0.0000, 0.0000, 0.2902, 0.7412, 0.8314, 0.7490, 0.6863, 0.6745,\n",
              "           0.6863, 0.7098, 0.7255, 0.7373, 0.7412, 0.7373, 0.7569, 0.7765,\n",
              "           0.8000, 0.8196, 0.8235, 0.8235, 0.8275, 0.7373, 0.7373, 0.7608,\n",
              "           0.7529, 0.8471, 0.6667, 0.0000],\n",
              "          [0.0078, 0.0000, 0.0000, 0.0000, 0.2588, 0.7843, 0.8706, 0.9294,\n",
              "           0.9373, 0.9490, 0.9647, 0.9529, 0.9569, 0.8667, 0.8627, 0.7569,\n",
              "           0.7490, 0.7020, 0.7137, 0.7137, 0.7098, 0.6902, 0.6510, 0.6588,\n",
              "           0.3882, 0.2275, 0.0000, 0.0000],\n",
              "          [0.0000, 0.0000, 0.0000, 0.0000, 0.0000, 0.0000, 0.0000, 0.1569,\n",
              "           0.2392, 0.1725, 0.2824, 0.1608, 0.1373, 0.0000, 0.0000, 0.0000,\n",
              "           0.0000, 0.0000, 0.0000, 0.0000, 0.0000, 0.0000, 0.0000, 0.0000,\n",
              "           0.0000, 0.0000, 0.0000, 0.0000],\n",
              "          [0.0000, 0.0000, 0.0000, 0.0000, 0.0000, 0.0000, 0.0000, 0.0000,\n",
              "           0.0000, 0.0000, 0.0000, 0.0000, 0.0000, 0.0000, 0.0000, 0.0000,\n",
              "           0.0000, 0.0000, 0.0000, 0.0000, 0.0000, 0.0000, 0.0000, 0.0000,\n",
              "           0.0000, 0.0000, 0.0000, 0.0000],\n",
              "          [0.0000, 0.0000, 0.0000, 0.0000, 0.0000, 0.0000, 0.0000, 0.0000,\n",
              "           0.0000, 0.0000, 0.0000, 0.0000, 0.0000, 0.0000, 0.0000, 0.0000,\n",
              "           0.0000, 0.0000, 0.0000, 0.0000, 0.0000, 0.0000, 0.0000, 0.0000,\n",
              "           0.0000, 0.0000, 0.0000, 0.0000]]]),\n",
              " 9)"
            ]
          },
          "metadata": {},
          "execution_count": 4
        }
      ]
    },
    {
      "cell_type": "code",
      "source": [
        "class_names = train_data.classes\n",
        "class_names"
      ],
      "metadata": {
        "colab": {
          "base_uri": "https://localhost:8080/"
        },
        "id": "sNSqaA9vo4AH",
        "outputId": "5ea68d35-5bfd-4f27-e01f-19e375784d05"
      },
      "execution_count": 5,
      "outputs": [
        {
          "output_type": "execute_result",
          "data": {
            "text/plain": [
              "['T-shirt/top',\n",
              " 'Trouser',\n",
              " 'Pullover',\n",
              " 'Dress',\n",
              " 'Coat',\n",
              " 'Sandal',\n",
              " 'Shirt',\n",
              " 'Sneaker',\n",
              " 'Bag',\n",
              " 'Ankle boot']"
            ]
          },
          "metadata": {},
          "execution_count": 5
        }
      ]
    },
    {
      "cell_type": "code",
      "source": [
        "class_to_idx = train_data.class_to_idx\n",
        "class_to_idx"
      ],
      "metadata": {
        "colab": {
          "base_uri": "https://localhost:8080/"
        },
        "id": "7A9MsYqGpTAv",
        "outputId": "865ac754-f261-4eef-c7f3-78289c5ae095"
      },
      "execution_count": 6,
      "outputs": [
        {
          "output_type": "execute_result",
          "data": {
            "text/plain": [
              "{'T-shirt/top': 0,\n",
              " 'Trouser': 1,\n",
              " 'Pullover': 2,\n",
              " 'Dress': 3,\n",
              " 'Coat': 4,\n",
              " 'Sandal': 5,\n",
              " 'Shirt': 6,\n",
              " 'Sneaker': 7,\n",
              " 'Bag': 8,\n",
              " 'Ankle boot': 9}"
            ]
          },
          "metadata": {},
          "execution_count": 6
        }
      ]
    },
    {
      "cell_type": "code",
      "source": [
        "train_data.targets"
      ],
      "metadata": {
        "colab": {
          "base_uri": "https://localhost:8080/"
        },
        "id": "_6DVGiUSpyiH",
        "outputId": "7248c51a-a0df-4167-9ab7-a94e6dacc272"
      },
      "execution_count": 7,
      "outputs": [
        {
          "output_type": "execute_result",
          "data": {
            "text/plain": [
              "tensor([9, 0, 0,  ..., 3, 0, 5])"
            ]
          },
          "metadata": {},
          "execution_count": 7
        }
      ]
    },
    {
      "cell_type": "code",
      "source": [
        "# Shape of image\n",
        "print(f'Image shape: {image.shape} -> [color channels, height, width]')\n",
        "print(f'Image Label: {class_names[label]}')"
      ],
      "metadata": {
        "colab": {
          "base_uri": "https://localhost:8080/"
        },
        "id": "A1jcuKfjp673",
        "outputId": "a8619ce2-1f52-4f68-a560-ec4faa497845"
      },
      "execution_count": 8,
      "outputs": [
        {
          "output_type": "stream",
          "name": "stdout",
          "text": [
            "Image shape: torch.Size([1, 28, 28]) -> [color channels, height, width]\n",
            "Image Label: Ankle boot\n"
          ]
        }
      ]
    },
    {
      "cell_type": "markdown",
      "source": [
        "## Visualizing our data"
      ],
      "metadata": {
        "id": "pku7yIK-tf8b"
      }
    },
    {
      "cell_type": "code",
      "source": [
        "image, label = train_data[0]\n",
        "print(f'Image Shape: {image.shape}')\n",
        "plt.imshow(image.squeeze())\n",
        "plt.title(label);"
      ],
      "metadata": {
        "colab": {
          "base_uri": "https://localhost:8080/",
          "height": 469
        },
        "id": "rRFqMEt_p_qW",
        "outputId": "cd6ca8fd-c153-465b-c56b-fe973404d1c8"
      },
      "execution_count": 9,
      "outputs": [
        {
          "output_type": "stream",
          "name": "stdout",
          "text": [
            "Image Shape: torch.Size([1, 28, 28])\n"
          ]
        },
        {
          "output_type": "display_data",
          "data": {
            "text/plain": [
              "<Figure size 640x480 with 1 Axes>"
            ],
            "image/png": "[encoded data removed]"
          },
          "metadata": {}
        }
      ]
    },
    {
      "cell_type": "code",
      "source": [
        "plt.imshow(image.squeeze(), cmap = 'gray')\n",
        "plt.title(class_names[label]);\n",
        "plt.axis(False)"
      ],
      "metadata": {
        "colab": {
          "base_uri": "https://localhost:8080/",
          "height": 445
        },
        "id": "vxep_uYktxqF",
        "outputId": "ae22b49a-8705-42a4-b50e-a6cf6f48e27d"
      },
      "execution_count": 10,
      "outputs": [
        {
          "output_type": "execute_result",
          "data": {
            "text/plain": [
              "(-0.5, 27.5, 27.5, -0.5)"
            ]
          },
          "metadata": {},
          "execution_count": 10
        },
        {
          "output_type": "display_data",
          "data": {
            "text/plain": [
              "<Figure size 640x480 with 1 Axes>"
            ],
            "image/png": "[encoded data removed]"
          },
          "metadata": {}
        }
      ]
    },
    {
      "cell_type": "code",
      "source": [
        "# Plot more images\n",
        "torch.manual_seed(42)\n",
        "fig = plt.figure(figsize = (9,9))\n",
        "rows, cols = 4, 4\n",
        "for i in range(1, rows*cols+1):\n",
        "  random_idx = torch.randint(0, len(train_data), size = [1]).item()\n",
        "  img, label = train_data[random_idx]\n",
        "  fig.add_subplot(rows, cols, i)\n",
        "  plt.imshow(img.squeeze(), cmap = 'gray')\n",
        "  plt.title(class_names[label])\n",
        "  plt.axis(False);"
      ],
      "metadata": {
        "colab": {
          "base_uri": "https://localhost:8080/",
          "height": 752
        },
        "id": "71dzhs1lubJI",
        "outputId": "da5b565b-37e3-461d-d44a-b3c8b9600e1f"
      },
      "execution_count": 11,
      "outputs": [
        {
          "output_type": "display_data",
          "data": {
            "text/plain": [
              "<Figure size 900x900 with 16 Axes>"
            ],
            "image/png": "[encoded data removed]"
          },
          "metadata": {}
        }
      ]
    },
    {
      "cell_type": "code",
      "source": [
        "train_data, test_data"
      ],
      "metadata": {
        "colab": {
          "base_uri": "https://localhost:8080/"
        },
        "id": "rOIB8PLV3tbg",
        "outputId": "130159c5-4405-459b-9e2f-dd899d7f0ccb"
      },
      "execution_count": 12,
      "outputs": [
        {
          "output_type": "execute_result",
          "data": {
            "text/plain": [
              "(Dataset FashionMNIST\n",
              "     Number of datapoints: 60000\n",
              "     Root location: data\n",
              "     Split: Train\n",
              "     StandardTransform\n",
              " Transform: ToTensor(),\n",
              " Dataset FashionMNIST\n",
              "     Number of datapoints: 10000\n",
              "     Root location: data\n",
              "     Split: Test\n",
              "     StandardTransform\n",
              " Transform: ToTensor())"
            ]
          },
          "metadata": {},
          "execution_count": 12
        }
      ]
    },
    {
      "cell_type": "markdown",
      "source": [
        "## 2. Prepare DataLoader\n",
        "\n",
        "DataLoader turns our dataset into python iterable\n",
        "\n",
        "we want to turn our datasets into batches"
      ],
      "metadata": {
        "id": "6SW0RhZY6RM7"
      }
    },
    {
      "cell_type": "code",
      "source": [
        "from torch.utils.data import DataLoader\n",
        "\n",
        "# Setup the batch size hyperparameter\n",
        "BATCH_SIZE = 32\n",
        "\n",
        "# Turn datasets into iterables\n",
        "train_dataloader = DataLoader(\n",
        "    dataset = train_data,\n",
        "    batch_size = 32,\n",
        "    shuffle = True\n",
        ")\n",
        "\n",
        "test_dataloader = DataLoader(dataset = test_data,\n",
        "                             batch_size = BATCH_SIZE,\n",
        "                             shuffle = False)\n",
        "\n",
        "train_dataloader, test_dataloader"
      ],
      "metadata": {
        "colab": {
          "base_uri": "https://localhost:8080/"
        },
        "id": "LL5Y6QWx6KEJ",
        "outputId": "1bea55c5-6d96-4c57-9bac-34876417c536"
      },
      "execution_count": 13,
      "outputs": [
        {
          "output_type": "execute_result",
          "data": {
            "text/plain": [
              "(<torch.utils.data.dataloader.DataLoader at 0x7c6016db6a40>,\n",
              " <torch.utils.data.dataloader.DataLoader at 0x7c6016db6aa0>)"
            ]
          },
          "metadata": {},
          "execution_count": 13
        }
      ]
    },
    {
      "cell_type": "code",
      "source": [
        "# Check what we have created\n",
        "print(f'DataLoaders: {train_dataloader, test_dataloader}')\n",
        "print(f'Length of train_dataloader: {len(train_dataloader)} batches of {BATCH_SIZE}...')\n",
        "print(f'Length of test_dataloader: {len(test_dataloader)} batches of {BATCH_SIZE}...')"
      ],
      "metadata": {
        "colab": {
          "base_uri": "https://localhost:8080/"
        },
        "id": "Y1os_9EAAALy",
        "outputId": "9491d5a7-a926-49ff-fa27-7c23b89dcf62"
      },
      "execution_count": 14,
      "outputs": [
        {
          "output_type": "stream",
          "name": "stdout",
          "text": [
            "DataLoaders: (<torch.utils.data.dataloader.DataLoader object at 0x7c6016db6a40>, <torch.utils.data.dataloader.DataLoader object at 0x7c6016db6aa0>)\n",
            "Length of train_dataloader: 1875 batches of 32...\n",
            "Length of test_dataloader: 313 batches of 32...\n"
          ]
        }
      ]
    },
    {
      "cell_type": "code",
      "source": [
        "# whats inside training dataloader\n",
        "train_features_batch, train_labels_batch = next(iter(train_dataloader))\n",
        "train_features_batch.shape, train_labels_batch.shape"
      ],
      "metadata": {
        "colab": {
          "base_uri": "https://localhost:8080/"
        },
        "id": "vTT8Pw9hCDcO",
        "outputId": "851104ab-d9cd-4ca8-d241-48ac6a3974e7"
      },
      "execution_count": 15,
      "outputs": [
        {
          "output_type": "execute_result",
          "data": {
            "text/plain": [
              "(torch.Size([32, 1, 28, 28]), torch.Size([32]))"
            ]
          },
          "metadata": {},
          "execution_count": 15
        }
      ]
    },
    {
      "cell_type": "code",
      "source": [
        "# Show a sample\n",
        "torch.manual_seed(42)\n",
        "random_idx = torch.randint(0, len(train_features_batch), size = [1]).item()\n",
        "img, label = train_features_batch[random_idx], train_labels_batch[random_idx]\n",
        "plt.imshow(img.squeeze(), cmap = 'gray')\n",
        "plt.title(class_names[label])\n",
        "plt.axis(False);\n",
        "print(f'Image Size: {img.shape}')\n",
        "print(f'Label: {label}, label size: {label.shape}')"
      ],
      "metadata": {
        "colab": {
          "base_uri": "https://localhost:8080/",
          "height": 463
        },
        "id": "YmxXJoilANmp",
        "outputId": "255698b6-b469-497a-94f0-0e8bb1e4d428"
      },
      "execution_count": 16,
      "outputs": [
        {
          "output_type": "stream",
          "name": "stdout",
          "text": [
            "Image Size: torch.Size([1, 28, 28])\n",
            "Label: 6, label size: torch.Size([])\n"
          ]
        },
        {
          "output_type": "display_data",
          "data": {
            "text/plain": [
              "<Figure size 640x480 with 1 Axes>"
            ],
            "image/png": "[encoded data removed]"
          },
          "metadata": {}
        }
      ]
    },
    {
      "cell_type": "markdown",
      "source": [
        "## Model: 0 Baseline Model\n"
      ],
      "metadata": {
        "id": "8MMUfxzRIVyl"
      }
    },
    {
      "cell_type": "code",
      "source": [
        "# Create a flatten layer\n",
        "flatten_model = nn.Flatten()\n",
        "\n",
        "x = train_features_batch[0]\n",
        "\n",
        "# Flatten the sample\n",
        "output = flatten_model(x) # Perform forward pass\n",
        "\n",
        "# Print\n",
        "print(f'Shape before flattening: {x.shape}')\n",
        "print(f'Shape after flattening: {output.shape}')\n"
      ],
      "metadata": {
        "colab": {
          "base_uri": "https://localhost:8080/"
        },
        "id": "uwbhEBktHi3D",
        "outputId": "c25b5b67-8cea-4bc8-fe72-de500e49246e"
      },
      "execution_count": 17,
      "outputs": [
        {
          "output_type": "stream",
          "name": "stdout",
          "text": [
            "Shape before flattening: torch.Size([1, 28, 28])\n",
            "Shape after flattening: torch.Size([1, 784])\n"
          ]
        }
      ]
    },
    {
      "cell_type": "code",
      "source": [
        "from torch import nn\n",
        "class FashionMNISTModelV0(nn.Module):\n",
        "    def __init__(self, input_shape: int, hidden_units: int, output_shape: int):\n",
        "        super().__init__()\n",
        "        self.layer_stack = nn.Sequential(\n",
        "            nn.Flatten(), # neural networks like their inputs in vector form\n",
        "            nn.Linear(in_features=input_shape, out_features=hidden_units), # in_features = number of features in a data sample (784 pixels)\n",
        "            nn.Linear(in_features=hidden_units, out_features=output_shape)\n",
        "        )\n",
        "\n",
        "    def forward(self, x):\n",
        "        return self.layer_stack(x)"
      ],
      "metadata": {
        "id": "CLb-ztUJJC0q"
      },
      "execution_count": 18,
      "outputs": []
    },
    {
      "cell_type": "code",
      "source": [
        "torch.manual_seed(42)\n",
        "\n",
        "# Need to setup model with input parameters\n",
        "model_0 = FashionMNISTModelV0(input_shape=784, # one for every pixel (28x28)\n",
        "    hidden_units=10, # how many units in the hiden layer\n",
        "    output_shape=len(class_names) # one for every class\n",
        ")\n",
        "model_0.to(\"cpu\") # keep model on CPU to begin with"
      ],
      "metadata": {
        "colab": {
          "base_uri": "https://localhost:8080/"
        },
        "id": "7nYzXU7aMHGr",
        "outputId": "469784fa-d676-4bd4-c52b-92384838a77f"
      },
      "execution_count": 19,
      "outputs": [
        {
          "output_type": "execute_result",
          "data": {
            "text/plain": [
              "FashionMNISTModelV0(\n",
              "  (layer_stack): Sequential(\n",
              "    (0): Flatten(start_dim=1, end_dim=-1)\n",
              "    (1): Linear(in_features=784, out_features=10, bias=True)\n",
              "    (2): Linear(in_features=10, out_features=10, bias=True)\n",
              "  )\n",
              ")"
            ]
          },
          "metadata": {},
          "execution_count": 19
        }
      ]
    },
    {
      "cell_type": "markdown",
      "source": [
        "## Setup loss, Optimizer and evaluation metrics"
      ],
      "metadata": {
        "id": "IBB72SIYTIOh"
      }
    },
    {
      "cell_type": "code",
      "source": [
        "from helper_functions import accuracy_fn\n",
        "\n",
        "# Setup loss function and optimizer\n",
        "loss_fn = nn.CrossEntropyLoss()\n",
        "optimizer = torch.optim.SGD(params = model_0.parameters(),\n",
        "                            lr = 0.1)"
      ],
      "metadata": {
        "id": "-sgpJfIgTuj8"
      },
      "execution_count": 20,
      "outputs": []
    },
    {
      "cell_type": "markdown",
      "source": [
        "## 3.2 Creating a function to time our experiments"
      ],
      "metadata": {
        "id": "r8fZ4pDOU58g"
      }
    },
    {
      "cell_type": "code",
      "source": [
        "from timeit import default_timer as timer\n",
        "def print_train_time(start: float, end: float, device: torch.device = None):\n",
        "    \"\"\"Prints difference between start and end time.\n",
        "\n",
        "    Args:\n",
        "        start (float): Start time of computation (preferred in timeit format).\n",
        "        end (float): End time of computation.\n",
        "        device ([type], optional): Device that compute is running on. Defaults to None.\n",
        "\n",
        "    Returns:\n",
        "        float: time between start and end in seconds (higher is longer).\n",
        "    \"\"\"\n",
        "    total_time = end - start\n",
        "    print(f\"Train time on {device}: {total_time:.3f} seconds\")\n",
        "    return total_time"
      ],
      "metadata": {
        "id": "9Fccl5hUULdT"
      },
      "execution_count": 21,
      "outputs": []
    },
    {
      "cell_type": "code",
      "source": [
        "start_time = timer()\n",
        "end_time = timer()\n",
        "print_train_time(start=start_time, end = end_time, device = 'cpu')"
      ],
      "metadata": {
        "colab": {
          "base_uri": "https://localhost:8080/"
        },
        "id": "YjJxbJb1WxvF",
        "outputId": "b011ddb2-ace0-499b-879b-dd0ba9eb823e"
      },
      "execution_count": 22,
      "outputs": [
        {
          "output_type": "stream",
          "name": "stdout",
          "text": [
            "Train time on cpu: 0.000 seconds\n"
          ]
        },
        {
          "output_type": "execute_result",
          "data": {
            "text/plain": [
              "5.7485000013457466e-05"
            ]
          },
          "metadata": {},
          "execution_count": 22
        }
      ]
    },
    {
      "cell_type": "markdown",
      "source": [
        "### 3.3 Creating training loop and training a model on batches of data"
      ],
      "metadata": {
        "id": "5Up6lbqVkB_Y"
      }
    },
    {
      "cell_type": "code",
      "source": [
        "# Import tqdm for progress bar\n",
        "from tqdm.auto import tqdm\n",
        "\n",
        "# Set the seed and start the timer\n",
        "torch.manual_seed(42)\n",
        "train_time_start_on_cpu = timer()\n",
        "\n",
        "# Set the number of epochs (we'll keep this small for faster training times)\n",
        "epochs = 3\n",
        "\n",
        "# Create training and testing loop\n",
        "for epoch in tqdm(range(epochs)):\n",
        "    print(f\"Epoch: {epoch}\\n-------\")\n",
        "    ### Training\n",
        "    train_loss = 0\n",
        "    # Add a loop to loop through training batches\n",
        "    for batch, (X, y) in enumerate(train_dataloader):\n",
        "        model_0.train()\n",
        "        # 1. Forward pass\n",
        "        y_pred = model_0(X)\n",
        "\n",
        "        # 2. Calculate loss (per batch)\n",
        "        loss = loss_fn(y_pred, y)\n",
        "        train_loss += loss # accumulatively add up the loss per epoch\n",
        "\n",
        "        # 3. Optimizer zero grad\n",
        "        optimizer.zero_grad()\n",
        "\n",
        "        # 4. Loss backward\n",
        "        loss.backward()\n",
        "\n",
        "        # 5. Optimizer step\n",
        "        optimizer.step()\n",
        "\n",
        "        # Print out how many samples have been seen\n",
        "        if batch % 400 == 0:\n",
        "            print(f\"Looked at {batch * len(X)}/{len(train_dataloader.dataset)} samples\")\n",
        "\n",
        "    # Divide total train loss by length of train dataloader (average loss per batch per epoch)\n",
        "    train_loss /= len(train_dataloader)\n",
        "\n",
        "    ### Testing\n",
        "    # Setup variables for accumulatively adding up loss and accuracy\n",
        "    test_loss, test_acc = 0, 0\n",
        "    model_0.eval()\n",
        "    with torch.inference_mode():\n",
        "        for X, y in test_dataloader:\n",
        "            # 1. Forward pass\n",
        "            test_pred = model_0(X)\n",
        "\n",
        "            # 2. Calculate loss (accumatively)\n",
        "            test_loss += loss_fn(test_pred, y) # accumulatively add up the loss per epoch\n",
        "\n",
        "            # 3. Calculate accuracy (preds need to be same as y_true)\n",
        "            test_acc += accuracy_fn(y_true=y, y_pred=test_pred.argmax(dim=1))\n",
        "\n",
        "        # Calculations on test metrics need to happen inside torch.inference_mode()\n",
        "        # Divide total test loss by length of test dataloader (per batch)\n",
        "        test_loss /= len(test_dataloader)\n",
        "\n",
        "        # Divide total accuracy by length of test dataloader (per batch)\n",
        "        test_acc /= len(test_dataloader)\n",
        "\n",
        "    ## Print out what's happening\n",
        "    print(f\"\\nTrain loss: {train_loss:.5f} | Test loss: {test_loss:.5f}, Test acc: {test_acc:.2f}%\\n\")\n",
        "\n",
        "# Calculate training time\n",
        "train_time_end_on_cpu = timer()\n",
        "total_train_time_model_0 = print_train_time(start=train_time_start_on_cpu,\n",
        "                                           end=train_time_end_on_cpu,\n",
        "                                           device=str(next(model_0.parameters()).device))"
      ],
      "metadata": {
        "id": "UPJUJhxHXf4E",
        "colab": {
          "base_uri": "https://localhost:8080/",
          "height": 587,
          "referenced_widgets": [
            "c7b2f1cc68e545afbac84d17c7f94963",
            "2109d802e5014c1ba76fe0377cbfd8ce",
            "00bcfe4bb8164864a73ebfd24e64a63e",
            "628a4b9bf6e0454aaf3ff87c08c02aec",
            "5fb535a604894e078e192921ce805b3f",
            "24c6511eb55a401a8ef8adfe137b13d3",
            "38b971fcb9d04330b85d3c17cce175be",
            "8acfa4e6a4864d3c8677e230c38cd3a9",
            "b0bebc926ad44e3580ce79c8baa30a1c",
            "9ed7d0b71e434fe3ab20e7ee03132fdd",
            "072c28284b7b41b89a17cf15bbf4ae81"
          ]
        },
        "outputId": "0b8e5bdc-ed08-48cc-9401-3df7cdea4ad4"
      },
      "execution_count": 23,
      "outputs": [
        {
          "output_type": "display_data",
          "data": {
            "text/plain": [
              "  0%|          | 0/3 [00:00<?, ?it/s]"
            ],
            "application/vnd.jupyter.widget-view+json": {
              "version_major": 2,
              "version_minor": 0,
              "model_id": "c7b2f1cc68e545afbac84d17c7f94963"
            }
          },
          "metadata": {}
        },
        {
          "output_type": "stream",
          "name": "stdout",
          "text": [
            "Epoch: 0\n",
            "-------\n",
            "Looked at 0/60000 samples\n",
            "Looked at 12800/60000 samples\n",
            "Looked at 25600/60000 samples\n",
            "Looked at 38400/60000 samples\n",
            "Looked at 51200/60000 samples\n",
            "\n",
            "Train loss: 0.59039 | Test loss: 0.50954, Test acc: 82.04%\n",
            "\n",
            "Epoch: 1\n",
            "-------\n",
            "Looked at 0/60000 samples\n",
            "Looked at 12800/60000 samples\n",
            "Looked at 25600/60000 samples\n",
            "Looked at 38400/60000 samples\n",
            "Looked at 51200/60000 samples\n",
            "\n",
            "Train loss: 0.47633 | Test loss: 0.47989, Test acc: 83.20%\n",
            "\n",
            "Epoch: 2\n",
            "-------\n",
            "Looked at 0/60000 samples\n",
            "Looked at 12800/60000 samples\n",
            "Looked at 25600/60000 samples\n",
            "Looked at 38400/60000 samples\n",
            "Looked at 51200/60000 samples\n",
            "\n",
            "Train loss: 0.45503 | Test loss: 0.47664, Test acc: 83.43%\n",
            "\n",
            "Train time on cpu: 33.189 seconds\n"
          ]
        }
      ]
    },
    {
      "cell_type": "markdown",
      "source": [
        "## 4. Make predictions and get Model 0 results"
      ],
      "metadata": {
        "id": "mUFEXx3YUC7U"
      }
    },
    {
      "cell_type": "code",
      "source": [
        "torch.manual_seed(42)\n",
        "def eval_model(model: torch.nn.Module,\n",
        "               data_loader: torch.utils.data.DataLoader,\n",
        "               loss_fn: torch.nn.Module,\n",
        "               accuracy_fn):\n",
        "  \"\"\"\n",
        "  Returns a dictionary containing the results of model predicting on data_loader..\n",
        "  \"\"\"\n",
        "  loss, acc = 0, 0\n",
        "  model.eval()\n",
        "  with torch.inference_mode():\n",
        "    for X, y in tqdm(data_loader):\n",
        "      # Make predictions\n",
        "      y_pred = model(X)\n",
        "\n",
        "      # Accumulate the loss and acc values per batch\n",
        "      loss += loss_fn(y_pred, y)\n",
        "      acc += accuracy_fn(y_true=y,\n",
        "                                y_pred=y_pred.argmax(dim=1))\n",
        "\n",
        "    # Scale loss and acc to find the average loss/acc per batch\n",
        "    loss /= len(data_loader)\n",
        "    acc /= len(data_loader)\n",
        "\n",
        "    return {'Model_name': model.__class__.__name__,\n",
        "            'Model_loss': loss.item(),\n",
        "            'Model_acc': acc}\n",
        "\n",
        "# Calculate model_0 results on test dataset\n",
        "model_0_results = eval_model(model = model_0, data_loader = test_dataloader,\n",
        "                             loss_fn = loss_fn, accuracy_fn = accuracy_fn)\n",
        "\n",
        "model_0_results"
      ],
      "metadata": {
        "colab": {
          "base_uri": "https://localhost:8080/",
          "height": 101,
          "referenced_widgets": [
            "76f6a4004f3945dcab82c8a0ce4b27ef",
            "2f3b96a9185d46d6be5c7de306328cd5",
            "cbd9ebc4a7314f56bf036c9612c13fbf",
            "8c5a440f66054005a662c2f12c868ba0",
            "a8fb874c14e14436b84703cd5aa8e7ab",
            "6544e0f0610848cca706b817a6122c55",
            "a8ad0eee691c4851a24fb90996575ec2",
            "adc2ec1cce68489bbb15e5dd6d6fd057",
            "881f0724470047d1a44b8090f0f35ff6",
            "2ebfd68c64114105a78cdf6d491ca89f",
            "09cc310650a34655a2a8b78fc96889fd"
          ]
        },
        "id": "V7P1C6XgpdYK",
        "outputId": "5a972e4a-06c6-48f9-9adf-59899921a19d"
      },
      "execution_count": 24,
      "outputs": [
        {
          "output_type": "display_data",
          "data": {
            "text/plain": [
              "  0%|          | 0/313 [00:00<?, ?it/s]"
            ],
            "application/vnd.jupyter.widget-view+json": {
              "version_major": 2,
              "version_minor": 0,
              "model_id": "76f6a4004f3945dcab82c8a0ce4b27ef"
            }
          },
          "metadata": {}
        },
        {
          "output_type": "execute_result",
          "data": {
            "text/plain": [
              "{'Model_name': 'FashionMNISTModelV0',\n",
              " 'Model_loss': 0.47663894295692444,\n",
              " 'Model_acc': 83.42651757188499}"
            ]
          },
          "metadata": {},
          "execution_count": 24
        }
      ]
    },
    {
      "cell_type": "markdown",
      "source": [
        "## 5. Setup Device Agnostic Code (for using GPU)"
      ],
      "metadata": {
        "id": "QdO2oO0uXiaf"
      }
    },
    {
      "cell_type": "code",
      "source": [
        "device = 'cuda' if torch.cuda.is_available() else 'cpu'\n",
        "device"
      ],
      "metadata": {
        "colab": {
          "base_uri": "https://localhost:8080/",
          "height": 35
        },
        "id": "k0CyzaX-Xse0",
        "outputId": "131a0766-e75d-44f6-edbf-f003380baa4f"
      },
      "execution_count": 25,
      "outputs": [
        {
          "output_type": "execute_result",
          "data": {
            "text/plain": [
              "'cpu'"
            ],
            "application/vnd.google.colaboratory.intrinsic+json": {
              "type": "string"
            }
          },
          "metadata": {},
          "execution_count": 25
        }
      ]
    },
    {
      "cell_type": "markdown",
      "source": [
        "## 6. Model_1: Building a better model with non-linearity"
      ],
      "metadata": {
        "id": "CJ8A6-uMYptl"
      }
    },
    {
      "cell_type": "code",
      "source": [
        "# Create a model with non-linear and linear layers\n",
        "class FashionMNISTModelV1(nn.Module):\n",
        "    def __init__(self, input_shape: int, hidden_units: int, output_shape: int):\n",
        "        super().__init__()\n",
        "        self.layer_stack = nn.Sequential(\n",
        "            nn.Flatten(), # flatten inputs into single vector\n",
        "            nn.Linear(in_features=input_shape, out_features=hidden_units),\n",
        "            nn.ReLU(),\n",
        "            nn.Linear(in_features=hidden_units, out_features=output_shape),\n",
        "            nn.ReLU()\n",
        "        )\n",
        "\n",
        "    def forward(self, x: torch.Tensor):\n",
        "        return self.layer_stack(x)"
      ],
      "metadata": {
        "id": "0OL9P-smYRgb"
      },
      "execution_count": 26,
      "outputs": []
    },
    {
      "cell_type": "code",
      "source": [
        "torch.manual_seed(42)\n",
        "model_1 = FashionMNISTModelV1(input_shape=784, # number of input features\n",
        "    hidden_units=10,\n",
        "    output_shape=len(class_names) # number of output classes desired\n",
        ").to(device) # send model to GPU if it's available\n",
        "next(model_1.parameters()).device # check model device"
      ],
      "metadata": {
        "id": "hdF9gL7rbyLC",
        "colab": {
          "base_uri": "https://localhost:8080/"
        },
        "outputId": "28fd11cc-0e68-4963-eb0e-93f0bdcc752d"
      },
      "execution_count": 27,
      "outputs": [
        {
          "output_type": "execute_result",
          "data": {
            "text/plain": [
              "device(type='cpu')"
            ]
          },
          "metadata": {},
          "execution_count": 27
        }
      ]
    },
    {
      "cell_type": "code",
      "source": [
        "model_1"
      ],
      "metadata": {
        "colab": {
          "base_uri": "https://localhost:8080/"
        },
        "id": "54PopEZdcZ66",
        "outputId": "61b4a589-4a89-484f-ebf4-19731a1e7b30"
      },
      "execution_count": 28,
      "outputs": [
        {
          "output_type": "execute_result",
          "data": {
            "text/plain": [
              "FashionMNISTModelV1(\n",
              "  (layer_stack): Sequential(\n",
              "    (0): Flatten(start_dim=1, end_dim=-1)\n",
              "    (1): Linear(in_features=784, out_features=10, bias=True)\n",
              "    (2): ReLU()\n",
              "    (3): Linear(in_features=10, out_features=10, bias=True)\n",
              "    (4): ReLU()\n",
              "  )\n",
              ")"
            ]
          },
          "metadata": {},
          "execution_count": 28
        }
      ]
    },
    {
      "cell_type": "markdown",
      "source": [
        "## 6.1 Setup loss, optimizer and evaluation metrics"
      ],
      "metadata": {
        "id": "ubjiyZBDdDOU"
      }
    },
    {
      "cell_type": "code",
      "source": [
        "from helper_functions import accuracy_fn\n",
        "loss_fn = nn.CrossEntropyLoss()\n",
        "optimizer = torch.optim.SGD(params=model_1.parameters(),\n",
        "                            lr=0.1)"
      ],
      "metadata": {
        "id": "VFDlM0b5cxXK"
      },
      "execution_count": 29,
      "outputs": []
    },
    {
      "cell_type": "markdown",
      "source": [
        "## 6.2 Functionizing Training and Testing Loops\n",
        "\n",
        "Lets create a function for\n",
        "* Train Loop (train_step)\n",
        "* Test Loop (test_step)"
      ],
      "metadata": {
        "id": "-1dv6oiFgfQ2"
      }
    },
    {
      "cell_type": "code",
      "source": [
        "def train_step(model: torch.nn.Module,\n",
        "               data_loader: torch.utils.data.DataLoader,\n",
        "               loss_fn: torch.nn.Module,\n",
        "               optimizer: torch.optim.Optimizer,\n",
        "               accuracy_fn,\n",
        "               device: torch.device = device):\n",
        "    train_loss, train_acc = 0, 0\n",
        "    model.to(device)\n",
        "    for batch, (X, y) in enumerate(data_loader):\n",
        "        # Send data to GPU\n",
        "        X, y = X.to(device), y.to(device)\n",
        "\n",
        "        # 1. Forward pass\n",
        "        y_pred = model(X)\n",
        "\n",
        "        # 2. Calculate loss\n",
        "        loss = loss_fn(y_pred, y)\n",
        "        train_loss += loss\n",
        "        train_acc += accuracy_fn(y_true=y,\n",
        "                                 y_pred=y_pred.argmax(dim=1)) # Go from logits -> pred labels\n",
        "\n",
        "        # 3. Optimizer zero grad\n",
        "        optimizer.zero_grad()\n",
        "\n",
        "        # 4. Loss backward\n",
        "        loss.backward()\n",
        "\n",
        "        # 5. Optimizer step\n",
        "        optimizer.step()\n",
        "\n",
        "    # Calculate loss and accuracy per epoch and print out what's happening\n",
        "    train_loss /= len(data_loader)\n",
        "    train_acc /= len(data_loader)\n",
        "    print(f\"Train loss: {train_loss:.5f} | Train accuracy: {train_acc:.2f}%\")"
      ],
      "metadata": {
        "id": "NkhyfxzogVV8"
      },
      "execution_count": 30,
      "outputs": []
    },
    {
      "cell_type": "code",
      "source": [
        "def test_step(data_loader: torch.utils.data.DataLoader,\n",
        "              model: torch.nn.Module,\n",
        "              loss_fn: torch.nn.Module,\n",
        "              accuracy_fn,\n",
        "              device: torch.device = device):\n",
        "    test_loss, test_acc = 0, 0\n",
        "    model.to(device)\n",
        "    model.eval() # put model in eval mode\n",
        "    # Turn on inference context manager\n",
        "    with torch.inference_mode():\n",
        "        for X, y in data_loader:\n",
        "            # Send data to GPU\n",
        "            X, y = X.to(device), y.to(device)\n",
        "\n",
        "            # 1. Forward pass\n",
        "            test_pred = model(X)\n",
        "\n",
        "            # 2. Calculate loss and accuracy\n",
        "            test_loss += loss_fn(test_pred, y)\n",
        "            test_acc += accuracy_fn(y_true=y,\n",
        "                y_pred=test_pred.argmax(dim=1) # Go from logits -> pred labels\n",
        "            )\n",
        "\n",
        "        # Adjust metrics and print out\n",
        "        test_loss /= len(data_loader)\n",
        "        test_acc /= len(data_loader)\n",
        "        print(f\"Test loss: {test_loss:.5f} | Test accuracy: {test_acc:.2f}%\\n\")"
      ],
      "metadata": {
        "id": "AFy_oZ99GkA-"
      },
      "execution_count": 31,
      "outputs": []
    },
    {
      "cell_type": "code",
      "source": [
        "torch.manual_seed(42)\n",
        "\n",
        "# Measure time\n",
        "from timeit import default_timer as timer\n",
        "train_time_start_on_gpu = timer()\n",
        "\n",
        "epochs = 3\n",
        "for epoch in tqdm(range(epochs)):\n",
        "    print(f\"Epoch: {epoch}\\n---------\")\n",
        "    train_step(data_loader=train_dataloader,\n",
        "        model=model_1,\n",
        "        loss_fn=loss_fn,\n",
        "        optimizer=optimizer,\n",
        "        accuracy_fn=accuracy_fn\n",
        "    )\n",
        "    test_step(data_loader=test_dataloader,\n",
        "        model=model_1,\n",
        "        loss_fn=loss_fn,\n",
        "        accuracy_fn=accuracy_fn\n",
        "    )\n",
        "\n",
        "train_time_end_on_gpu = timer()\n",
        "total_train_time_model_1 = print_train_time(start=train_time_start_on_gpu,\n",
        "                                            end=train_time_end_on_gpu,\n",
        "                                            device=device)"
      ],
      "metadata": {
        "colab": {
          "base_uri": "https://localhost:8080/",
          "height": 327,
          "referenced_widgets": [
            "177b5b07b10948999a785cb6979632d0",
            "1cdc5016aaa64166aebb6b5fbee9248f",
            "1eba0e41b0b7495cb6b1cf1d317273f4",
            "7422422aa99f4f1dae341ee48a8e2651",
            "877f7288a8f04dc79abc5712591abe62",
            "4c0cf378307a47fbb1f65f6caadc56de",
            "5f222e0077114b8db611bed1bc7ac984",
            "646095b29b304bcbbcd406b80da4ba82",
            "e1255506290f4b72b973c0a5c71af5e1",
            "61ba1293f70e491099f132e697884d07",
            "f6b570479f5e4715bc69bd27160bfe05"
          ]
        },
        "id": "OxXn_qzKIb1A",
        "outputId": "aae84e74-a4f5-47d8-9d8d-7618b1ade360"
      },
      "execution_count": 32,
      "outputs": [
        {
          "output_type": "display_data",
          "data": {
            "text/plain": [
              "  0%|          | 0/3 [00:00<?, ?it/s]"
            ],
            "application/vnd.jupyter.widget-view+json": {
              "version_major": 2,
              "version_minor": 0,
              "model_id": "177b5b07b10948999a785cb6979632d0"
            }
          },
          "metadata": {}
        },
        {
          "output_type": "stream",
          "name": "stdout",
          "text": [
            "Epoch: 0\n",
            "---------\n",
            "Train loss: 1.09199 | Train accuracy: 61.34%\n",
            "Test loss: 0.95636 | Test accuracy: 65.00%\n",
            "\n",
            "Epoch: 1\n",
            "---------\n",
            "Train loss: 0.78101 | Train accuracy: 71.93%\n",
            "Test loss: 0.72227 | Test accuracy: 73.91%\n",
            "\n",
            "Epoch: 2\n",
            "---------\n",
            "Train loss: 0.67027 | Train accuracy: 75.94%\n",
            "Test loss: 0.68500 | Test accuracy: 75.02%\n",
            "\n",
            "Train time on cpu: 34.078 seconds\n"
          ]
        }
      ]
    },
    {
      "cell_type": "code",
      "source": [
        "# Get model_1 results dictionary\n",
        "model_1_results = eval_model(model = model_1,\n",
        "                             data_loader = test_dataloader,\n",
        "                             loss_fn = loss_fn,\n",
        "                             accuracy_fn = accuracy_fn)\n",
        "model_1_results"
      ],
      "metadata": {
        "colab": {
          "base_uri": "https://localhost:8080/",
          "height": 101,
          "referenced_widgets": [
            "b07ab65d94bc40adb7f90ebccbf89c2a",
            "0cdff1c3c86343d0b5fd2ee2d992ae93",
            "faf52c64feaa4dd8950fc463d30aeef9",
            "199733ce60bc448885792c58ea1d90d1",
            "9dd9e577ec464e2daae877fe3185e4fe",
            "939e2adbfbec4e7594af04f804bcd930",
            "e1b82655a5a14a7587ce3ac556f2e7f3",
            "03017580e3e64152974a142669d40aa8",
            "550065816c5140de8733fb64abd2acc5",
            "a132c17140784690b87becdecd65821a",
            "d2d5a987a8f442dfbb08444cd58a76d5"
          ]
        },
        "id": "QSZyItaBKQFt",
        "outputId": "60b6c26d-92eb-432d-e973-811da1204355"
      },
      "execution_count": 33,
      "outputs": [
        {
          "output_type": "display_data",
          "data": {
            "text/plain": [
              "  0%|          | 0/313 [00:00<?, ?it/s]"
            ],
            "application/vnd.jupyter.widget-view+json": {
              "version_major": 2,
              "version_minor": 0,
              "model_id": "b07ab65d94bc40adb7f90ebccbf89c2a"
            }
          },
          "metadata": {}
        },
        {
          "output_type": "execute_result",
          "data": {
            "text/plain": [
              "{'Model_name': 'FashionMNISTModelV1',\n",
              " 'Model_loss': 0.6850009560585022,\n",
              " 'Model_acc': 75.01996805111821}"
            ]
          },
          "metadata": {},
          "execution_count": 33
        }
      ]
    },
    {
      "cell_type": "markdown",
      "source": [
        "## Model 2. Convolutional Neural Network"
      ],
      "metadata": {
        "id": "2E7Zx9M9SMjB"
      }
    },
    {
      "cell_type": "code",
      "source": [
        "# Create a convolutional neural network\n",
        "class FashionMNISTModelV2(nn.Module):\n",
        "    \"\"\"\n",
        "    Model architecture copying TinyVGG from:\n",
        "    https://poloclub.github.io/cnn-explainer/\n",
        "    \"\"\"\n",
        "    def __init__(self, input_shape: int, hidden_units: int, output_shape: int):\n",
        "        super().__init__()\n",
        "        self.block_1 = nn.Sequential(\n",
        "            nn.Conv2d(in_channels=input_shape,\n",
        "                      out_channels=hidden_units,\n",
        "                      kernel_size=3, # how big is the square that's going over the image?\n",
        "                      stride=1, # default\n",
        "                      padding=1),# options = \"valid\" (no padding) or \"same\"\n",
        "            nn.ReLU(),\n",
        "            nn.Conv2d(in_channels=hidden_units,\n",
        "                      out_channels=hidden_units,\n",
        "                      kernel_size=3,\n",
        "                      stride=1,\n",
        "                      padding=1),\n",
        "            nn.ReLU(),\n",
        "            nn.MaxPool2d(kernel_size=2,\n",
        "                         stride=2) # default stride value is same as kernel_size\n",
        "        )\n",
        "        self.block_2 = nn.Sequential(\n",
        "            nn.Conv2d(hidden_units, hidden_units, 3, padding=1),\n",
        "            nn.ReLU(),\n",
        "            nn.Conv2d(hidden_units, hidden_units, 3, padding=1),\n",
        "            nn.ReLU(),\n",
        "            nn.MaxPool2d(2)\n",
        "        )\n",
        "        self.classifier = nn.Sequential(\n",
        "            nn.Flatten(),\n",
        "            nn.Linear(in_features=hidden_units*7*7,\n",
        "                      out_features=output_shape)\n",
        "        )\n",
        "\n",
        "    def forward(self, x: torch.Tensor):\n",
        "        x = self.block_1(x)\n",
        "        # print(x.shape)\n",
        "        x = self.block_2(x)\n",
        "        # print(x.shape)\n",
        "        x = self.classifier(x)\n",
        "        # print(x.shape)\n",
        "        return x"
      ],
      "metadata": {
        "id": "v0Na_cShQD7c"
      },
      "execution_count": 46,
      "outputs": []
    },
    {
      "cell_type": "code",
      "source": [
        "model_2 = FashionMNISTModelV2(input_shape=1,\n",
        "    hidden_units=10,\n",
        "    output_shape=len(class_names)).to(device)\n",
        "model_2"
      ],
      "metadata": {
        "id": "uTi4fPyVTSKU",
        "colab": {
          "base_uri": "https://localhost:8080/"
        },
        "outputId": "cb4e5e5b-d868-421c-96fc-329347f6fac6"
      },
      "execution_count": 47,
      "outputs": [
        {
          "output_type": "execute_result",
          "data": {
            "text/plain": [
              "FashionMNISTModelV2(\n",
              "  (block_1): Sequential(\n",
              "    (0): Conv2d(1, 10, kernel_size=(3, 3), stride=(1, 1), padding=(1, 1))\n",
              "    (1): ReLU()\n",
              "    (2): Conv2d(10, 10, kernel_size=(3, 3), stride=(1, 1), padding=(1, 1))\n",
              "    (3): ReLU()\n",
              "    (4): MaxPool2d(kernel_size=2, stride=2, padding=0, dilation=1, ceil_mode=False)\n",
              "  )\n",
              "  (block_2): Sequential(\n",
              "    (0): Conv2d(10, 10, kernel_size=(3, 3), stride=(1, 1), padding=(1, 1))\n",
              "    (1): ReLU()\n",
              "    (2): Conv2d(10, 10, kernel_size=(3, 3), stride=(1, 1), padding=(1, 1))\n",
              "    (3): ReLU()\n",
              "    (4): MaxPool2d(kernel_size=2, stride=2, padding=0, dilation=1, ceil_mode=False)\n",
              "  )\n",
              "  (classifier): Sequential(\n",
              "    (0): Flatten(start_dim=1, end_dim=-1)\n",
              "    (1): Linear(in_features=490, out_features=10, bias=True)\n",
              "  )\n",
              ")"
            ]
          },
          "metadata": {},
          "execution_count": 47
        }
      ]
    },
    {
      "cell_type": "markdown",
      "source": [
        "###**nn Conv2D**"
      ],
      "metadata": {
        "id": "gJ_GV0j3e5KK"
      }
    },
    {
      "cell_type": "code",
      "source": [
        "torch.manual_seed(42)\n",
        "\n",
        "# Create a batch of images\n",
        "images = torch.randn(size = (32, 3, 64, 64))\n",
        "test_image = images[0]\n",
        "\n",
        "print(f'Image Batch: {images.shape}')\n",
        "print(f'Single Image shape: {test_image.shape}')\n",
        "print(f'Test Image:\\n {test_image}')"
      ],
      "metadata": {
        "colab": {
          "base_uri": "https://localhost:8080/"
        },
        "id": "Kj1WfFGIA93C",
        "outputId": "876e4717-62a3-451e-b18f-8475d55276fc"
      },
      "execution_count": 37,
      "outputs": [
        {
          "output_type": "stream",
          "name": "stdout",
          "text": [
            "Image Batch: torch.Size([32, 3, 64, 64])\n",
            "Single Image shape: torch.Size([3, 64, 64])\n",
            "Test Image:\n",
            " tensor([[[ 1.9269,  1.4873,  0.9007,  ...,  1.8446, -1.1845,  1.3835],\n",
            "         [ 1.4451,  0.8564,  2.2181,  ...,  0.3399,  0.7200,  0.4114],\n",
            "         [ 1.9312,  1.0119, -1.4364,  ..., -0.5558,  0.7043,  0.7099],\n",
            "         ...,\n",
            "         [-0.5610, -0.4830,  0.4770,  ..., -0.2713, -0.9537, -0.6737],\n",
            "         [ 0.3076, -0.1277,  0.0366,  ..., -2.0060,  0.2824, -0.8111],\n",
            "         [-1.5486,  0.0485, -0.7712,  ..., -0.1403,  0.9416, -0.0118]],\n",
            "\n",
            "        [[-0.5197,  1.8524,  1.8365,  ...,  0.8935, -1.5114, -0.8515],\n",
            "         [ 2.0818,  1.0677, -1.4277,  ...,  1.6612, -2.6223, -0.4319],\n",
            "         [-0.1010, -0.4388, -1.9775,  ...,  0.2106,  0.2536, -0.7318],\n",
            "         ...,\n",
            "         [ 0.2779,  0.7342, -0.3736,  ..., -0.4601,  0.1815,  0.1850],\n",
            "         [ 0.7205, -0.2833,  0.0937,  ..., -0.1002, -2.3609,  2.2465],\n",
            "         [-1.3242, -0.1973,  0.2920,  ...,  0.5409,  0.6940,  1.8563]],\n",
            "\n",
            "        [[-0.7978,  1.0261,  1.1465,  ...,  1.2134,  0.9354, -0.0780],\n",
            "         [-1.4647, -1.9571,  0.1017,  ..., -1.9986, -0.7409,  0.7011],\n",
            "         [-1.3938,  0.8466, -1.7191,  ..., -1.1867,  0.1320,  0.3407],\n",
            "         ...,\n",
            "         [ 0.8206, -0.3745,  1.2499,  ..., -0.0676,  0.0385,  0.6335],\n",
            "         [-0.5589, -0.3393,  0.2347,  ...,  2.1181,  2.4569,  1.3083],\n",
            "         [-0.4092,  1.5199,  0.2401,  ..., -0.2558,  0.7870,  0.9924]]])\n"
          ]
        }
      ]
    },
    {
      "cell_type": "code",
      "source": [
        "test_image.shape"
      ],
      "metadata": {
        "colab": {
          "base_uri": "https://localhost:8080/"
        },
        "id": "mAn9LKXWkFIq",
        "outputId": "ba229731-cca4-4d35-c90f-81a3e6777c0d"
      },
      "execution_count": 38,
      "outputs": [
        {
          "output_type": "execute_result",
          "data": {
            "text/plain": [
              "torch.Size([3, 64, 64])"
            ]
          },
          "metadata": {},
          "execution_count": 38
        }
      ]
    },
    {
      "cell_type": "code",
      "source": [
        "torch.manual_seed(42)\n",
        "# Create single Conv2D layer\n",
        "conv_layer = nn.Conv2d(in_channels = 3,\n",
        "                       out_channels=10,\n",
        "                       kernel_size = 3,\n",
        "                       stride = 1,\n",
        "                       padding = 1)\n",
        "\n",
        "# Pass the data to convolutional layer\n",
        "conv_output = conv_layer(test_image.unsqueeze(0))\n",
        "conv_output.shape"
      ],
      "metadata": {
        "colab": {
          "base_uri": "https://localhost:8080/"
        },
        "id": "f_M1eoeVeufE",
        "outputId": "5d109530-cc6d-4356-9847-c50892aa98df"
      },
      "execution_count": 39,
      "outputs": [
        {
          "output_type": "execute_result",
          "data": {
            "text/plain": [
              "torch.Size([1, 10, 64, 64])"
            ]
          },
          "metadata": {},
          "execution_count": 39
        }
      ]
    },
    {
      "cell_type": "markdown",
      "source": [
        "###**nn.MaxPool2d()**"
      ],
      "metadata": {
        "id": "X1sa0rosltQC"
      }
    },
    {
      "cell_type": "code",
      "source": [
        "print(f'Test Image Original shape: {test_image.shape}')\n",
        "print(f'Test image with unsqueezed dimension: {test_image.unsqueeze(0).shape}')\n",
        "\n",
        "# create a sample nn.MaxPool2D layer\n",
        "max_pool_layer = nn.MaxPool2d(kernel_size=2)\n",
        "\n",
        "# Pass through just the conv layer\n",
        "test_image_through_conv = conv_layer(test_image.unsqueeze(dim=0))\n",
        "print(f'Shape after going through conv_layer(): {test_image_through_conv.shape}')\n",
        "\n",
        "# Pass data throught max pool layer\n",
        "test_image_through_conv_and_maxPool = max_pool_layer(test_image_through_conv)\n",
        "print(f'Shape after going through conv_layer() and max_pool_layer(): {test_image_through_conv_and_maxPool.shape}')"
      ],
      "metadata": {
        "colab": {
          "base_uri": "https://localhost:8080/"
        },
        "id": "AFkmnTzFj3F0",
        "outputId": "40e36aaa-620b-42a7-cba8-5977dbb0427e"
      },
      "execution_count": 40,
      "outputs": [
        {
          "output_type": "stream",
          "name": "stdout",
          "text": [
            "Test Image Original shape: torch.Size([3, 64, 64])\n",
            "Test image with unsqueezed dimension: torch.Size([1, 3, 64, 64])\n",
            "Shape after going through conv_layer(): torch.Size([1, 10, 64, 64])\n",
            "Shape after going through conv_layer() and max_pool_layer(): torch.Size([1, 10, 32, 32])\n"
          ]
        }
      ]
    },
    {
      "cell_type": "code",
      "source": [
        "torch.manual_seed(42)\n",
        "# Create a tensor with a similar number of dimensions to our images\n",
        "random_tensor = torch.randn(size = (1, 1, 2, 2))\n",
        "print(f'\\nRandom tensor:\\n{random_tensor}')\n",
        "print(f'Random Tensor Shape: {random_tensor.shape}')\n",
        "\n",
        "# Create a MaxPool Layer\n",
        "max_pool_layer = nn.MaxPool2d(kernel_size = 2)\n",
        "\n",
        "# Pass the random tensor through max pool layer\n",
        "max_pool_tensor = max_pool_layer(random_tensor)\n",
        "print(f'\\nMax Pool Tensor: {max_pool_tensor}')\n",
        "print(f'Max Pool Tensor shape: {max_pool_tensor.shape}')\n",
        "random_tensor"
      ],
      "metadata": {
        "id": "k0KFHP4BoGkZ",
        "colab": {
          "base_uri": "https://localhost:8080/"
        },
        "outputId": "7ed172ed-21fd-4d9b-ace1-68b6f3ac10d2"
      },
      "execution_count": 42,
      "outputs": [
        {
          "output_type": "stream",
          "name": "stdout",
          "text": [
            "\n",
            "Random tensor:\n",
            "tensor([[[[0.3367, 0.1288],\n",
            "          [0.2345, 0.2303]]]])\n",
            "Random Tensor Shape: torch.Size([1, 1, 2, 2])\n",
            "\n",
            "Max Pool Tensor: tensor([[[[0.3367]]]])\n",
            "Max Pool Tensor shape: torch.Size([1, 1, 1, 1])\n"
          ]
        },
        {
          "output_type": "execute_result",
          "data": {
            "text/plain": [
              "tensor([[[[0.3367, 0.1288],\n",
              "          [0.2345, 0.2303]]]])"
            ]
          },
          "metadata": {},
          "execution_count": 42
        }
      ]
    },
    {
      "cell_type": "markdown",
      "source": [
        "### Setup loss function and optimizers"
      ],
      "metadata": {
        "id": "QtEh9C3boHb3"
      }
    },
    {
      "cell_type": "code",
      "source": [
        "from torch.nn.parallel.data_parallel import T\n",
        "from helper_functions import accuracy_fn\n",
        "\n",
        "loss_fn = nn.CrossEntropyLoss()\n",
        "optimizer = torch.optim.SGD(params = model_2.parameters(),\n",
        "                            lr = 0.1)"
      ],
      "metadata": {
        "id": "8aFBcs_Ph7mm"
      },
      "execution_count": 50,
      "outputs": []
    },
    {
      "cell_type": "code",
      "source": [
        "model_2.state_dict()"
      ],
      "metadata": {
        "colab": {
          "base_uri": "https://localhost:8080/"
        },
        "id": "2DD2Dy4UoY4F",
        "outputId": "bf6138a1-6fc8-4f28-f112-303667f0b401"
      },
      "execution_count": 51,
      "outputs": [
        {
          "output_type": "execute_result",
          "data": {
            "text/plain": [
              "OrderedDict([('block_1.0.weight',\n",
              "              tensor([[[[ 0.2938, -0.2445,  0.2897],\n",
              "                        [ 0.0624,  0.2463,  0.0451],\n",
              "                        [ 0.1607, -0.0471,  0.2570]]],\n",
              "              \n",
              "              \n",
              "                      [[[ 0.0493, -0.1556,  0.0850],\n",
              "                        [-0.1536, -0.0391, -0.1354],\n",
              "                        [ 0.2211, -0.2631, -0.1537]]],\n",
              "              \n",
              "              \n",
              "                      [[[-0.0941, -0.2004,  0.0315],\n",
              "                        [-0.3292,  0.3010, -0.2832],\n",
              "                        [ 0.2573,  0.0555, -0.1082]]],\n",
              "              \n",
              "              \n",
              "                      [[[ 0.2060,  0.0520,  0.2693],\n",
              "                        [ 0.0364, -0.1051,  0.0896],\n",
              "                        [-0.0904,  0.1403,  0.2976]]],\n",
              "              \n",
              "              \n",
              "                      [[[ 0.1927, -0.1457,  0.1924],\n",
              "                        [ 0.0596,  0.1693, -0.2032],\n",
              "                        [-0.3300, -0.1288, -0.2557]]],\n",
              "              \n",
              "              \n",
              "                      [[[ 0.2735,  0.0960,  0.1381],\n",
              "                        [ 0.1054, -0.0058,  0.2609],\n",
              "                        [-0.2368,  0.0210, -0.2275]]],\n",
              "              \n",
              "              \n",
              "                      [[[ 0.1028, -0.1148,  0.1021],\n",
              "                        [-0.0694,  0.2765, -0.1976],\n",
              "                        [-0.1988, -0.1988,  0.2998]]],\n",
              "              \n",
              "              \n",
              "                      [[[ 0.1111,  0.3208, -0.2751],\n",
              "                        [-0.3306, -0.2608, -0.2242],\n",
              "                        [ 0.1350,  0.1194,  0.2770]]],\n",
              "              \n",
              "              \n",
              "                      [[[-0.1721, -0.2272,  0.1769],\n",
              "                        [-0.1347,  0.2023, -0.0791],\n",
              "                        [ 0.1907, -0.2590, -0.1682]]],\n",
              "              \n",
              "              \n",
              "                      [[[ 0.1016,  0.0705, -0.0850],\n",
              "                        [ 0.1987,  0.2266, -0.2417],\n",
              "                        [-0.1780,  0.3052, -0.1125]]]])),\n",
              "             ('block_1.0.bias',\n",
              "              tensor([-0.1182, -0.3225, -0.1909,  0.0833, -0.0440, -0.2420,  0.0078, -0.2277,\n",
              "                      -0.2828, -0.1836])),\n",
              "             ('block_1.2.weight',\n",
              "              tensor([[[[-0.0923, -0.0671,  0.1054],\n",
              "                        [ 0.0199,  0.0325, -0.0983],\n",
              "                        [-0.0692, -0.0351,  0.0165]],\n",
              "              \n",
              "                       [[-0.0928, -0.0454, -0.0631],\n",
              "                        [ 0.0003, -0.0392, -0.0073],\n",
              "                        [-0.0714, -0.0724, -0.0615]],\n",
              "              \n",
              "                       [[-0.0361, -0.0832,  0.0884],\n",
              "                        [-0.0209,  0.0907,  0.0328],\n",
              "                        [-0.0893,  0.0729, -0.0290]],\n",
              "              \n",
              "                       [[-0.0404, -0.0875, -0.1048],\n",
              "                        [ 0.0302, -0.0230,  0.0410],\n",
              "                        [-0.0865,  0.0783, -0.0774]],\n",
              "              \n",
              "                       [[-0.0182,  0.0220,  0.0544],\n",
              "                        [ 0.0851,  0.0960, -0.0836],\n",
              "                        [ 0.0265, -0.0453, -0.0116]],\n",
              "              \n",
              "                       [[-0.0789,  0.0960, -0.0774],\n",
              "                        [ 0.0563,  0.0370,  0.0343],\n",
              "                        [-0.0570,  0.0958,  0.0232]],\n",
              "              \n",
              "                       [[ 0.0136, -0.0929,  0.0442],\n",
              "                        [-0.0158, -0.0483,  0.0905],\n",
              "                        [ 0.0235, -0.0583, -0.0534]],\n",
              "              \n",
              "                       [[-0.0050,  0.0589, -0.0269],\n",
              "                        [-0.0601, -0.0361, -0.0787],\n",
              "                        [ 0.0376,  0.0816, -0.0992]],\n",
              "              \n",
              "                       [[ 0.0245,  0.0545,  0.0191],\n",
              "                        [-0.0375,  0.0550,  0.0554],\n",
              "                        [ 0.0394, -0.0185, -0.0279]],\n",
              "              \n",
              "                       [[ 0.0113, -0.0186, -0.0314],\n",
              "                        [ 0.0674,  0.0906, -0.0104],\n",
              "                        [-0.0236,  0.0015, -0.0063]]],\n",
              "              \n",
              "              \n",
              "                      [[[ 0.0253,  0.0295, -0.0957],\n",
              "                        [-0.0389,  0.0888,  0.0411],\n",
              "                        [-0.0052, -0.0636, -0.0645]],\n",
              "              \n",
              "                       [[-0.0944, -0.0344,  0.0356],\n",
              "                        [ 0.0672,  0.0487, -0.0932],\n",
              "                        [-0.0634, -0.0166,  0.1020]],\n",
              "              \n",
              "                       [[ 0.0152, -0.0273,  0.0436],\n",
              "                        [-0.0401, -0.0682,  0.0769],\n",
              "                        [-0.0479, -0.0211, -0.1049]],\n",
              "              \n",
              "                       [[ 0.0705,  0.0799,  0.0384],\n",
              "                        [-0.0735, -0.1040, -0.0856],\n",
              "                        [ 0.0786,  0.0506,  0.0887]],\n",
              "              \n",
              "                       [[ 0.0552,  0.0267, -0.0010],\n",
              "                        [-0.0802, -0.0903, -0.0986],\n",
              "                        [ 0.0432, -0.0518, -0.0212]],\n",
              "              \n",
              "                       [[-0.0607, -0.0192, -0.0742],\n",
              "                        [-0.0689,  0.0350, -0.0313],\n",
              "                        [ 0.0651, -0.0338, -0.0773]],\n",
              "              \n",
              "                       [[-0.0186, -0.0511, -0.0322],\n",
              "                        [-0.1003,  0.0590, -0.0734],\n",
              "                        [ 0.0530,  0.0478,  0.0753]],\n",
              "              \n",
              "                       [[-0.0809,  0.0758, -0.0498],\n",
              "                        [ 0.0391,  0.0990, -0.0149],\n",
              "                        [-0.0008, -0.0243, -0.0880]],\n",
              "              \n",
              "                       [[ 0.0506, -0.1046,  0.0654],\n",
              "                        [ 0.0789,  0.0997, -0.0249],\n",
              "                        [-0.0866,  0.0237,  0.0582]],\n",
              "              \n",
              "                       [[-0.1049, -0.0239, -0.0632],\n",
              "                        [-0.0092, -0.0519, -0.0431],\n",
              "                        [-0.0335, -0.1002,  0.0865]]],\n",
              "              \n",
              "              \n",
              "                      [[[ 0.0884, -0.0165, -0.0120],\n",
              "                        [-0.0430, -0.0952, -0.1026],\n",
              "                        [ 0.0392, -0.0579, -0.0678]],\n",
              "              \n",
              "                       [[-0.0082, -0.0351, -0.0341],\n",
              "                        [ 0.0034, -0.0224, -0.0363],\n",
              "                        [-0.0505, -0.0858,  0.0884]],\n",
              "              \n",
              "                       [[-0.0422,  0.0279, -0.0366],\n",
              "                        [ 0.0086,  0.0983,  0.0486],\n",
              "                        [-0.0913,  0.0418,  0.1001]],\n",
              "              \n",
              "                       [[ 0.0277,  0.0707,  0.1039],\n",
              "                        [-0.0162,  0.0219, -0.0733],\n",
              "                        [-0.0217,  0.0781,  0.0540]],\n",
              "              \n",
              "                       [[-0.0667, -0.0845, -0.0720],\n",
              "                        [-0.1040, -0.0813, -0.0261],\n",
              "                        [ 0.0711,  0.0176, -0.0802]],\n",
              "              \n",
              "                       [[-0.0846,  0.0524, -0.0784],\n",
              "                        [-0.0130,  0.0506, -0.0488],\n",
              "                        [-0.0115, -0.0092, -0.0249]],\n",
              "              \n",
              "                       [[-0.0534, -0.0940, -0.0852],\n",
              "                        [-0.0564,  0.1018, -0.0509],\n",
              "                        [-0.0708,  0.0256,  0.0291]],\n",
              "              \n",
              "                       [[ 0.0578,  0.0801,  0.0587],\n",
              "                        [-0.1045,  0.0093,  0.0639],\n",
              "                        [-0.0097, -0.0621,  0.1005]],\n",
              "              \n",
              "                       [[-0.0394, -0.0600, -0.0950],\n",
              "                        [ 0.0047,  0.0467,  0.0233],\n",
              "                        [ 0.0208, -0.0799, -0.0984]],\n",
              "              \n",
              "                       [[ 0.0019,  0.0961,  0.0608],\n",
              "                        [-0.0614, -0.0137, -0.0777],\n",
              "                        [-0.0509,  0.0191,  0.0574]]],\n",
              "              \n",
              "              \n",
              "                      [[[ 0.0873, -0.0968,  0.0705],\n",
              "                        [-0.0743,  0.0395,  0.0892],\n",
              "                        [ 0.0015,  0.0959, -0.0898]],\n",
              "              \n",
              "                       [[-0.0403,  0.0615, -0.0230],\n",
              "                        [-0.0216, -0.0439,  0.0727],\n",
              "                        [ 0.0517,  0.0338, -0.0592]],\n",
              "              \n",
              "                       [[-0.0856,  0.0114,  0.0312],\n",
              "                        [-0.0487, -0.0295,  0.0712],\n",
              "                        [ 0.0084,  0.0048, -0.0259]],\n",
              "              \n",
              "                       [[-0.0955, -0.0991, -0.0504],\n",
              "                        [-0.0536,  0.0328, -0.0307],\n",
              "                        [-0.0412,  0.1005,  0.0367]],\n",
              "              \n",
              "                       [[ 0.0751, -0.0510, -0.0431],\n",
              "                        [ 0.0387, -0.0702, -0.0689],\n",
              "                        [-0.0051, -0.0386, -0.0790]],\n",
              "              \n",
              "                       [[ 0.0625,  0.0848,  0.0171],\n",
              "                        [-0.0184, -0.0976, -0.0384],\n",
              "                        [ 0.0268,  0.0497, -0.0133]],\n",
              "              \n",
              "                       [[-0.0417,  0.0587, -0.0839],\n",
              "                        [ 0.0666, -0.0409,  0.0016],\n",
              "                        [-0.0208,  0.0128, -0.0319]],\n",
              "              \n",
              "                       [[ 0.0766, -0.0027,  0.0823],\n",
              "                        [ 0.1013, -0.0514, -0.0769],\n",
              "                        [ 0.0846,  0.0826, -0.0805]],\n",
              "              \n",
              "                       [[-0.0081, -0.1039, -0.0863],\n",
              "                        [ 0.0204,  0.0280,  0.0223],\n",
              "                        [-0.0287,  0.0972,  0.0151]],\n",
              "              \n",
              "                       [[-0.0622, -0.0060,  0.0253],\n",
              "                        [ 0.0369, -0.0745,  0.0395],\n",
              "                        [-0.0539, -0.0876, -0.0576]]],\n",
              "              \n",
              "              \n",
              "                      [[[ 0.1017,  0.0901,  0.0944],\n",
              "                        [ 0.0619,  0.0796, -0.0141],\n",
              "                        [-0.0580,  0.0527, -0.0546]],\n",
              "              \n",
              "                       [[-0.0711, -0.0337,  0.0221],\n",
              "                        [ 0.0543, -0.0409, -0.0620],\n",
              "                        [ 0.0142, -0.0621, -0.0686]],\n",
              "              \n",
              "                       [[ 0.0549, -0.0177,  0.0963],\n",
              "                        [ 0.1025,  0.0315,  0.0363],\n",
              "                        [ 0.0243,  0.0017, -0.0077]],\n",
              "              \n",
              "                       [[ 0.0014,  0.0394,  0.0980],\n",
              "                        [-0.0273, -0.0446, -0.0255],\n",
              "                        [-0.0509,  0.0179,  0.0787]],\n",
              "              \n",
              "                       [[ 0.0824,  0.0484, -0.0776],\n",
              "                        [-0.0566, -0.0232, -0.0194],\n",
              "                        [ 0.0087, -0.0968,  0.0328]],\n",
              "              \n",
              "                       [[-0.0804, -0.0667, -0.0876],\n",
              "                        [ 0.0918, -0.0998,  0.0795],\n",
              "                        [-0.0035, -0.0123,  0.0659]],\n",
              "              \n",
              "                       [[-0.0097,  0.0661,  0.0762],\n",
              "                        [-0.0915,  0.0406,  0.0199],\n",
              "                        [ 0.0227,  0.0154,  0.0288]],\n",
              "              \n",
              "                       [[-0.0507, -0.0135,  0.1002],\n",
              "                        [ 0.0708, -0.0040, -0.0991],\n",
              "                        [ 0.0046, -0.0718,  0.0857]],\n",
              "              \n",
              "                       [[-0.0640, -0.0076, -0.0234],\n",
              "                        [ 0.0188,  0.0992,  0.0100],\n",
              "                        [ 0.0610,  0.0818,  0.0851]],\n",
              "              \n",
              "                       [[-0.0364, -0.0236,  0.0508],\n",
              "                        [-0.0288,  0.0494, -0.0230],\n",
              "                        [-0.0715,  0.0429,  0.0162]]],\n",
              "              \n",
              "              \n",
              "                      [[[ 0.0470,  0.1047,  0.0720],\n",
              "                        [ 0.0999,  0.0056, -0.0907],\n",
              "                        [-0.0739, -0.0655, -0.0929]],\n",
              "              \n",
              "                       [[-0.0528, -0.0970, -0.0973],\n",
              "                        [-0.0630, -0.1039, -0.0647],\n",
              "                        [ 0.0402,  0.0879, -0.0314]],\n",
              "              \n",
              "                       [[-0.0307,  0.0563, -0.0520],\n",
              "                        [-0.0498,  0.0649, -0.0918],\n",
              "                        [ 0.0129,  0.0931,  0.0181]],\n",
              "              \n",
              "                       [[ 0.0287, -0.0614, -0.0015],\n",
              "                        [ 0.0058,  0.0259,  0.0410],\n",
              "                        [ 0.0916, -0.0805,  0.0032]],\n",
              "              \n",
              "                       [[-0.0527, -0.0834, -0.0084],\n",
              "                        [-0.0928,  0.0736,  0.0122],\n",
              "                        [-0.0568,  0.0551, -0.0998]],\n",
              "              \n",
              "                       [[-0.0408, -0.0205, -0.0896],\n",
              "                        [-0.0670, -0.0172,  0.0800],\n",
              "                        [ 0.1018,  0.0671, -0.0629]],\n",
              "              \n",
              "                       [[-0.0690,  0.0920,  0.0373],\n",
              "                        [ 0.0028,  0.0143, -0.0847],\n",
              "                        [-0.0352,  0.1015, -0.0260]],\n",
              "              \n",
              "                       [[-0.0053, -0.0875, -0.0590],\n",
              "                        [-0.0022, -0.0655, -0.0131],\n",
              "                        [ 0.0429, -0.1031,  0.0313]],\n",
              "              \n",
              "                       [[-0.0697, -0.0514,  0.0405],\n",
              "                        [ 0.0838, -0.0288, -0.0433],\n",
              "                        [-0.0953, -0.0544, -0.0923]],\n",
              "              \n",
              "                       [[-0.0241,  0.0215, -0.0988],\n",
              "                        [ 0.0920,  0.0661, -0.1032],\n",
              "                        [-0.0503,  0.0344, -0.0217]]],\n",
              "              \n",
              "              \n",
              "                      [[[-0.0115, -0.0476,  0.0847],\n",
              "                        [-0.0589,  0.0874,  0.0068],\n",
              "                        [ 0.0212,  0.0822, -0.0174]],\n",
              "              \n",
              "                       [[-0.0600, -0.0170,  0.0855],\n",
              "                        [-0.0782,  0.0239, -0.1036],\n",
              "                        [ 0.0553,  0.0389,  0.0045]],\n",
              "              \n",
              "                       [[ 0.0452,  0.0001,  0.0583],\n",
              "                        [-0.0834, -0.0155,  0.0468],\n",
              "                        [ 0.1050,  0.0537, -0.0767]],\n",
              "              \n",
              "                       [[ 0.0811, -0.0235, -0.0225],\n",
              "                        [-0.0958, -0.0166,  0.0746],\n",
              "                        [ 0.0147, -0.0614,  0.0324]],\n",
              "              \n",
              "                       [[-0.0338,  0.0962, -0.0915],\n",
              "                        [-0.0333, -0.1018, -0.0415],\n",
              "                        [ 0.0332,  0.1015,  0.0177]],\n",
              "              \n",
              "                       [[ 0.1033,  0.0206,  0.0609],\n",
              "                        [ 0.0845,  0.0881, -0.0590],\n",
              "                        [ 0.0969,  0.0639, -0.0493]],\n",
              "              \n",
              "                       [[-0.0503, -0.0884,  0.0265],\n",
              "                        [-0.0854,  0.0445,  0.0333],\n",
              "                        [-0.0916,  0.0287, -0.0086]],\n",
              "              \n",
              "                       [[ 0.0482,  0.0605, -0.1048],\n",
              "                        [ 0.0967,  0.0884,  0.0419],\n",
              "                        [-0.0963, -0.0377, -0.0305]],\n",
              "              \n",
              "                       [[-0.0271,  0.0594,  0.0383],\n",
              "                        [ 0.0835, -0.0395,  0.0355],\n",
              "                        [ 0.0375, -0.0878, -0.1022]],\n",
              "              \n",
              "                       [[-0.0547,  0.0722, -0.0992],\n",
              "                        [-0.0918,  0.0591,  0.0569],\n",
              "                        [ 0.0867, -0.0796, -0.0771]]],\n",
              "              \n",
              "              \n",
              "                      [[[ 0.0541,  0.0917,  0.0631],\n",
              "                        [ 0.0165,  0.0347,  0.1000],\n",
              "                        [-0.0680, -0.0479,  0.0737]],\n",
              "              \n",
              "                       [[-0.0721, -0.0581,  0.0769],\n",
              "                        [ 0.0333,  0.0341, -0.0447],\n",
              "                        [-0.0015,  0.0965, -0.0633]],\n",
              "              \n",
              "                       [[ 0.0008,  0.0501, -0.0728],\n",
              "                        [ 0.1024, -0.0527, -0.0253],\n",
              "                        [-0.0285, -0.0687, -0.1034]],\n",
              "              \n",
              "                       [[ 0.0594,  0.0280, -0.0987],\n",
              "                        [-0.0678,  0.1042,  0.0403],\n",
              "                        [ 0.0423, -0.0631, -0.0462]],\n",
              "              \n",
              "                       [[-0.0159, -0.0193, -0.0722],\n",
              "                        [ 0.0087,  0.0105, -0.0133],\n",
              "                        [ 0.0146, -0.0418,  0.0274]],\n",
              "              \n",
              "                       [[ 0.0398, -0.0555, -0.1045],\n",
              "                        [ 0.0552,  0.0251, -0.0536],\n",
              "                        [ 0.1016, -0.0477,  0.0712]],\n",
              "              \n",
              "                       [[ 0.0535, -0.0884,  0.0680],\n",
              "                        [-0.0969, -0.0584, -0.0176],\n",
              "                        [-0.0711,  0.1030, -0.0211]],\n",
              "              \n",
              "                       [[ 0.0419, -0.0941,  0.0607],\n",
              "                        [-0.0328, -0.0802,  0.0154],\n",
              "                        [ 0.0511,  0.0912, -0.0644]],\n",
              "              \n",
              "                       [[-0.0519,  0.0203,  0.0286],\n",
              "                        [ 0.0405,  0.0579, -0.0239],\n",
              "                        [ 0.0586,  0.0777, -0.0275]],\n",
              "              \n",
              "                       [[ 0.0750,  0.0515,  0.0930],\n",
              "                        [-0.0599, -0.0521, -0.0305],\n",
              "                        [ 0.0053,  0.0633, -0.0602]]],\n",
              "              \n",
              "              \n",
              "                      [[[ 0.0528, -0.0378,  0.0637],\n",
              "                        [-0.0050, -0.0923, -0.0580],\n",
              "                        [-0.0763,  0.0523, -0.0707]],\n",
              "              \n",
              "                       [[-0.0088,  0.0227, -0.0578],\n",
              "                        [ 0.0304, -0.1029, -0.0754],\n",
              "                        [-0.0955, -0.0319, -0.0384]],\n",
              "              \n",
              "                       [[ 0.0151, -0.0195,  0.0496],\n",
              "                        [ 0.0966,  0.0378, -0.0415],\n",
              "                        [-0.0987,  0.0382, -0.0522]],\n",
              "              \n",
              "                       [[ 0.0536,  0.0705,  0.0407],\n",
              "                        [ 0.0989,  0.1001,  0.0223],\n",
              "                        [-0.0768,  0.0942, -0.0500]],\n",
              "              \n",
              "                       [[-0.0498,  0.0882,  0.0817],\n",
              "                        [ 0.0318,  0.0066, -0.0887],\n",
              "                        [-0.0109,  0.1011,  0.0268]],\n",
              "              \n",
              "                       [[ 0.0090, -0.0219, -0.0368],\n",
              "                        [ 0.0628,  0.0065,  0.0686],\n",
              "                        [-0.0187,  0.0461,  0.0435]],\n",
              "              \n",
              "                       [[ 0.0168,  0.0662,  0.0661],\n",
              "                        [ 0.0977,  0.0810, -0.0270],\n",
              "                        [-0.0892,  0.0193, -0.0009]],\n",
              "              \n",
              "                       [[-0.0275, -0.0177,  0.0050],\n",
              "                        [ 0.0769,  0.0329, -0.0374],\n",
              "                        [-0.0433, -0.0261, -0.0407]],\n",
              "              \n",
              "                       [[ 0.0948,  0.0558,  0.0952],\n",
              "                        [ 0.0003,  0.0213,  0.0366],\n",
              "                        [-0.0998,  0.0094, -0.0071]],\n",
              "              \n",
              "                       [[-0.0591, -0.0818,  0.0933],\n",
              "                        [ 0.0857,  0.0489,  0.1006],\n",
              "                        [-0.0428, -0.0182,  0.0399]]],\n",
              "              \n",
              "              \n",
              "                      [[[-0.0174, -0.0207, -0.0871],\n",
              "                        [ 0.0283, -0.0637,  0.0038],\n",
              "                        [ 0.1028, -0.0324, -0.0332]],\n",
              "              \n",
              "                       [[ 0.0636, -0.0388, -0.0091],\n",
              "                        [ 0.0984, -0.0432, -0.0754],\n",
              "                        [-0.0590, -0.0292, -0.0500]],\n",
              "              \n",
              "                       [[-0.0547,  0.0426,  0.0179],\n",
              "                        [-0.0337, -0.0819, -0.0332],\n",
              "                        [-0.0445, -0.0343, -0.0951]],\n",
              "              \n",
              "                       [[ 0.0227, -0.0774, -0.0821],\n",
              "                        [-0.0861,  0.0440, -0.0635],\n",
              "                        [-0.0435,  0.0826,  0.0560]],\n",
              "              \n",
              "                       [[ 0.0604, -0.1001, -0.0756],\n",
              "                        [-0.0398,  0.0871,  0.0108],\n",
              "                        [-0.0788,  0.0007, -0.0819]],\n",
              "              \n",
              "                       [[-0.0231, -0.0290,  0.0912],\n",
              "                        [ 0.0326, -0.0184,  0.0178],\n",
              "                        [-0.0304,  0.0414,  0.0417]],\n",
              "              \n",
              "                       [[ 0.0283, -0.0411,  0.0899],\n",
              "                        [-0.0152, -0.0410,  0.0660],\n",
              "                        [ 0.0859,  0.1049,  0.0312]],\n",
              "              \n",
              "                       [[-0.0359,  0.0535,  0.0904],\n",
              "                        [-0.1034, -0.0131, -0.0719],\n",
              "                        [ 0.0196,  0.0436, -0.0218]],\n",
              "              \n",
              "                       [[-0.0088,  0.0474, -0.0177],\n",
              "                        [-0.0885,  0.0843, -0.0531],\n",
              "                        [-0.0116,  0.0099, -0.0063]],\n",
              "              \n",
              "                       [[-0.0992,  0.0484, -0.0479],\n",
              "                        [-0.0547,  0.0252, -0.0550],\n",
              "                        [-0.0487, -0.0355, -0.0396]]]])),\n",
              "             ('block_1.2.bias',\n",
              "              tensor([-0.0440, -0.0284,  0.0274, -0.0853, -0.0638,  0.0015,  0.0147,  0.0582,\n",
              "                      -0.0740,  0.0336])),\n",
              "             ('block_2.0.weight',\n",
              "              tensor([[[[ 5.9914e-02,  5.8530e-02, -9.8180e-02],\n",
              "                        [-4.0225e-02, -9.0606e-02, -6.6704e-02],\n",
              "                        [ 5.8711e-02, -1.5740e-02,  4.4769e-02]],\n",
              "              \n",
              "                       [[-6.1876e-02,  1.6018e-02, -6.3758e-02],\n",
              "                        [ 5.2693e-02, -4.6104e-02, -2.6432e-02],\n",
              "                        [-9.1456e-02,  3.4822e-04,  1.0008e-01]],\n",
              "              \n",
              "                       [[ 5.1163e-02, -5.6240e-02,  1.4176e-03],\n",
              "                        [-1.1558e-02, -8.4862e-02,  8.2650e-02],\n",
              "                        [ 1.6993e-03,  2.2199e-02, -4.2567e-02]],\n",
              "              \n",
              "                       [[-4.9323e-02,  1.7381e-02,  3.8971e-02],\n",
              "                        [ 2.3643e-02, -5.0801e-02,  1.0234e-01],\n",
              "                        [-1.5517e-02, -6.4554e-02, -4.9301e-02]],\n",
              "              \n",
              "                       [[ 1.0377e-01,  5.0766e-06, -1.4309e-02],\n",
              "                        [-4.3867e-02, -2.7633e-02, -8.8779e-02],\n",
              "                        [-8.3767e-02,  6.1695e-02,  9.0172e-02]],\n",
              "              \n",
              "                       [[ 1.0059e-01, -7.6099e-02,  5.7012e-02],\n",
              "                        [-6.5245e-02,  6.2883e-02,  7.6058e-02],\n",
              "                        [ 8.1573e-02,  7.5900e-02,  6.5941e-02]],\n",
              "              \n",
              "                       [[ 2.0516e-03,  4.8434e-02, -3.7712e-02],\n",
              "                        [ 4.5899e-02, -3.3879e-02, -1.7700e-03],\n",
              "                        [-9.1746e-02, -2.7562e-02, -5.5432e-02]],\n",
              "              \n",
              "                       [[-3.5557e-02, -6.7313e-02, -9.4810e-02],\n",
              "                        [ 6.8639e-03,  6.8408e-02,  9.6001e-02],\n",
              "                        [ 6.1512e-02, -5.4638e-02, -1.0425e-01]],\n",
              "              \n",
              "                       [[ 3.9983e-02,  5.9062e-02, -9.0495e-02],\n",
              "                        [ 3.7798e-02,  8.9121e-02,  6.3853e-03],\n",
              "                        [-6.3505e-02,  8.6423e-02,  4.5011e-02]],\n",
              "              \n",
              "                       [[ 6.9802e-02, -7.1287e-02,  6.1342e-02],\n",
              "                        [-7.2002e-02,  1.0430e-01, -4.4662e-02],\n",
              "                        [ 6.3516e-02,  2.1107e-02,  2.7935e-02]]],\n",
              "              \n",
              "              \n",
              "                      [[[-1.6165e-02,  4.3295e-02, -4.3932e-02],\n",
              "                        [-9.9357e-02, -4.0499e-02,  8.2592e-02],\n",
              "                        [-2.7751e-02,  3.3132e-02, -3.8973e-02]],\n",
              "              \n",
              "                       [[ 7.9073e-02,  6.3086e-02,  3.7211e-02],\n",
              "                        [-5.3881e-02, -8.6133e-02,  3.9686e-03],\n",
              "                        [-6.1839e-02,  8.6667e-02, -1.0130e-01]],\n",
              "              \n",
              "                       [[ 4.7104e-02,  1.0508e-01,  5.2792e-02],\n",
              "                        [ 3.5942e-02, -1.0142e-01,  1.0139e-01],\n",
              "                        [-1.8030e-02, -9.8495e-02,  1.0406e-01]],\n",
              "              \n",
              "                       [[-4.2894e-02, -7.4575e-03,  9.6479e-02],\n",
              "                        [-7.3070e-02, -7.4576e-02,  1.7141e-02],\n",
              "                        [-1.4109e-02,  2.4280e-02, -8.8407e-02]],\n",
              "              \n",
              "                       [[ 3.1524e-03, -4.6882e-02, -5.1820e-02],\n",
              "                        [-9.6517e-02,  5.5890e-02,  2.0306e-02],\n",
              "                        [-8.9118e-02,  8.3648e-02,  3.1794e-02]],\n",
              "              \n",
              "                       [[ 1.9560e-02, -6.1890e-02,  1.5896e-02],\n",
              "                        [ 1.0157e-01,  7.2299e-02, -8.2100e-02],\n",
              "                        [ 9.6220e-02,  8.1702e-03,  5.0698e-02]],\n",
              "              \n",
              "                       [[ 8.1869e-02,  8.9862e-02, -8.2170e-02],\n",
              "                        [ 9.2303e-02, -7.1591e-02,  7.9021e-03],\n",
              "                        [-7.3656e-02, -2.3109e-02, -4.7901e-03]],\n",
              "              \n",
              "                       [[-1.2611e-02, -1.6652e-02,  8.3137e-03],\n",
              "                        [ 1.0398e-01,  6.1244e-02,  5.8973e-02],\n",
              "                        [ 4.2190e-02,  8.1606e-02, -4.8645e-03]],\n",
              "              \n",
              "                       [[ 8.3813e-03,  2.1693e-02, -9.1931e-02],\n",
              "                        [-8.4913e-02,  1.2923e-02, -4.1241e-02],\n",
              "                        [-1.9342e-03, -2.4187e-02,  1.6408e-02]],\n",
              "              \n",
              "                       [[ 6.8581e-02, -3.4958e-02,  8.4418e-02],\n",
              "                        [ 8.3227e-02, -8.0901e-02, -8.1400e-02],\n",
              "                        [-8.5284e-02, -5.7766e-02, -4.1033e-02]]],\n",
              "              \n",
              "              \n",
              "                      [[[-7.9341e-03, -2.5635e-02, -5.3258e-02],\n",
              "                        [-3.3488e-02, -3.8131e-02,  1.0341e-01],\n",
              "                        [-3.9068e-02, -7.5473e-02,  4.3818e-02]],\n",
              "              \n",
              "                       [[-6.0886e-03,  8.0698e-02,  6.5863e-02],\n",
              "                        [ 9.6843e-02, -7.7197e-02,  6.7764e-02],\n",
              "                        [ 8.8464e-02, -5.2054e-02,  9.6890e-02]],\n",
              "              \n",
              "                       [[ 7.9019e-02,  1.1544e-03,  5.0823e-02],\n",
              "                        [-3.6853e-02, -9.1936e-02,  2.6645e-02],\n",
              "                        [ 3.1425e-02, -6.8891e-02,  5.1123e-02]],\n",
              "              \n",
              "                       [[-9.0043e-02,  9.0718e-02,  1.0208e-01],\n",
              "                        [ 2.8699e-02, -6.6137e-02,  5.1300e-02],\n",
              "                        [ 1.7963e-02,  2.8663e-02,  3.4643e-02]],\n",
              "              \n",
              "                       [[ 8.0254e-02, -4.5309e-02, -2.3711e-02],\n",
              "                        [ 2.8746e-02,  1.1486e-02,  8.5000e-02],\n",
              "                        [-5.5365e-02, -3.8387e-03,  1.9696e-02]],\n",
              "              \n",
              "                       [[-2.7996e-02,  7.1859e-02,  1.1530e-02],\n",
              "                        [-9.7422e-02, -1.1420e-02, -4.7809e-02],\n",
              "                        [ 1.0243e-02, -1.2250e-02, -1.0456e-01]],\n",
              "              \n",
              "                       [[-1.9208e-02, -1.0096e-02, -3.1083e-02],\n",
              "                        [ 9.6848e-02, -2.3000e-02,  6.7717e-02],\n",
              "                        [ 2.6112e-02, -8.8979e-02,  2.4770e-02]],\n",
              "              \n",
              "                       [[ 8.7356e-02, -6.8948e-02, -6.8134e-02],\n",
              "                        [ 1.0318e-01,  8.4697e-02, -5.8807e-02],\n",
              "                        [ 6.3429e-02, -1.3485e-02, -1.0393e-01]],\n",
              "              \n",
              "                       [[ 7.9198e-03,  3.4057e-02, -3.1619e-02],\n",
              "                        [ 3.6670e-02, -9.0136e-02,  7.3050e-02],\n",
              "                        [ 8.9865e-02,  5.8130e-02,  1.7866e-02]],\n",
              "              \n",
              "                       [[ 3.4716e-02, -7.6269e-02, -2.6339e-02],\n",
              "                        [-1.0063e-02, -5.8659e-02, -7.7857e-02],\n",
              "                        [ 7.0900e-02,  7.1535e-02, -9.5731e-02]]],\n",
              "              \n",
              "              \n",
              "                      [[[ 3.3542e-02,  4.2881e-02,  1.0014e-01],\n",
              "                        [ 6.0985e-02,  9.6907e-02, -3.4510e-02],\n",
              "                        [ 7.3827e-02,  8.5740e-02, -9.9541e-02]],\n",
              "              \n",
              "                       [[-8.4613e-02,  2.1335e-02,  5.7557e-02],\n",
              "                        [-5.2369e-02,  1.1609e-02, -1.5303e-04],\n",
              "                        [ 2.6680e-02, -5.6642e-02,  5.9455e-02]],\n",
              "              \n",
              "                       [[ 7.0098e-02, -7.3139e-02,  1.0211e-03],\n",
              "                        [ 2.9247e-04,  3.3849e-02,  9.8198e-02],\n",
              "                        [ 3.0913e-02, -2.3951e-02,  9.4672e-02]],\n",
              "              \n",
              "                       [[-4.0112e-02, -3.0608e-02,  7.1969e-03],\n",
              "                        [-8.0270e-02,  1.1470e-02, -7.1518e-02],\n",
              "                        [ 1.0838e-02,  1.0099e-02,  1.4591e-02]],\n",
              "              \n",
              "                       [[-8.8891e-02, -1.0012e-01,  4.8501e-02],\n",
              "                        [ 9.0399e-02, -9.3537e-02,  3.9043e-02],\n",
              "                        [-7.7594e-02,  6.6082e-03,  9.8068e-02]],\n",
              "              \n",
              "                       [[ 7.9965e-02, -7.7069e-02,  6.5203e-02],\n",
              "                        [ 5.5057e-02, -1.6168e-04,  1.0211e-01],\n",
              "                        [-4.1866e-02, -2.4530e-02, -5.3275e-02]],\n",
              "              \n",
              "                       [[ 1.5168e-02,  2.7911e-02,  8.3990e-03],\n",
              "                        [-5.9307e-02, -4.7452e-02,  3.5855e-02],\n",
              "                        [-9.2426e-02, -1.6416e-02, -2.3350e-03]],\n",
              "              \n",
              "                       [[-4.2708e-02,  3.8360e-02,  6.7940e-03],\n",
              "                        [ 7.4004e-02, -9.3616e-03, -6.6528e-02],\n",
              "                        [ 7.4477e-02,  1.4720e-02, -3.0189e-02]],\n",
              "              \n",
              "                       [[-6.9476e-02,  2.4707e-02, -1.0053e-01],\n",
              "                        [ 2.7762e-02,  5.2119e-02, -9.2465e-02],\n",
              "                        [-6.9009e-02, -7.5781e-02,  8.8597e-02]],\n",
              "              \n",
              "                       [[ 8.9611e-02,  6.5987e-03,  9.8959e-02],\n",
              "                        [-3.5239e-02, -1.0233e-01,  3.6819e-02],\n",
              "                        [ 3.7343e-02,  1.0334e-01, -3.0510e-05]]],\n",
              "              \n",
              "              \n",
              "                      [[[ 8.0785e-02,  6.4612e-02,  7.6292e-02],\n",
              "                        [-1.0460e-01,  8.6800e-02, -8.9856e-02],\n",
              "                        [ 9.4501e-02, -4.3682e-03, -9.3415e-02]],\n",
              "              \n",
              "                       [[ 2.9314e-02, -2.1456e-02, -9.4678e-02],\n",
              "                        [-3.8215e-02,  1.0868e-02,  8.2098e-02],\n",
              "                        [-3.2406e-02,  6.2610e-02,  1.3200e-02]],\n",
              "              \n",
              "                       [[ 3.5531e-03,  2.0170e-02, -6.9177e-02],\n",
              "                        [-8.7616e-02, -3.3121e-02, -9.8226e-02],\n",
              "                        [-4.9158e-02,  4.8494e-03, -6.9424e-02]],\n",
              "              \n",
              "                       [[-4.3723e-02, -1.8941e-02, -1.2144e-02],\n",
              "                        [-5.8187e-02,  5.0650e-03, -1.4795e-02],\n",
              "                        [ 3.0147e-02,  4.7611e-03, -5.2638e-02]],\n",
              "              \n",
              "                       [[-3.6291e-02, -1.2149e-03, -6.5774e-02],\n",
              "                        [ 8.2520e-03, -7.4425e-03,  4.0897e-02],\n",
              "                        [ 2.4947e-02,  7.8887e-02, -3.4749e-03]],\n",
              "              \n",
              "                       [[-7.7887e-02,  4.7119e-02, -7.1240e-02],\n",
              "                        [-1.4489e-02, -3.4132e-02, -3.9997e-02],\n",
              "                        [-3.9000e-02,  9.6863e-02,  6.0342e-02]],\n",
              "              \n",
              "                       [[ 2.9213e-02,  9.8975e-02, -9.5524e-02],\n",
              "                        [ 1.7010e-02,  6.7481e-02,  7.0022e-02],\n",
              "                        [-8.3890e-02,  3.7514e-02, -6.0050e-02]],\n",
              "              \n",
              "                       [[-4.1187e-03, -2.1996e-02, -8.8013e-02],\n",
              "                        [-1.0055e-01, -6.9349e-02,  4.7832e-02],\n",
              "                        [ 4.8218e-02, -9.1681e-02, -3.9586e-02]],\n",
              "              \n",
              "                       [[ 1.7218e-03, -9.1135e-02,  5.9393e-02],\n",
              "                        [ 9.5473e-02,  1.8643e-02, -7.8321e-02],\n",
              "                        [ 2.4580e-02,  3.8265e-02,  8.3468e-02]],\n",
              "              \n",
              "                       [[-5.6085e-02, -9.4437e-02,  4.6312e-02],\n",
              "                        [ 6.5624e-03, -3.4345e-02, -4.4169e-02],\n",
              "                        [-5.4351e-02,  8.5328e-02, -1.8187e-02]]],\n",
              "              \n",
              "              \n",
              "                      [[[ 7.6022e-02,  9.4094e-02,  1.3353e-02],\n",
              "                        [ 2.2454e-02, -7.1789e-03,  7.2397e-02],\n",
              "                        [-9.4983e-02,  4.1919e-02, -1.7174e-02]],\n",
              "              \n",
              "                       [[ 4.8132e-02, -4.6949e-04, -3.9029e-02],\n",
              "                        [-1.1379e-02,  5.6920e-02, -7.3210e-02],\n",
              "                        [-6.6629e-02, -2.3611e-02, -3.8235e-02]],\n",
              "              \n",
              "                       [[ 4.1409e-02,  7.0937e-02, -1.1289e-02],\n",
              "                        [ 9.9672e-02, -4.4042e-02, -5.9151e-02],\n",
              "                        [-4.7191e-02, -7.2624e-02, -7.3885e-02]],\n",
              "              \n",
              "                       [[-9.3921e-02, -9.3422e-02,  2.7512e-02],\n",
              "                        [ 6.4284e-02,  9.8963e-02,  8.9787e-02],\n",
              "                        [-6.0709e-03,  2.0454e-02, -6.3068e-02]],\n",
              "              \n",
              "                       [[ 4.0743e-02, -1.0107e-01,  4.9719e-02],\n",
              "                        [ 1.9334e-02,  3.2393e-02,  3.8595e-02],\n",
              "                        [-4.8394e-02,  9.0452e-02,  5.0307e-02]],\n",
              "              \n",
              "                       [[ 6.9243e-02,  1.3922e-02,  6.6196e-02],\n",
              "                        [ 7.0941e-02,  4.7775e-02,  8.0297e-02],\n",
              "                        [-1.9119e-02,  6.9310e-02,  2.4286e-02]],\n",
              "              \n",
              "                       [[ 6.3424e-02,  1.0267e-01,  2.3869e-02],\n",
              "                        [-3.9124e-02, -1.0488e-02,  2.9676e-02],\n",
              "                        [ 1.7773e-02, -2.8795e-02,  8.2590e-02]],\n",
              "              \n",
              "                       [[ 6.3331e-02, -6.5475e-02, -8.5889e-03],\n",
              "                        [-1.0119e-02, -6.6063e-02,  1.5374e-02],\n",
              "                        [-3.2360e-02, -5.4419e-02, -3.3894e-02]],\n",
              "              \n",
              "                       [[-3.7584e-02,  1.0084e-01,  4.0432e-02],\n",
              "                        [ 1.0373e-01,  2.8903e-02,  2.3868e-02],\n",
              "                        [ 4.3333e-02,  1.8092e-02, -8.2722e-02]],\n",
              "              \n",
              "                       [[-6.2334e-02, -2.5538e-02,  1.5846e-03],\n",
              "                        [ 3.9709e-02,  4.0588e-02,  8.3623e-02],\n",
              "                        [ 2.1458e-02, -3.5975e-02, -7.9271e-02]]],\n",
              "              \n",
              "              \n",
              "                      [[[-7.7203e-02, -6.2965e-02,  3.1792e-02],\n",
              "                        [ 5.6950e-02,  9.2224e-02, -3.3342e-02],\n",
              "                        [-8.3150e-03, -3.1303e-02, -3.8517e-04]],\n",
              "              \n",
              "                       [[ 3.3837e-02, -2.3160e-03,  4.8799e-03],\n",
              "                        [ 1.3354e-02,  3.9256e-02, -3.1981e-02],\n",
              "                        [-6.2855e-02,  2.4869e-02, -1.2481e-02]],\n",
              "              \n",
              "                       [[-4.7753e-02,  4.4268e-02,  9.5597e-04],\n",
              "                        [-1.5333e-02, -5.1027e-02, -1.3868e-02],\n",
              "                        [-8.9632e-02,  2.3980e-02,  1.5818e-03]],\n",
              "              \n",
              "                       [[ 6.3966e-02,  6.8063e-03,  8.4277e-03],\n",
              "                        [ 2.8715e-02,  8.0210e-02, -4.9812e-02],\n",
              "                        [ 6.2930e-02,  2.5779e-02, -7.0320e-02]],\n",
              "              \n",
              "                       [[ 3.6702e-02, -6.3217e-02, -3.3181e-02],\n",
              "                        [-5.0245e-02, -7.1711e-02,  8.3017e-02],\n",
              "                        [-9.4217e-02,  5.2706e-02, -9.4870e-02]],\n",
              "              \n",
              "                       [[-1.2829e-02,  6.2868e-03,  7.4937e-02],\n",
              "                        [-3.8147e-02,  3.0340e-02,  1.6329e-02],\n",
              "                        [ 6.2021e-02,  6.2667e-03,  3.9470e-02]],\n",
              "              \n",
              "                       [[-6.3677e-02, -7.3250e-02,  9.3928e-02],\n",
              "                        [-7.6808e-02, -1.7945e-02, -1.2742e-02],\n",
              "                        [ 1.0308e-01, -2.2780e-02, -8.0249e-02]],\n",
              "              \n",
              "                       [[-2.6721e-02,  5.4372e-02,  4.1773e-02],\n",
              "                        [ 8.7204e-02, -2.1579e-02,  4.9653e-02],\n",
              "                        [-9.9194e-02,  4.0787e-02,  4.8432e-02]],\n",
              "              \n",
              "                       [[ 6.7998e-02, -6.0446e-02, -2.8142e-02],\n",
              "                        [ 2.5502e-02, -7.4905e-02, -8.3851e-02],\n",
              "                        [-1.0141e-01,  5.8842e-03,  6.5458e-02]],\n",
              "              \n",
              "                       [[ 2.7075e-02,  6.4263e-03,  3.6727e-02],\n",
              "                        [-6.6240e-02,  1.1113e-02, -2.6186e-02],\n",
              "                        [-5.2193e-02,  9.0902e-02, -8.1550e-02]]],\n",
              "              \n",
              "              \n",
              "                      [[[ 1.5448e-02, -9.2624e-02, -3.5762e-03],\n",
              "                        [-4.6840e-02,  3.4695e-02, -5.9191e-02],\n",
              "                        [ 6.7466e-02, -8.5536e-02,  6.3313e-02]],\n",
              "              \n",
              "                       [[-7.9181e-02,  5.6456e-02, -4.4384e-02],\n",
              "                        [-2.4556e-04, -1.9238e-02,  6.8414e-02],\n",
              "                        [ 3.4546e-02, -9.2887e-02,  9.6914e-03]],\n",
              "              \n",
              "                       [[-7.2718e-02,  7.8800e-02,  1.7319e-02],\n",
              "                        [-2.7109e-02, -5.3777e-02,  3.6485e-02],\n",
              "                        [-6.3129e-02,  4.9992e-02,  5.7519e-02]],\n",
              "              \n",
              "                       [[ 6.4701e-02,  2.7537e-02, -9.2272e-02],\n",
              "                        [ 7.5823e-02, -3.2700e-02, -3.1163e-02],\n",
              "                        [-1.1325e-02,  7.7068e-02,  8.1052e-02]],\n",
              "              \n",
              "                       [[ 1.6276e-02,  5.0296e-02, -9.8241e-02],\n",
              "                        [ 2.4900e-04, -9.3254e-02,  3.5876e-02],\n",
              "                        [-7.5099e-02, -3.7568e-02,  7.3684e-02]],\n",
              "              \n",
              "                       [[ 1.0074e-01, -6.3286e-02, -5.8503e-02],\n",
              "                        [ 1.3055e-02,  4.1437e-02, -1.7168e-02],\n",
              "                        [-3.2918e-02, -6.9237e-02,  4.4997e-02]],\n",
              "              \n",
              "                       [[ 1.0328e-01, -5.1026e-02,  4.9718e-02],\n",
              "                        [ 5.1481e-02,  8.4728e-02, -1.2001e-02],\n",
              "                        [ 3.3202e-03,  7.7444e-02,  6.6631e-02]],\n",
              "              \n",
              "                       [[ 1.0411e-01, -3.0207e-02,  4.1709e-02],\n",
              "                        [ 7.3605e-02, -7.1553e-02,  2.0940e-02],\n",
              "                        [-2.3586e-02,  6.7760e-02, -4.7342e-02]],\n",
              "              \n",
              "                       [[ 7.3933e-03,  6.3067e-02, -9.6567e-02],\n",
              "                        [-8.9004e-02, -5.3989e-02,  6.7611e-02],\n",
              "                        [ 7.0680e-02, -7.1991e-02,  2.0100e-02]],\n",
              "              \n",
              "                       [[-5.5854e-02, -4.8926e-02,  9.0907e-02],\n",
              "                        [ 5.0914e-02, -2.8828e-02,  1.5516e-02],\n",
              "                        [ 2.0424e-02,  2.4691e-02, -3.6079e-02]]],\n",
              "              \n",
              "              \n",
              "                      [[[-6.2074e-02,  6.9788e-02,  1.4164e-02],\n",
              "                        [ 4.4119e-02, -3.9922e-02,  5.1057e-02],\n",
              "                        [ 7.6713e-02,  6.4107e-02,  2.8660e-02]],\n",
              "              \n",
              "                       [[ 1.0371e-01, -2.3053e-04,  2.2441e-02],\n",
              "                        [ 1.0015e-01,  1.0245e-01, -4.4506e-02],\n",
              "                        [ 9.4953e-02,  3.8902e-02, -1.1799e-02]],\n",
              "              \n",
              "                       [[ 9.2038e-02, -5.4605e-02,  6.8490e-02],\n",
              "                        [ 1.0445e-01, -7.2701e-02, -6.2201e-02],\n",
              "                        [-1.0445e-01, -1.8970e-02, -9.5733e-02]],\n",
              "              \n",
              "                       [[-3.5304e-02,  3.2002e-02,  7.4511e-02],\n",
              "                        [ 5.8717e-02,  5.8511e-02,  4.3730e-02],\n",
              "                        [-6.5378e-02, -8.3694e-02,  4.3696e-03]],\n",
              "              \n",
              "                       [[ 1.0009e-01,  5.9351e-03, -9.0662e-03],\n",
              "                        [-7.1545e-02, -5.2266e-02, -8.1256e-02],\n",
              "                        [ 8.4398e-02, -1.7174e-02, -9.3119e-02]],\n",
              "              \n",
              "                       [[ 1.1308e-02,  7.6494e-03, -1.3023e-02],\n",
              "                        [ 3.7733e-02,  5.6687e-02, -9.9128e-02],\n",
              "                        [-8.0753e-02, -5.0639e-03, -9.7729e-02]],\n",
              "              \n",
              "                       [[-9.5750e-02,  9.3067e-02, -8.0174e-03],\n",
              "                        [-5.2113e-02, -3.6157e-02, -8.2295e-02],\n",
              "                        [ 8.2258e-02, -2.2857e-02, -5.9265e-02]],\n",
              "              \n",
              "                       [[-7.9944e-02,  6.1611e-02, -1.4571e-02],\n",
              "                        [-1.1074e-02, -2.7473e-02, -5.0883e-02],\n",
              "                        [ 1.8751e-02,  8.1099e-02, -6.1093e-02]],\n",
              "              \n",
              "                       [[ 5.0504e-03, -8.0165e-02, -4.9426e-02],\n",
              "                        [ 9.2525e-02,  1.1052e-03,  1.0154e-01],\n",
              "                        [-1.8468e-02, -5.7453e-02, -6.2981e-02]],\n",
              "              \n",
              "                       [[ 9.3426e-02, -8.1058e-02,  5.5318e-02],\n",
              "                        [ 2.6203e-02,  3.1107e-02,  5.9476e-02],\n",
              "                        [-2.7577e-02,  6.5223e-02, -8.3982e-02]]],\n",
              "              \n",
              "              \n",
              "                      [[[-3.7087e-02,  7.7164e-02,  3.1283e-02],\n",
              "                        [-1.4038e-02, -2.4616e-02, -6.4364e-02],\n",
              "                        [ 6.4098e-02, -3.3520e-03, -3.5664e-03]],\n",
              "              \n",
              "                       [[ 2.4929e-02,  7.7787e-02, -5.3778e-02],\n",
              "                        [-3.6303e-02,  7.1429e-02,  5.9532e-02],\n",
              "                        [-5.1855e-02, -1.0428e-01,  1.9555e-02]],\n",
              "              \n",
              "                       [[ 5.5434e-02,  2.5178e-02,  7.4768e-02],\n",
              "                        [-8.3640e-02,  5.3156e-02, -6.5531e-02],\n",
              "                        [ 5.9325e-02,  7.8394e-02,  3.3385e-02]],\n",
              "              \n",
              "                       [[ 8.5284e-02, -6.9481e-02, -9.4275e-02],\n",
              "                        [-1.0135e-01,  6.6179e-02,  3.6926e-02],\n",
              "                        [-7.7188e-02,  5.1048e-02,  9.6177e-02]],\n",
              "              \n",
              "                       [[-1.0394e-01,  7.6466e-02,  1.6167e-02],\n",
              "                        [ 9.8053e-03,  9.4847e-02,  9.5458e-02],\n",
              "                        [ 4.4414e-02,  8.3288e-02,  4.3853e-02]],\n",
              "              \n",
              "                       [[ 1.7176e-02, -9.2656e-02,  1.9689e-02],\n",
              "                        [-7.4993e-02,  3.2452e-02,  1.8598e-02],\n",
              "                        [ 2.3681e-03, -7.2071e-02, -6.3899e-02]],\n",
              "              \n",
              "                       [[ 7.7912e-02,  5.1336e-02,  5.5576e-02],\n",
              "                        [-3.1410e-02, -1.8151e-02, -2.7014e-02],\n",
              "                        [ 7.2489e-02, -4.5504e-02,  6.6394e-02]],\n",
              "              \n",
              "                       [[ 7.2679e-02, -9.6403e-02,  6.4369e-04],\n",
              "                        [-2.0076e-02, -5.8273e-02,  4.5507e-02],\n",
              "                        [-1.2807e-02,  9.2287e-02, -6.5976e-02]],\n",
              "              \n",
              "                       [[ 4.8976e-02, -8.9998e-02, -5.2833e-02],\n",
              "                        [ 7.1903e-03,  8.3283e-02,  5.5521e-02],\n",
              "                        [-8.6550e-02,  1.1676e-02, -6.2138e-02]],\n",
              "              \n",
              "                       [[ 4.5674e-03, -8.7814e-02, -3.0924e-02],\n",
              "                        [ 7.2297e-02, -9.6717e-02, -1.0050e-01],\n",
              "                        [ 1.9200e-02,  1.4450e-02, -1.9278e-02]]]])),\n",
              "             ('block_2.0.bias',\n",
              "              tensor([ 0.0920, -0.0635, -0.0640, -0.0788, -0.0196, -0.0269,  0.0652, -0.0059,\n",
              "                       0.0337, -0.0438])),\n",
              "             ('block_2.2.weight',\n",
              "              tensor([[[[ 8.5507e-02,  8.8862e-02, -9.4401e-02],\n",
              "                        [-2.7090e-02, -8.9439e-02,  4.4781e-02],\n",
              "                        [-9.2094e-02, -4.9839e-02,  1.0532e-01]],\n",
              "              \n",
              "                       [[-1.0066e-01,  7.7771e-02,  8.9049e-03],\n",
              "                        [ 8.4289e-02, -5.3494e-02,  6.9236e-02],\n",
              "                        [ 1.2718e-02,  8.1073e-03,  7.1945e-02]],\n",
              "              \n",
              "                       [[-1.0019e-01, -8.4902e-02,  1.0180e-01],\n",
              "                        [-6.3298e-02, -7.5980e-02, -5.1539e-03],\n",
              "                        [-3.3742e-02, -1.4421e-02, -7.0623e-02]],\n",
              "              \n",
              "                       [[ 3.8034e-02, -9.0703e-02,  8.5374e-03],\n",
              "                        [ 6.1510e-02,  2.0253e-02,  1.4006e-02],\n",
              "                        [ 1.5418e-02, -3.0880e-02, -2.0080e-02]],\n",
              "              \n",
              "                       [[-4.4450e-02, -7.1207e-02, -5.5810e-02],\n",
              "                        [ 1.0420e-01, -1.7641e-02,  3.6924e-02],\n",
              "                        [ 7.2896e-02, -8.2343e-03, -5.6707e-02]],\n",
              "              \n",
              "                       [[-7.1419e-02, -3.8833e-02,  3.7624e-02],\n",
              "                        [-8.8771e-02, -1.2870e-02,  4.0096e-02],\n",
              "                        [ 8.5999e-02,  3.1721e-02,  2.0846e-02]],\n",
              "              \n",
              "                       [[ 7.2162e-02,  4.8708e-02,  3.5661e-02],\n",
              "                        [-3.2682e-02, -8.4528e-02, -2.2769e-02],\n",
              "                        [-1.9117e-02,  7.7410e-03, -1.1593e-02]],\n",
              "              \n",
              "                       [[ 4.2616e-02,  7.0050e-02, -4.2735e-02],\n",
              "                        [-1.0002e-01, -5.4081e-02, -5.0436e-02],\n",
              "                        [ 5.9750e-02, -6.7994e-02, -9.9145e-03]],\n",
              "              \n",
              "                       [[-2.2340e-02, -6.3976e-02,  4.7780e-02],\n",
              "                        [-4.3909e-02, -5.4531e-03, -7.4112e-02],\n",
              "                        [-1.0632e-02,  1.4977e-02, -4.2894e-03]],\n",
              "              \n",
              "                       [[-3.9386e-02,  3.1315e-02, -2.7311e-02],\n",
              "                        [-5.8439e-02, -7.7732e-02, -2.2329e-02],\n",
              "                        [-9.9578e-02,  8.7492e-02, -5.0357e-02]]],\n",
              "              \n",
              "              \n",
              "                      [[[-4.3684e-02,  9.7439e-03,  2.7326e-02],\n",
              "                        [-9.9393e-03,  7.2313e-02, -6.1448e-02],\n",
              "                        [ 3.7777e-02, -2.3773e-04, -8.5747e-02]],\n",
              "              \n",
              "                       [[-4.0824e-02,  2.6825e-02,  2.0138e-02],\n",
              "                        [ 7.6647e-02,  7.0518e-02, -5.7493e-02],\n",
              "                        [-4.5013e-02, -2.2351e-02, -7.5517e-02]],\n",
              "              \n",
              "                       [[-2.8459e-02, -8.6258e-02,  4.0092e-02],\n",
              "                        [ 7.4583e-02,  8.3459e-03, -7.5460e-02],\n",
              "                        [-7.9827e-02, -4.1036e-02,  3.0659e-02]],\n",
              "              \n",
              "                       [[ 2.5711e-03,  1.9166e-02,  9.9346e-02],\n",
              "                        [ 4.8956e-02,  2.2665e-02, -2.1327e-02],\n",
              "                        [ 4.9864e-02,  3.8563e-02, -9.4879e-02]],\n",
              "              \n",
              "                       [[-6.2266e-02,  3.5381e-03,  3.9997e-02],\n",
              "                        [ 5.1282e-02, -6.2748e-02, -1.0458e-01],\n",
              "                        [-5.4909e-03, -1.2050e-02,  3.0588e-02]],\n",
              "              \n",
              "                       [[-2.8988e-02,  8.0588e-02,  7.0333e-03],\n",
              "                        [ 7.6975e-02, -7.3398e-02,  4.2167e-02],\n",
              "                        [ 1.2560e-02, -5.2720e-02,  5.2256e-02]],\n",
              "              \n",
              "                       [[-1.0372e-01,  8.5220e-02,  8.4947e-03],\n",
              "                        [ 1.0178e-02,  4.8746e-02,  8.7503e-03],\n",
              "                        [ 4.5184e-02,  6.7063e-02, -8.2268e-02]],\n",
              "              \n",
              "                       [[ 6.9735e-02, -1.5784e-02, -2.4513e-02],\n",
              "                        [ 2.1217e-02,  8.2446e-02, -5.7302e-02],\n",
              "                        [-7.1039e-02,  6.5418e-02, -4.9507e-02]],\n",
              "              \n",
              "                       [[ 3.3937e-02, -1.5530e-02,  2.9014e-02],\n",
              "                        [ 8.0439e-02, -5.3421e-02, -5.1151e-02],\n",
              "                        [ 5.1716e-02,  5.7714e-03, -1.1601e-02]],\n",
              "              \n",
              "                       [[-9.2590e-02,  8.9309e-02, -3.9919e-03],\n",
              "                        [-1.9415e-02, -4.3269e-02, -2.0801e-02],\n",
              "                        [ 5.1233e-02, -2.4227e-03,  9.0147e-02]]],\n",
              "              \n",
              "              \n",
              "                      [[[-6.0858e-03, -1.5122e-02,  5.9498e-02],\n",
              "                        [-2.7275e-03, -2.1039e-02,  3.5231e-02],\n",
              "                        [ 8.3129e-02,  2.6305e-02,  7.3398e-02]],\n",
              "              \n",
              "                       [[ 6.8309e-02,  2.9810e-02,  3.6650e-02],\n",
              "                        [ 3.4014e-02,  1.0934e-02,  8.9675e-02],\n",
              "                        [ 9.7308e-02,  3.7524e-02, -5.2640e-03]],\n",
              "              \n",
              "                       [[ 9.4509e-02, -8.2042e-02,  7.7453e-02],\n",
              "                        [ 5.5849e-02,  6.7687e-02, -8.0992e-03],\n",
              "                        [-7.8646e-02,  7.5193e-02, -4.6091e-02]],\n",
              "              \n",
              "                       [[ 2.7734e-02,  5.9719e-02, -9.8508e-02],\n",
              "                        [ 6.9954e-03, -3.7444e-02,  7.4815e-02],\n",
              "                        [-6.7114e-02,  6.4001e-02,  6.5730e-02]],\n",
              "              \n",
              "                       [[ 5.8156e-02,  1.0119e-01,  1.5964e-02],\n",
              "                        [-9.5541e-02,  7.5248e-02,  9.6499e-03],\n",
              "                        [ 2.0918e-03, -1.0041e-01, -2.3691e-02]],\n",
              "              \n",
              "                       [[-5.1162e-02,  1.0324e-01,  7.5054e-02],\n",
              "                        [ 7.8634e-02,  7.2188e-02, -6.5340e-02],\n",
              "                        [-4.5270e-02, -4.1252e-02, -4.2257e-02]],\n",
              "              \n",
              "                       [[ 8.2054e-02,  3.5815e-02,  8.4470e-02],\n",
              "                        [-4.9309e-03, -9.3965e-02, -3.0582e-02],\n",
              "                        [ 7.4081e-02,  6.4174e-02,  3.2632e-02]],\n",
              "              \n",
              "                       [[-3.0919e-02, -9.8386e-02, -5.6639e-02],\n",
              "                        [ 5.4958e-02, -4.2518e-02,  5.0421e-02],\n",
              "                        [ 2.8781e-02, -4.0486e-02,  6.4202e-02]],\n",
              "              \n",
              "                       [[-3.3871e-02, -3.5020e-03, -4.0152e-02],\n",
              "                        [-9.9988e-02,  1.6996e-02,  3.0460e-02],\n",
              "                        [-5.3072e-02,  6.4663e-02, -9.4558e-02]],\n",
              "              \n",
              "                       [[-1.0161e-01, -6.5106e-02, -3.6430e-02],\n",
              "                        [-1.1707e-02, -2.0370e-02,  4.8108e-02],\n",
              "                        [-9.2510e-02,  1.5521e-02,  1.8254e-03]]],\n",
              "              \n",
              "              \n",
              "                      [[[ 2.7842e-02,  1.0479e-01,  6.4874e-02],\n",
              "                        [-5.8366e-02, -8.6378e-02, -2.5520e-02],\n",
              "                        [-5.2876e-02,  3.6820e-02,  9.6628e-04]],\n",
              "              \n",
              "                       [[ 8.4783e-02,  4.1405e-02, -1.9382e-02],\n",
              "                        [ 3.6229e-03,  2.5244e-02, -1.3080e-02],\n",
              "                        [ 8.5058e-02, -8.2420e-02,  5.1377e-02]],\n",
              "              \n",
              "                       [[-6.7192e-02, -9.2347e-02, -2.1640e-02],\n",
              "                        [ 5.1366e-02,  7.4478e-02,  2.6452e-02],\n",
              "                        [-9.1104e-03, -5.9092e-03, -4.2731e-02]],\n",
              "              \n",
              "                       [[-9.4592e-03, -7.2831e-03,  8.9699e-02],\n",
              "                        [ 6.1690e-02, -8.4351e-02,  4.3604e-04],\n",
              "                        [-6.4834e-02, -1.6733e-02, -8.3776e-02]],\n",
              "              \n",
              "                       [[ 2.7402e-02, -7.6008e-02,  1.0406e-01],\n",
              "                        [ 7.9605e-02, -7.2559e-02, -9.9239e-02],\n",
              "                        [ 4.1128e-03, -2.9425e-02,  3.0945e-02]],\n",
              "              \n",
              "                       [[-7.1353e-02,  4.3148e-02, -9.1047e-02],\n",
              "                        [-5.5632e-02, -5.5414e-02,  5.1007e-02],\n",
              "                        [-2.7597e-03, -1.0130e-01, -6.0201e-02]],\n",
              "              \n",
              "                       [[-4.8781e-02, -9.7802e-02,  1.3497e-02],\n",
              "                        [ 3.7561e-02, -1.9340e-02, -4.1947e-02],\n",
              "                        [-6.3926e-04, -8.3725e-02, -6.4184e-02]],\n",
              "              \n",
              "                       [[-2.4040e-03,  9.3643e-02, -3.2414e-02],\n",
              "                        [ 5.2247e-02, -4.1484e-02, -2.8060e-02],\n",
              "                        [-1.0034e-01,  8.7330e-02,  1.0264e-01]],\n",
              "              \n",
              "                       [[-2.2139e-03,  6.6974e-02,  8.6219e-02],\n",
              "                        [ 5.2359e-02,  5.4288e-02, -1.0035e-01],\n",
              "                        [-9.9050e-02, -8.0906e-02,  3.2970e-02]],\n",
              "              \n",
              "                       [[-9.1177e-02, -8.0464e-02, -5.1092e-02],\n",
              "                        [-9.7154e-02,  1.4203e-04,  1.5207e-02],\n",
              "                        [-6.1686e-02,  6.9018e-02, -4.0018e-02]]],\n",
              "              \n",
              "              \n",
              "                      [[[-2.9676e-02,  8.0309e-02,  9.0499e-02],\n",
              "                        [-1.2093e-02, -7.5671e-02, -5.2881e-02],\n",
              "                        [ 1.3423e-02,  6.1790e-02,  5.2477e-02]],\n",
              "              \n",
              "                       [[-4.6547e-02, -9.9650e-02, -9.2249e-02],\n",
              "                        [-3.3537e-02,  1.3223e-03, -4.7347e-02],\n",
              "                        [-8.3348e-02,  1.1109e-02, -8.3668e-02]],\n",
              "              \n",
              "                       [[-8.0946e-02, -8.5692e-02, -2.8563e-02],\n",
              "                        [ 9.3104e-02,  4.1207e-02, -1.2498e-02],\n",
              "                        [ 2.1694e-02,  4.1975e-02,  6.1414e-04]],\n",
              "              \n",
              "                       [[-8.5020e-02, -6.4944e-02, -7.1610e-02],\n",
              "                        [-2.6766e-03, -9.6492e-02, -1.9166e-02],\n",
              "                        [-3.8545e-02,  1.0345e-01,  8.5679e-02]],\n",
              "              \n",
              "                       [[ 6.1227e-02,  5.9116e-03, -3.4129e-02],\n",
              "                        [ 2.6887e-02, -7.2830e-02, -4.4957e-02],\n",
              "                        [-2.1175e-02, -2.4766e-02, -9.9854e-02]],\n",
              "              \n",
              "                       [[ 4.1903e-02,  8.6803e-02, -5.8141e-02],\n",
              "                        [ 2.8415e-02, -1.2225e-02, -3.8445e-03],\n",
              "                        [ 6.1443e-03,  9.1346e-02,  1.4124e-02]],\n",
              "              \n",
              "                       [[-6.6690e-02, -3.7917e-02,  5.1495e-02],\n",
              "                        [ 3.2893e-02,  2.0487e-03, -1.3912e-02],\n",
              "                        [-4.1012e-02, -3.7413e-02, -5.5602e-02]],\n",
              "              \n",
              "                       [[ 1.7273e-02,  2.9603e-02,  8.0717e-02],\n",
              "                        [-2.3813e-02,  7.5461e-03,  6.8125e-02],\n",
              "                        [ 4.5852e-02,  1.3544e-02,  3.2390e-02]],\n",
              "              \n",
              "                       [[ 5.4714e-03, -9.0419e-02,  4.0636e-03],\n",
              "                        [-2.3040e-02,  9.5123e-02,  9.5145e-02],\n",
              "                        [ 2.0912e-02,  9.4215e-02, -5.4288e-02]],\n",
              "              \n",
              "                       [[ 9.1619e-02,  9.0756e-02, -4.0288e-03],\n",
              "                        [-8.4592e-02, -3.4015e-02, -2.8189e-02],\n",
              "                        [ 1.7411e-03, -9.5569e-02,  1.9535e-02]]],\n",
              "              \n",
              "              \n",
              "                      [[[-4.3839e-02, -2.6989e-02, -5.4443e-02],\n",
              "                        [-2.2255e-02, -9.7896e-02, -5.5885e-02],\n",
              "                        [ 9.7108e-03,  6.9072e-02,  9.5790e-02]],\n",
              "              \n",
              "                       [[-7.9737e-02,  4.4264e-02, -5.9419e-02],\n",
              "                        [-8.1498e-02, -4.6417e-03, -6.0468e-02],\n",
              "                        [-9.0783e-02, -9.8509e-02, -7.0556e-02]],\n",
              "              \n",
              "                       [[ 8.6619e-02,  5.8788e-02, -4.1726e-02],\n",
              "                        [-7.0553e-02, -8.1085e-02, -6.2246e-02],\n",
              "                        [-4.3376e-02,  6.3308e-02,  3.4496e-02]],\n",
              "              \n",
              "                       [[-4.0622e-02,  7.2567e-02, -6.5484e-02],\n",
              "                        [-8.5876e-02,  2.3006e-02, -5.8123e-02],\n",
              "                        [ 2.9987e-02,  8.9306e-02, -4.9849e-02]],\n",
              "              \n",
              "                       [[-7.3556e-02,  3.9676e-02, -9.5200e-02],\n",
              "                        [ 9.4044e-02, -4.9780e-02,  5.0961e-02],\n",
              "                        [-8.3818e-02, -7.1348e-02,  1.1611e-02]],\n",
              "              \n",
              "                       [[ 3.7463e-02,  8.1734e-02,  8.8158e-02],\n",
              "                        [-6.0623e-03, -1.3552e-02,  1.7424e-02],\n",
              "                        [-2.4486e-02,  3.5882e-03, -9.9828e-02]],\n",
              "              \n",
              "                       [[-8.6531e-02,  7.2233e-02, -6.1597e-02],\n",
              "                        [ 8.3008e-02,  1.1568e-02,  2.5676e-02],\n",
              "                        [ 9.5804e-02, -5.8628e-02, -1.6640e-02]],\n",
              "              \n",
              "                       [[ 1.8675e-02,  3.6012e-02, -1.0259e-01],\n",
              "                        [ 3.7464e-02, -6.2163e-02,  1.3846e-02],\n",
              "                        [ 7.1315e-02, -1.0500e-02, -3.3346e-03]],\n",
              "              \n",
              "                       [[-7.8757e-03,  8.7962e-02,  5.9907e-02],\n",
              "                        [ 1.7727e-02, -6.3437e-02, -5.7241e-02],\n",
              "                        [ 8.3964e-02,  7.5834e-02,  6.1033e-02]],\n",
              "              \n",
              "                       [[-8.2189e-02,  8.2092e-02, -1.0076e-02],\n",
              "                        [ 7.7661e-02,  9.1553e-02,  1.1554e-02],\n",
              "                        [-4.3863e-02,  9.9153e-02, -5.4931e-02]]],\n",
              "              \n",
              "              \n",
              "                      [[[ 6.8876e-02, -1.0108e-01, -3.3153e-02],\n",
              "                        [-9.1902e-02, -4.7284e-02,  4.4759e-02],\n",
              "                        [-7.5529e-02, -9.1158e-02,  7.5371e-02]],\n",
              "              \n",
              "                       [[ 5.6270e-02, -1.1527e-03, -7.4309e-02],\n",
              "                        [-2.7927e-02, -3.4129e-02,  6.5100e-02],\n",
              "                        [-3.4478e-02, -3.0360e-02, -7.4720e-02]],\n",
              "              \n",
              "                       [[-4.9646e-02,  5.7074e-02,  6.7914e-02],\n",
              "                        [ 1.5315e-02, -3.9549e-02,  1.0124e-01],\n",
              "                        [ 2.0806e-02, -4.0688e-02, -3.6535e-02]],\n",
              "              \n",
              "                       [[-1.4752e-02,  4.9974e-02,  3.8555e-02],\n",
              "                        [ 7.6418e-02, -4.7494e-03,  8.7183e-02],\n",
              "                        [-4.2816e-02, -4.8547e-02, -3.8927e-02]],\n",
              "              \n",
              "                       [[-9.8896e-02, -6.9195e-02, -9.5382e-02],\n",
              "                        [-6.2294e-03,  9.9374e-04, -2.7358e-02],\n",
              "                        [-7.2035e-02,  9.5637e-02, -3.4926e-02]],\n",
              "              \n",
              "                       [[ 5.0233e-02,  7.3408e-02, -6.9291e-02],\n",
              "                        [-1.3179e-02,  6.0923e-02,  1.0218e-01],\n",
              "                        [-1.3299e-02,  7.6382e-02, -8.2732e-02]],\n",
              "              \n",
              "                       [[-6.8489e-02,  8.6682e-02, -9.9801e-03],\n",
              "                        [ 1.0414e-01,  7.6651e-03, -4.3714e-02],\n",
              "                        [ 1.0011e-01,  9.2179e-02,  9.7826e-03]],\n",
              "              \n",
              "                       [[-6.3900e-02, -4.5639e-03, -5.0693e-02],\n",
              "                        [ 7.6810e-02,  4.8829e-03,  2.2191e-02],\n",
              "                        [ 6.3927e-02,  3.4916e-02, -6.5803e-02]],\n",
              "              \n",
              "                       [[ 8.7566e-02,  6.4758e-02, -6.5073e-02],\n",
              "                        [ 7.9700e-02,  2.9905e-02, -2.0750e-02],\n",
              "                        [-7.5385e-02, -1.7490e-02, -1.0335e-01]],\n",
              "              \n",
              "                       [[ 6.0163e-02,  7.6343e-02, -3.0347e-02],\n",
              "                        [ 9.7720e-02, -3.9032e-02,  1.8051e-02],\n",
              "                        [-7.3459e-02, -4.4565e-03,  4.2610e-02]]],\n",
              "              \n",
              "              \n",
              "                      [[[ 4.5403e-02, -3.5346e-03, -5.3154e-02],\n",
              "                        [ 7.3680e-02,  6.9788e-02,  1.6916e-02],\n",
              "                        [-4.8475e-02,  2.2349e-02,  2.8186e-04]],\n",
              "              \n",
              "                       [[ 9.6302e-02,  1.5621e-02,  8.1301e-03],\n",
              "                        [ 7.2057e-03,  5.6079e-02, -1.3024e-03],\n",
              "                        [ 9.0351e-02,  5.4917e-02, -7.9650e-02]],\n",
              "              \n",
              "                       [[-1.2063e-06, -8.9472e-02, -8.0934e-02],\n",
              "                        [ 2.0480e-02,  2.3687e-02, -9.2246e-03],\n",
              "                        [ 1.0019e-01, -5.6627e-02, -4.4176e-02]],\n",
              "              \n",
              "                       [[-1.6881e-02,  6.3911e-04, -8.9284e-03],\n",
              "                        [ 9.4909e-02, -4.4519e-02, -5.5137e-02],\n",
              "                        [ 9.0599e-03,  7.9171e-02,  2.5019e-02]],\n",
              "              \n",
              "                       [[ 5.6787e-02,  2.0406e-02,  8.9839e-02],\n",
              "                        [ 6.3311e-02,  7.5428e-02, -1.4198e-02],\n",
              "                        [-8.7268e-02, -5.0002e-02,  3.5910e-02]],\n",
              "              \n",
              "                       [[ 7.3950e-02, -4.1184e-02,  8.7218e-02],\n",
              "                        [ 1.5150e-02,  4.1869e-04,  4.1093e-03],\n",
              "                        [-1.8623e-02,  9.8683e-02,  4.5784e-03]],\n",
              "              \n",
              "                       [[ 6.4564e-02, -8.8967e-02, -5.4309e-02],\n",
              "                        [ 1.1852e-02,  8.4169e-02,  5.0184e-02],\n",
              "                        [ 2.0076e-02, -1.0414e-01,  1.9816e-03]],\n",
              "              \n",
              "                       [[-6.9581e-02, -9.0006e-02,  1.4414e-02],\n",
              "                        [-6.6693e-02,  9.5674e-02, -5.7294e-02],\n",
              "                        [ 3.3970e-02,  6.1871e-02, -8.1928e-02]],\n",
              "              \n",
              "                       [[ 5.3946e-02, -1.4114e-02,  5.4619e-02],\n",
              "                        [ 1.0201e-01, -4.4922e-02, -4.5653e-02],\n",
              "                        [ 8.3753e-02,  1.1722e-02, -1.0513e-02]],\n",
              "              \n",
              "                       [[ 7.9971e-02, -5.0928e-02, -5.2047e-03],\n",
              "                        [ 7.2403e-02,  4.1195e-02, -6.8180e-02],\n",
              "                        [ 2.7398e-02, -8.0368e-02, -5.7245e-02]]],\n",
              "              \n",
              "              \n",
              "                      [[[ 6.7779e-02, -2.8093e-02, -5.3691e-02],\n",
              "                        [ 7.4717e-03,  2.5759e-02, -6.5524e-02],\n",
              "                        [-7.1084e-02, -1.0209e-01,  2.7236e-02]],\n",
              "              \n",
              "                       [[-6.8013e-02,  8.0331e-03, -2.3576e-02],\n",
              "                        [-6.8923e-02, -3.3636e-02, -8.1027e-02],\n",
              "                        [-5.5797e-02, -3.2857e-03, -9.0116e-02]],\n",
              "              \n",
              "                       [[-9.2447e-02,  7.8958e-02,  9.9188e-03],\n",
              "                        [-4.6618e-02, -3.5047e-03,  7.8168e-02],\n",
              "                        [-8.7939e-02, -5.5886e-02, -7.6226e-02]],\n",
              "              \n",
              "                       [[-7.6634e-03, -3.6274e-03, -8.2146e-02],\n",
              "                        [ 7.3163e-02, -8.0946e-02,  9.8414e-02],\n",
              "                        [-7.2560e-02, -1.4446e-02,  1.9710e-02]],\n",
              "              \n",
              "                       [[-4.6852e-02,  9.6939e-02, -7.2673e-02],\n",
              "                        [-5.8427e-03, -7.7398e-02,  2.9261e-02],\n",
              "                        [ 8.9871e-02,  9.7776e-02,  1.2514e-02]],\n",
              "              \n",
              "                       [[-5.2773e-02,  1.0244e-01,  7.8667e-03],\n",
              "                        [ 7.1317e-02, -5.4751e-02, -4.8920e-02],\n",
              "                        [-8.7504e-02,  9.6990e-02,  1.7486e-02]],\n",
              "              \n",
              "                       [[-7.5704e-02,  9.0535e-03, -4.5211e-02],\n",
              "                        [ 5.2659e-03,  3.4988e-02, -5.2308e-02],\n",
              "                        [ 1.8394e-02, -6.6553e-02,  2.0312e-02]],\n",
              "              \n",
              "                       [[-1.0178e-01,  1.6797e-02,  1.0473e-01],\n",
              "                        [ 9.7094e-02,  3.8451e-02,  7.7563e-02],\n",
              "                        [ 1.0248e-01,  2.9870e-02,  3.5156e-02]],\n",
              "              \n",
              "                       [[ 1.3707e-02,  9.3322e-02,  9.0551e-02],\n",
              "                        [-4.9570e-02, -4.3333e-03, -5.3110e-02],\n",
              "                        [ 3.7824e-02, -1.0214e-01,  3.7301e-02]],\n",
              "              \n",
              "                       [[-2.8929e-02,  3.8227e-02,  3.2899e-02],\n",
              "                        [-5.2454e-02,  5.4687e-02,  4.4762e-02],\n",
              "                        [-8.9602e-02,  1.0517e-01,  9.0731e-02]]],\n",
              "              \n",
              "              \n",
              "                      [[[ 6.5584e-02, -1.0699e-02,  3.7345e-02],\n",
              "                        [-5.7028e-02, -3.5818e-02,  4.9749e-02],\n",
              "                        [ 4.6925e-02,  4.1741e-02, -1.0053e-01]],\n",
              "              \n",
              "                       [[ 8.7350e-02, -4.4028e-02,  9.1223e-02],\n",
              "                        [ 8.6852e-02,  3.9070e-02,  1.0502e-01],\n",
              "                        [ 6.0528e-02,  6.1821e-02, -3.5794e-02]],\n",
              "              \n",
              "                       [[ 9.7766e-02,  2.7627e-02,  6.2280e-02],\n",
              "                        [-2.3834e-02,  7.6340e-02,  9.3509e-02],\n",
              "                        [-8.0770e-02,  8.6415e-02, -6.9664e-02]],\n",
              "              \n",
              "                       [[-7.2571e-02, -8.8089e-02,  3.0459e-02],\n",
              "                        [-7.9144e-02, -3.9680e-02, -5.2988e-02],\n",
              "                        [ 2.8172e-02, -1.0349e-01, -4.8324e-02]],\n",
              "              \n",
              "                       [[ 7.7112e-04,  9.4660e-03, -4.7605e-02],\n",
              "                        [ 3.7764e-02, -6.9544e-02, -8.9270e-02],\n",
              "                        [-1.4986e-02, -5.6989e-02,  6.6443e-02]],\n",
              "              \n",
              "                       [[-7.2049e-02, -8.8494e-03,  4.3782e-02],\n",
              "                        [-9.2311e-02,  8.1599e-02, -4.7895e-02],\n",
              "                        [-2.8684e-02, -6.4480e-02, -3.9279e-02]],\n",
              "              \n",
              "                       [[-4.0645e-02, -9.3801e-02,  3.6019e-02],\n",
              "                        [-3.3768e-04,  1.0311e-01,  7.1117e-02],\n",
              "                        [ 9.1699e-02,  3.1014e-02,  5.5388e-02]],\n",
              "              \n",
              "                       [[ 9.8704e-02,  8.6545e-02, -8.0996e-02],\n",
              "                        [-2.3636e-02, -1.0166e-01,  3.9877e-03],\n",
              "                        [-3.7229e-02,  9.1486e-02,  1.6666e-02]],\n",
              "              \n",
              "                       [[ 1.1601e-03, -7.6248e-02, -8.2718e-02],\n",
              "                        [ 1.6594e-02, -5.2376e-02, -4.8409e-02],\n",
              "                        [ 7.3938e-02, -5.4952e-02, -4.6918e-02]],\n",
              "              \n",
              "                       [[ 8.0934e-02,  4.1183e-02, -5.9894e-02],\n",
              "                        [ 3.1923e-02,  5.3141e-02, -9.3625e-02],\n",
              "                        [ 1.9691e-02,  2.4083e-02, -4.1054e-03]]]])),\n",
              "             ('block_2.2.bias',\n",
              "              tensor([ 0.1011, -0.0697,  0.0571, -0.0560, -0.0902,  0.0718, -0.0506,  0.0050,\n",
              "                       0.0554, -0.0880])),\n",
              "             ('classifier.1.weight',\n",
              "              tensor([[-0.0387,  0.0154,  0.0394,  ..., -0.0193, -0.0251, -0.0366],\n",
              "                      [ 0.0445, -0.0413,  0.0420,  ...,  0.0149,  0.0176,  0.0094],\n",
              "                      [-0.0348,  0.0040, -0.0240,  ...,  0.0374, -0.0045, -0.0164],\n",
              "                      ...,\n",
              "                      [-0.0206,  0.0223,  0.0358,  ..., -0.0093,  0.0114, -0.0400],\n",
              "                      [ 0.0389, -0.0048, -0.0184,  ..., -0.0326,  0.0237,  0.0108],\n",
              "                      [ 0.0375,  0.0241, -0.0098,  ...,  0.0156, -0.0010, -0.0277]])),\n",
              "             ('classifier.1.bias',\n",
              "              tensor([ 0.0404,  0.0037, -0.0283,  0.0207,  0.0032, -0.0072, -0.0322, -0.0033,\n",
              "                       0.0261, -0.0221]))])"
            ]
          },
          "metadata": {},
          "execution_count": 51
        }
      ]
    },
    {
      "cell_type": "markdown",
      "source": [
        "### 7.4 Training and testing using our model_2"
      ],
      "metadata": {
        "id": "5pkSGQOHomAn"
      }
    },
    {
      "cell_type": "code",
      "source": [
        "torch.manual_seed(42)\n",
        "torch.cuda.manual_seed(42)\n",
        "\n",
        "# Measure time\n",
        "from timeit import default_timer as timer\n",
        "train_time_start_model_2 = timer()\n",
        "\n",
        "# Train and test model\n",
        "epochs = 3\n",
        "for epoch in tqdm(range(epochs)):\n",
        "  print(f'Epoch: {epoch}\\n=====')\n",
        "  train_step(model = model_2,\n",
        "             data_loader = train_dataloader,\n",
        "             loss_fn = loss_fn,\n",
        "             optimizer = optimizer,\n",
        "             accuracy_fn = accuracy_fn,\n",
        "             device = device)\n",
        "  test_step(model=model_2,\n",
        "            data_loader = test_dataloader,\n",
        "            loss_fn = loss_fn,\n",
        "            accuracy_fn = accuracy_fn,\n",
        "            device = device)\n",
        "\n",
        "train_time_end_model_2 = timer()\n",
        "total_train_time_model_2 = print_train_time(start = train_time_start_model_2,\n",
        "                                            end = train_time_end_model_2,\n",
        "                                            device = device)"
      ],
      "metadata": {
        "colab": {
          "base_uri": "https://localhost:8080/",
          "height": 327,
          "referenced_widgets": [
            "c74426437f39494693768ebd1cf245e6",
            "953421aff65047e48a7418f3998483c7",
            "945aedfa9f18447eb9d81513cd0afd2e",
            "f9ed4782b62a496d9ee39b494ccbe7ae",
            "52630342f40f48f2bd7e4211636c6ace",
            "05c584f5c5a44ab09850a096ce01c5d3",
            "4af906dc2c024bd88722760b19791f86",
            "f3f0afec579540dbb15d2f97515587e6",
            "0e999ed8aa0e438aa3a08008c268ea92",
            "0c026b01224546e9b45113b4f801014d",
            "225d131cb6484718aa0676cf042fcd66"
          ]
        },
        "id": "rGb-gnxnoaRM",
        "outputId": "7f298e27-7983-485b-f758-833626301ea2"
      },
      "execution_count": 52,
      "outputs": [
        {
          "output_type": "display_data",
          "data": {
            "text/plain": [
              "  0%|          | 0/3 [00:00<?, ?it/s]"
            ],
            "application/vnd.jupyter.widget-view+json": {
              "version_major": 2,
              "version_minor": 0,
              "model_id": "c74426437f39494693768ebd1cf245e6"
            }
          },
          "metadata": {}
        },
        {
          "output_type": "stream",
          "name": "stdout",
          "text": [
            "Epoch: 0\n",
            "=====\n",
            "Train loss: 0.75836 | Train accuracy: 71.97%\n",
            "Test loss: 0.40546 | Test accuracy: 85.72%\n",
            "\n",
            "Epoch: 1\n",
            "=====\n",
            "Train loss: 0.37443 | Train accuracy: 86.56%\n",
            "Test loss: 0.36190 | Test accuracy: 87.16%\n",
            "\n",
            "Epoch: 2\n",
            "=====\n",
            "Train loss: 0.33626 | Train accuracy: 87.86%\n",
            "Test loss: 0.33325 | Test accuracy: 87.84%\n",
            "\n",
            "Train time on cpu: 157.539 seconds\n"
          ]
        }
      ]
    },
    {
      "cell_type": "code",
      "source": [
        "# Get the model results\n",
        "model_2_results = eval_model(\n",
        "    model = model_2,\n",
        "    data_loader = test_dataloader,\n",
        "    loss_fn = loss_fn,\n",
        "    accuracy_fn = accuracy_fn,\n",
        "    # device = device\n",
        ")\n",
        "model_2_results"
      ],
      "metadata": {
        "colab": {
          "base_uri": "https://localhost:8080/",
          "height": 101,
          "referenced_widgets": [
            "99aa77e4b42c471790d1831ded0b6de7",
            "79a66fef5a2b42c28a9ed15bfbce1c3a",
            "ef157dc979a34935be7fd5e8fc133fd9",
            "86c9ffe9ce1f444c873918fd77d09497",
            "a37f623884504782bfe3a035798fcbc5",
            "026505cc47dd444a82886af145ab45f3",
            "16a1abd7bfa846ae8fa255a4669ac977",
            "30e79a63b46047e9a4be48359f809e78",
            "982263c31594450a847692c580e29e9b",
            "3884df1b9e16401da18092cb8b915797",
            "b93a5e2a75544ed6a93186df8249150e"
          ]
        },
        "id": "eXuKFTcCvivp",
        "outputId": "f77f9fc7-2024-4adf-d451-1569f92a6f93"
      },
      "execution_count": 54,
      "outputs": [
        {
          "output_type": "display_data",
          "data": {
            "text/plain": [
              "  0%|          | 0/313 [00:00<?, ?it/s]"
            ],
            "application/vnd.jupyter.widget-view+json": {
              "version_major": 2,
              "version_minor": 0,
              "model_id": "99aa77e4b42c471790d1831ded0b6de7"
            }
          },
          "metadata": {}
        },
        {
          "output_type": "execute_result",
          "data": {
            "text/plain": [
              "{'Model_name': 'FashionMNISTModelV2',\n",
              " 'Model_loss': 0.3332502543926239,\n",
              " 'Model_acc': 87.83945686900958}"
            ]
          },
          "metadata": {},
          "execution_count": 54
        }
      ]
    },
    {
      "cell_type": "markdown",
      "source": [
        "## 8. Comparing the model results and training time"
      ],
      "metadata": {
        "id": "KsQtD1vGxtwm"
      }
    },
    {
      "cell_type": "code",
      "source": [
        "import pandas as pd\n",
        "compare_results = pd.DataFrame([model_0_results,\n",
        "                                model_1_results,\n",
        "                                model_2_results])\n",
        "compare_results"
      ],
      "metadata": {
        "colab": {
          "base_uri": "https://localhost:8080/",
          "height": 143
        },
        "id": "rgHickN9xeDL",
        "outputId": "61115a2a-aa56-4b6d-aeca-9932fece5ca1"
      },
      "execution_count": 56,
      "outputs": [
        {
          "output_type": "execute_result",
          "data": {
            "text/plain": [
              "            Model_name  Model_loss  Model_acc\n",
              "0  FashionMNISTModelV0    0.476639  83.426518\n",
              "1  FashionMNISTModelV1    0.685001  75.019968\n",
              "2  FashionMNISTModelV2    0.333250  87.839457"
            ],
            "text/html": [
              "\n",
              "  <div id=\"df-c21b1f7c-997d-469e-9de9-5b27cf48dcb9\" class=\"colab-df-container\">\n",
              "    <div>\n",
              "<style scoped>\n",
              "    .dataframe tbody tr th:only-of-type {\n",
              "        vertical-align: middle;\n",
              "    }\n",
              "\n",
              "    .dataframe tbody tr th {\n",
              "        vertical-align: top;\n",
              "    }\n",
              "\n",
              "    .dataframe thead th {\n",
              "        text-align: right;\n",
              "    }\n",
              "</style>\n",
              "<table border=\"1\" class=\"dataframe\">\n",
              "  <thead>\n",
              "    <tr style=\"text-align: right;\">\n",
              "      <th></th>\n",
              "      <th>Model_name</th>\n",
              "      <th>Model_loss</th>\n",
              "      <th>Model_acc</th>\n",
              "    </tr>\n",
              "  </thead>\n",
              "  <tbody>\n",
              "    <tr>\n",
              "      <th>0</th>\n",
              "      <td>FashionMNISTModelV0</td>\n",
              "      <td>0.476639</td>\n",
              "      <td>83.426518</td>\n",
              "    </tr>\n",
              "    <tr>\n",
              "      <th>1</th>\n",
              "      <td>FashionMNISTModelV1</td>\n",
              "      <td>0.685001</td>\n",
              "      <td>75.019968</td>\n",
              "    </tr>\n",
              "    <tr>\n",
              "      <th>2</th>\n",
              "      <td>FashionMNISTModelV2</td>\n",
              "      <td>0.333250</td>\n",
              "      <td>87.839457</td>\n",
              "    </tr>\n",
              "  </tbody>\n",
              "</table>\n",
              "</div>\n",
              "    <div class=\"colab-df-buttons\">\n",
              "\n",
              "  <div class=\"colab-df-container\">\n",
              "    <button class=\"colab-df-convert\" onclick=\"convertToInteractive('df-c21b1f7c-997d-469e-9de9-5b27cf48dcb9')\"\n",
              "            title=\"Convert this dataframe to an interactive table.\"\n",
              "            style=\"display:none;\">\n",
              "\n",
              "  <svg xmlns=\"http://www.w3.org/2000/svg\" height=\"24px\" viewBox=\"0 -960 960 960\">\n",
              "    <path d=\"M120-120v-720h720v720H120Zm60-500h600v-160H180v160Zm220 220h160v-160H400v160Zm0 220h160v-160H400v160ZM180-400h160v-160H180v160Zm440 0h160v-160H620v160ZM180-180h160v-160H180v160Zm440 0h160v-160H620v160Z\"/>\n",
              "  </svg>\n",
              "    </button>\n",
              "\n",
              "  <style>\n",
              "    .colab-df-container {\n",
              "      display:flex;\n",
              "      gap: 12px;\n",
              "    }\n",
              "\n",
              "    .colab-df-convert {\n",
              "      background-color: #E8F0FE;\n",
              "      border: none;\n",
              "      border-radius: 50%;\n",
              "      cursor: pointer;\n",
              "      display: none;\n",
              "      fill: #1967D2;\n",
              "      height: 32px;\n",
              "      padding: 0 0 0 0;\n",
              "      width: 32px;\n",
              "    }\n",
              "\n",
              "    .colab-df-convert:hover {\n",
              "      background-color: #E2EBFA;\n",
              "      box-shadow: 0px 1px 2px rgba(60, 64, 67, 0.3), 0px 1px 3px 1px rgba(60, 64, 67, 0.15);\n",
              "      fill: #174EA6;\n",
              "    }\n",
              "\n",
              "    .colab-df-buttons div {\n",
              "      margin-bottom: 4px;\n",
              "    }\n",
              "\n",
              "    [theme=dark] .colab-df-convert {\n",
              "      background-color: #3B4455;\n",
              "      fill: #D2E3FC;\n",
              "    }\n",
              "\n",
              "    [theme=dark] .colab-df-convert:hover {\n",
              "      background-color: #434B5C;\n",
              "      box-shadow: 0px 1px 3px 1px rgba(0, 0, 0, 0.15);\n",
              "      filter: drop-shadow(0px 1px 2px rgba(0, 0, 0, 0.3));\n",
              "      fill: #FFFFFF;\n",
              "    }\n",
              "  </style>\n",
              "\n",
              "    <script>\n",
              "      const buttonEl =\n",
              "        document.querySelector('#df-c21b1f7c-997d-469e-9de9-5b27cf48dcb9 button.colab-df-convert');\n",
              "      buttonEl.style.display =\n",
              "        google.colab.kernel.accessAllowed ? 'block' : 'none';\n",
              "\n",
              "      async function convertToInteractive(key) {\n",
              "        const element = document.querySelector('#df-c21b1f7c-997d-469e-9de9-5b27cf48dcb9');\n",
              "        const dataTable =\n",
              "          await google.colab.kernel.invokeFunction('convertToInteractive',\n",
              "                                                    [key], {});\n",
              "        if (!dataTable) return;\n",
              "\n",
              "        const docLinkHtml = 'Like what you see? Visit the ' +\n",
              "          '<a target=\"_blank\" href=https://colab.research.google.com/notebooks/data_table.ipynb>data table notebook</a>'\n",
              "          + ' to learn more about interactive tables.';\n",
              "        element.innerHTML = '';\n",
              "        dataTable['output_type'] = 'display_data';\n",
              "        await google.colab.output.renderOutput(dataTable, element);\n",
              "        const docLink = document.createElement('div');\n",
              "        docLink.innerHTML = docLinkHtml;\n",
              "        element.appendChild(docLink);\n",
              "      }\n",
              "    </script>\n",
              "  </div>\n",
              "\n",
              "\n",
              "<div id=\"df-605647ce-d7fb-496e-aa3f-5377cde9f572\">\n",
              "  <button class=\"colab-df-quickchart\" onclick=\"quickchart('df-605647ce-d7fb-496e-aa3f-5377cde9f572')\"\n",
              "            title=\"Suggest charts.\"\n",
              "            style=\"display:none;\">\n",
              "\n",
              "<svg xmlns=\"http://www.w3.org/2000/svg\" height=\"24px\"viewBox=\"0 0 24 24\"\n",
              "     width=\"24px\">\n",
              "    <g>\n",
              "        <path d=\"M19 3H5c-1.1 0-2 .9-2 2v14c0 1.1.9 2 2 2h14c1.1 0 2-.9 2-2V5c0-1.1-.9-2-2-2zM9 17H7v-7h2v7zm4 0h-2V7h2v10zm4 0h-2v-4h2v4z\"/>\n",
              "    </g>\n",
              "</svg>\n",
              "  </button>\n",
              "\n",
              "<style>\n",
              "  .colab-df-quickchart {\n",
              "      --bg-color: #E8F0FE;\n",
              "      --fill-color: #1967D2;\n",
              "      --hover-bg-color: #E2EBFA;\n",
              "      --hover-fill-color: #174EA6;\n",
              "      --disabled-fill-color: #AAA;\n",
              "      --disabled-bg-color: #DDD;\n",
              "  }\n",
              "\n",
              "  [theme=dark] .colab-df-quickchart {\n",
              "      --bg-color: #3B4455;\n",
              "      --fill-color: #D2E3FC;\n",
              "      --hover-bg-color: #434B5C;\n",
              "      --hover-fill-color: #FFFFFF;\n",
              "      --disabled-bg-color: #3B4455;\n",
              "      --disabled-fill-color: #666;\n",
              "  }\n",
              "\n",
              "  .colab-df-quickchart {\n",
              "    background-color: var(--bg-color);\n",
              "    border: none;\n",
              "    border-radius: 50%;\n",
              "    cursor: pointer;\n",
              "    display: none;\n",
              "    fill: var(--fill-color);\n",
              "    height: 32px;\n",
              "    padding: 0;\n",
              "    width: 32px;\n",
              "  }\n",
              "\n",
              "  .colab-df-quickchart:hover {\n",
              "    background-color: var(--hover-bg-color);\n",
              "    box-shadow: 0 1px 2px rgba(60, 64, 67, 0.3), 0 1px 3px 1px rgba(60, 64, 67, 0.15);\n",
              "    fill: var(--button-hover-fill-color);\n",
              "  }\n",
              "\n",
              "  .colab-df-quickchart-complete:disabled,\n",
              "  .colab-df-quickchart-complete:disabled:hover {\n",
              "    background-color: var(--disabled-bg-color);\n",
              "    fill: var(--disabled-fill-color);\n",
              "    box-shadow: none;\n",
              "  }\n",
              "\n",
              "  .colab-df-spinner {\n",
              "    border: 2px solid var(--fill-color);\n",
              "    border-color: transparent;\n",
              "    border-bottom-color: var(--fill-color);\n",
              "    animation:\n",
              "      spin 1s steps(1) infinite;\n",
              "  }\n",
              "\n",
              "  @keyframes spin {\n",
              "    0% {\n",
              "      border-color: transparent;\n",
              "      border-bottom-color: var(--fill-color);\n",
              "      border-left-color: var(--fill-color);\n",
              "    }\n",
              "    20% {\n",
              "      border-color: transparent;\n",
              "      border-left-color: var(--fill-color);\n",
              "      border-top-color: var(--fill-color);\n",
              "    }\n",
              "    30% {\n",
              "      border-color: transparent;\n",
              "      border-left-color: var(--fill-color);\n",
              "      border-top-color: var(--fill-color);\n",
              "      border-right-color: var(--fill-color);\n",
              "    }\n",
              "    40% {\n",
              "      border-color: transparent;\n",
              "      border-right-color: var(--fill-color);\n",
              "      border-top-color: var(--fill-color);\n",
              "    }\n",
              "    60% {\n",
              "      border-color: transparent;\n",
              "      border-right-color: var(--fill-color);\n",
              "    }\n",
              "    80% {\n",
              "      border-color: transparent;\n",
              "      border-right-color: var(--fill-color);\n",
              "      border-bottom-color: var(--fill-color);\n",
              "    }\n",
              "    90% {\n",
              "      border-color: transparent;\n",
              "      border-bottom-color: var(--fill-color);\n",
              "    }\n",
              "  }\n",
              "</style>\n",
              "\n",
              "  <script>\n",
              "    async function quickchart(key) {\n",
              "      const quickchartButtonEl =\n",
              "        document.querySelector('#' + key + ' button');\n",
              "      quickchartButtonEl.disabled = true;  // To prevent multiple clicks.\n",
              "      quickchartButtonEl.classList.add('colab-df-spinner');\n",
              "      try {\n",
              "        const charts = await google.colab.kernel.invokeFunction(\n",
              "            'suggestCharts', [key], {});\n",
              "      } catch (error) {\n",
              "        console.error('Error during call to suggestCharts:', error);\n",
              "      }\n",
              "      quickchartButtonEl.classList.remove('colab-df-spinner');\n",
              "      quickchartButtonEl.classList.add('colab-df-quickchart-complete');\n",
              "    }\n",
              "    (() => {\n",
              "      let quickchartButtonEl =\n",
              "        document.querySelector('#df-605647ce-d7fb-496e-aa3f-5377cde9f572 button');\n",
              "      quickchartButtonEl.style.display =\n",
              "        google.colab.kernel.accessAllowed ? 'block' : 'none';\n",
              "    })();\n",
              "  </script>\n",
              "</div>\n",
              "    </div>\n",
              "  </div>\n"
            ]
          },
          "metadata": {},
          "execution_count": 56
        }
      ]
    },
    {
      "cell_type": "code",
      "source": [
        "# Add training time to results comparision\n",
        "compare_results['training_time'] = [total_train_time_model_0,\n",
        "                                    total_train_time_model_1,\n",
        "                                    total_train_time_model_2]\n",
        "compare_results"
      ],
      "metadata": {
        "colab": {
          "base_uri": "https://localhost:8080/",
          "height": 143
        },
        "id": "I1dg-Eukx_Nj",
        "outputId": "22c8355c-6ef1-4371-cb18-472e18a88783"
      },
      "execution_count": 57,
      "outputs": [
        {
          "output_type": "execute_result",
          "data": {
            "text/plain": [
              "            Model_name  Model_loss  Model_acc  training_time\n",
              "0  FashionMNISTModelV0    0.476639  83.426518      33.188578\n",
              "1  FashionMNISTModelV1    0.685001  75.019968      34.077551\n",
              "2  FashionMNISTModelV2    0.333250  87.839457     157.538504"
            ],
            "text/html": [
              "\n",
              "  <div id=\"df-f61c3ae5-bca3-47b8-8992-fd49e4bd13ba\" class=\"colab-df-container\">\n",
              "    <div>\n",
              "<style scoped>\n",
              "    .dataframe tbody tr th:only-of-type {\n",
              "        vertical-align: middle;\n",
              "    }\n",
              "\n",
              "    .dataframe tbody tr th {\n",
              "        vertical-align: top;\n",
              "    }\n",
              "\n",
              "    .dataframe thead th {\n",
              "        text-align: right;\n",
              "    }\n",
              "</style>\n",
              "<table border=\"1\" class=\"dataframe\">\n",
              "  <thead>\n",
              "    <tr style=\"text-align: right;\">\n",
              "      <th></th>\n",
              "      <th>Model_name</th>\n",
              "      <th>Model_loss</th>\n",
              "      <th>Model_acc</th>\n",
              "      <th>training_time</th>\n",
              "    </tr>\n",
              "  </thead>\n",
              "  <tbody>\n",
              "    <tr>\n",
              "      <th>0</th>\n",
              "      <td>FashionMNISTModelV0</td>\n",
              "      <td>0.476639</td>\n",
              "      <td>83.426518</td>\n",
              "      <td>33.188578</td>\n",
              "    </tr>\n",
              "    <tr>\n",
              "      <th>1</th>\n",
              "      <td>FashionMNISTModelV1</td>\n",
              "      <td>0.685001</td>\n",
              "      <td>75.019968</td>\n",
              "      <td>34.077551</td>\n",
              "    </tr>\n",
              "    <tr>\n",
              "      <th>2</th>\n",
              "      <td>FashionMNISTModelV2</td>\n",
              "      <td>0.333250</td>\n",
              "      <td>87.839457</td>\n",
              "      <td>157.538504</td>\n",
              "    </tr>\n",
              "  </tbody>\n",
              "</table>\n",
              "</div>\n",
              "    <div class=\"colab-df-buttons\">\n",
              "\n",
              "  <div class=\"colab-df-container\">\n",
              "    <button class=\"colab-df-convert\" onclick=\"convertToInteractive('df-f61c3ae5-bca3-47b8-8992-fd49e4bd13ba')\"\n",
              "            title=\"Convert this dataframe to an interactive table.\"\n",
              "            style=\"display:none;\">\n",
              "\n",
              "  <svg xmlns=\"http://www.w3.org/2000/svg\" height=\"24px\" viewBox=\"0 -960 960 960\">\n",
              "    <path d=\"M120-120v-720h720v720H120Zm60-500h600v-160H180v160Zm220 220h160v-160H400v160Zm0 220h160v-160H400v160ZM180-400h160v-160H180v160Zm440 0h160v-160H620v160ZM180-180h160v-160H180v160Zm440 0h160v-160H620v160Z\"/>\n",
              "  </svg>\n",
              "    </button>\n",
              "\n",
              "  <style>\n",
              "    .colab-df-container {\n",
              "      display:flex;\n",
              "      gap: 12px;\n",
              "    }\n",
              "\n",
              "    .colab-df-convert {\n",
              "      background-color: #E8F0FE;\n",
              "      border: none;\n",
              "      border-radius: 50%;\n",
              "      cursor: pointer;\n",
              "      display: none;\n",
              "      fill: #1967D2;\n",
              "      height: 32px;\n",
              "      padding: 0 0 0 0;\n",
              "      width: 32px;\n",
              "    }\n",
              "\n",
              "    .colab-df-convert:hover {\n",
              "      background-color: #E2EBFA;\n",
              "      box-shadow: 0px 1px 2px rgba(60, 64, 67, 0.3), 0px 1px 3px 1px rgba(60, 64, 67, 0.15);\n",
              "      fill: #174EA6;\n",
              "    }\n",
              "\n",
              "    .colab-df-buttons div {\n",
              "      margin-bottom: 4px;\n",
              "    }\n",
              "\n",
              "    [theme=dark] .colab-df-convert {\n",
              "      background-color: #3B4455;\n",
              "      fill: #D2E3FC;\n",
              "    }\n",
              "\n",
              "    [theme=dark] .colab-df-convert:hover {\n",
              "      background-color: #434B5C;\n",
              "      box-shadow: 0px 1px 3px 1px rgba(0, 0, 0, 0.15);\n",
              "      filter: drop-shadow(0px 1px 2px rgba(0, 0, 0, 0.3));\n",
              "      fill: #FFFFFF;\n",
              "    }\n",
              "  </style>\n",
              "\n",
              "    <script>\n",
              "      const buttonEl =\n",
              "        document.querySelector('#df-f61c3ae5-bca3-47b8-8992-fd49e4bd13ba button.colab-df-convert');\n",
              "      buttonEl.style.display =\n",
              "        google.colab.kernel.accessAllowed ? 'block' : 'none';\n",
              "\n",
              "      async function convertToInteractive(key) {\n",
              "        const element = document.querySelector('#df-f61c3ae5-bca3-47b8-8992-fd49e4bd13ba');\n",
              "        const dataTable =\n",
              "          await google.colab.kernel.invokeFunction('convertToInteractive',\n",
              "                                                    [key], {});\n",
              "        if (!dataTable) return;\n",
              "\n",
              "        const docLinkHtml = 'Like what you see? Visit the ' +\n",
              "          '<a target=\"_blank\" href=https://colab.research.google.com/notebooks/data_table.ipynb>data table notebook</a>'\n",
              "          + ' to learn more about interactive tables.';\n",
              "        element.innerHTML = '';\n",
              "        dataTable['output_type'] = 'display_data';\n",
              "        await google.colab.output.renderOutput(dataTable, element);\n",
              "        const docLink = document.createElement('div');\n",
              "        docLink.innerHTML = docLinkHtml;\n",
              "        element.appendChild(docLink);\n",
              "      }\n",
              "    </script>\n",
              "  </div>\n",
              "\n",
              "\n",
              "<div id=\"df-09fb7f59-d1a1-4cf3-9be5-7be5a78ec7cc\">\n",
              "  <button class=\"colab-df-quickchart\" onclick=\"quickchart('df-09fb7f59-d1a1-4cf3-9be5-7be5a78ec7cc')\"\n",
              "            title=\"Suggest charts.\"\n",
              "            style=\"display:none;\">\n",
              "\n",
              "<svg xmlns=\"http://www.w3.org/2000/svg\" height=\"24px\"viewBox=\"0 0 24 24\"\n",
              "     width=\"24px\">\n",
              "    <g>\n",
              "        <path d=\"M19 3H5c-1.1 0-2 .9-2 2v14c0 1.1.9 2 2 2h14c1.1 0 2-.9 2-2V5c0-1.1-.9-2-2-2zM9 17H7v-7h2v7zm4 0h-2V7h2v10zm4 0h-2v-4h2v4z\"/>\n",
              "    </g>\n",
              "</svg>\n",
              "  </button>\n",
              "\n",
              "<style>\n",
              "  .colab-df-quickchart {\n",
              "      --bg-color: #E8F0FE;\n",
              "      --fill-color: #1967D2;\n",
              "      --hover-bg-color: #E2EBFA;\n",
              "      --hover-fill-color: #174EA6;\n",
              "      --disabled-fill-color: #AAA;\n",
              "      --disabled-bg-color: #DDD;\n",
              "  }\n",
              "\n",
              "  [theme=dark] .colab-df-quickchart {\n",
              "      --bg-color: #3B4455;\n",
              "      --fill-color: #D2E3FC;\n",
              "      --hover-bg-color: #434B5C;\n",
              "      --hover-fill-color: #FFFFFF;\n",
              "      --disabled-bg-color: #3B4455;\n",
              "      --disabled-fill-color: #666;\n",
              "  }\n",
              "\n",
              "  .colab-df-quickchart {\n",
              "    background-color: var(--bg-color);\n",
              "    border: none;\n",
              "    border-radius: 50%;\n",
              "    cursor: pointer;\n",
              "    display: none;\n",
              "    fill: var(--fill-color);\n",
              "    height: 32px;\n",
              "    padding: 0;\n",
              "    width: 32px;\n",
              "  }\n",
              "\n",
              "  .colab-df-quickchart:hover {\n",
              "    background-color: var(--hover-bg-color);\n",
              "    box-shadow: 0 1px 2px rgba(60, 64, 67, 0.3), 0 1px 3px 1px rgba(60, 64, 67, 0.15);\n",
              "    fill: var(--button-hover-fill-color);\n",
              "  }\n",
              "\n",
              "  .colab-df-quickchart-complete:disabled,\n",
              "  .colab-df-quickchart-complete:disabled:hover {\n",
              "    background-color: var(--disabled-bg-color);\n",
              "    fill: var(--disabled-fill-color);\n",
              "    box-shadow: none;\n",
              "  }\n",
              "\n",
              "  .colab-df-spinner {\n",
              "    border: 2px solid var(--fill-color);\n",
              "    border-color: transparent;\n",
              "    border-bottom-color: var(--fill-color);\n",
              "    animation:\n",
              "      spin 1s steps(1) infinite;\n",
              "  }\n",
              "\n",
              "  @keyframes spin {\n",
              "    0% {\n",
              "      border-color: transparent;\n",
              "      border-bottom-color: var(--fill-color);\n",
              "      border-left-color: var(--fill-color);\n",
              "    }\n",
              "    20% {\n",
              "      border-color: transparent;\n",
              "      border-left-color: var(--fill-color);\n",
              "      border-top-color: var(--fill-color);\n",
              "    }\n",
              "    30% {\n",
              "      border-color: transparent;\n",
              "      border-left-color: var(--fill-color);\n",
              "      border-top-color: var(--fill-color);\n",
              "      border-right-color: var(--fill-color);\n",
              "    }\n",
              "    40% {\n",
              "      border-color: transparent;\n",
              "      border-right-color: var(--fill-color);\n",
              "      border-top-color: var(--fill-color);\n",
              "    }\n",
              "    60% {\n",
              "      border-color: transparent;\n",
              "      border-right-color: var(--fill-color);\n",
              "    }\n",
              "    80% {\n",
              "      border-color: transparent;\n",
              "      border-right-color: var(--fill-color);\n",
              "      border-bottom-color: var(--fill-color);\n",
              "    }\n",
              "    90% {\n",
              "      border-color: transparent;\n",
              "      border-bottom-color: var(--fill-color);\n",
              "    }\n",
              "  }\n",
              "</style>\n",
              "\n",
              "  <script>\n",
              "    async function quickchart(key) {\n",
              "      const quickchartButtonEl =\n",
              "        document.querySelector('#' + key + ' button');\n",
              "      quickchartButtonEl.disabled = true;  // To prevent multiple clicks.\n",
              "      quickchartButtonEl.classList.add('colab-df-spinner');\n",
              "      try {\n",
              "        const charts = await google.colab.kernel.invokeFunction(\n",
              "            'suggestCharts', [key], {});\n",
              "      } catch (error) {\n",
              "        console.error('Error during call to suggestCharts:', error);\n",
              "      }\n",
              "      quickchartButtonEl.classList.remove('colab-df-spinner');\n",
              "      quickchartButtonEl.classList.add('colab-df-quickchart-complete');\n",
              "    }\n",
              "    (() => {\n",
              "      let quickchartButtonEl =\n",
              "        document.querySelector('#df-09fb7f59-d1a1-4cf3-9be5-7be5a78ec7cc button');\n",
              "      quickchartButtonEl.style.display =\n",
              "        google.colab.kernel.accessAllowed ? 'block' : 'none';\n",
              "    })();\n",
              "  </script>\n",
              "</div>\n",
              "    </div>\n",
              "  </div>\n"
            ]
          },
          "metadata": {},
          "execution_count": 57
        }
      ]
    },
    {
      "cell_type": "code",
      "source": [
        "# Visualize our model results\n",
        "compare_results.set_index('Model_name')['Model_acc'].plot(kind = 'barh')\n",
        "plt.xlabel('Accuracy (%)')\n",
        "plt.ylabel('model');"
      ],
      "metadata": {
        "colab": {
          "base_uri": "https://localhost:8080/",
          "height": 449
        },
        "id": "fyiY-L6PypyD",
        "outputId": "56e0ee0b-d1e7-4935-acc5-95be73a789d2"
      },
      "execution_count": 61,
      "outputs": [
        {
          "output_type": "display_data",
          "data": {
            "text/plain": [
              "<Figure size 640x480 with 1 Axes>"
            ],
            "image/png": "[encoded data removed]"
          },
          "metadata": {}
        }
      ]
    },
    {
      "cell_type": "markdown",
      "source": [
        "## 9. Make and evaluate random predictions with the best model"
      ],
      "metadata": {
        "id": "CbewQmB104Ws"
      }
    },
    {
      "cell_type": "code",
      "source": [
        "def make_predictions(model: torch.nn.Module,\n",
        "                     data: list,\n",
        "                     device: torch.device = device):\n",
        "  pred_probs = []\n",
        "  model.eval()\n",
        "  with torch.inference_mode():\n",
        "    for sample in data:\n",
        "      # Prepare the sample\n",
        "      sample = torch.unsqueeze(sample, dim = 0).to(device)\n",
        "\n",
        "      # Forward pass (model outputs and raw logits)\n",
        "      pred_logit = model(sample)\n",
        "\n",
        "      # Get prediction probability (logit => Prediction probability)\n",
        "      pred_prob = torch.softmax(pred_logit.squeeze(), dim = 0)\n",
        "\n",
        "      # Get pred_prob off the GPU for further calculations\n",
        "      pred_probs.append(pred_prob.cpu())\n",
        "\n",
        "  # Stack the pred_prob to turn list into tensors\n",
        "  return torch.stack(pred_probs)"
      ],
      "metadata": {
        "id": "_UZ0OBQmz-Tl"
      },
      "execution_count": 77,
      "outputs": []
    },
    {
      "cell_type": "code",
      "source": [
        "img, label = test_data[0][:10]\n",
        "img.shape, label"
      ],
      "metadata": {
        "colab": {
          "base_uri": "https://localhost:8080/"
        },
        "id": "fdxLfAb32mOT",
        "outputId": "a8b37e3c-a2ff-48c9-9d74-45755ae38719"
      },
      "execution_count": 78,
      "outputs": [
        {
          "output_type": "execute_result",
          "data": {
            "text/plain": [
              "(torch.Size([1, 28, 28]), 9)"
            ]
          },
          "metadata": {},
          "execution_count": 78
        }
      ]
    },
    {
      "cell_type": "code",
      "source": [
        "import random\n",
        "random.seed(42)\n",
        "test_sample = []\n",
        "test_labels = []\n",
        "for sample, label in random.sample(list(test_data), k = 9):\n",
        "  test_sample.append(sample)\n",
        "  test_labels.append(label)\n",
        "\n",
        "# View the first sample shape\n",
        "test_sample[0].shape"
      ],
      "metadata": {
        "colab": {
          "base_uri": "https://localhost:8080/"
        },
        "id": "kbJ4wKaY1MUl",
        "outputId": "8a961aaa-1531-4514-cb03-75d5415d7447"
      },
      "execution_count": 79,
      "outputs": [
        {
          "output_type": "execute_result",
          "data": {
            "text/plain": [
              "torch.Size([1, 28, 28])"
            ]
          },
          "metadata": {},
          "execution_count": 79
        }
      ]
    },
    {
      "cell_type": "code",
      "source": [
        "plt.imshow(test_sample[0].squeeze(), cmap = 'gray')\n",
        "plt.title(class_names[test_labels[0]])"
      ],
      "metadata": {
        "colab": {
          "base_uri": "https://localhost:8080/",
          "height": 469
        },
        "id": "b8edV-QJ3ECa",
        "outputId": "21a7d753-7d21-4cde-d184-38fa23b2b701"
      },
      "execution_count": 80,
      "outputs": [
        {
          "output_type": "execute_result",
          "data": {
            "text/plain": [
              "Text(0.5, 1.0, 'Sandal')"
            ]
          },
          "metadata": {},
          "execution_count": 80
        },
        {
          "output_type": "display_data",
          "data": {
            "text/plain": [
              "<Figure size 640x480 with 1 Axes>"
            ],
            "image/png": "[encoded data removed]"
          },
          "metadata": {}
        }
      ]
    },
    {
      "cell_type": "code",
      "source": [
        "# Make Predictions\n",
        "pred_probs = make_predictions(model = model_2,\n",
        "                              data = test_sample)\n",
        "\n",
        "# View first two prediction probabilities\n",
        "pred_probs[:2]"
      ],
      "metadata": {
        "colab": {
          "base_uri": "https://localhost:8080/"
        },
        "id": "a71ttCZX3LD5",
        "outputId": "41683b00-7808-4abd-85a7-edf7dc9d2b03"
      },
      "execution_count": 81,
      "outputs": [
        {
          "output_type": "execute_result",
          "data": {
            "text/plain": [
              "tensor([[6.6219e-08, 1.2213e-09, 4.5626e-07, 6.9991e-07, 3.5880e-08, 9.9989e-01,\n",
              "         2.8086e-06, 5.6624e-06, 2.7869e-05, 7.2414e-05],\n",
              "        [1.4839e-01, 4.9148e-01, 3.3154e-03, 1.3729e-01, 8.3841e-02, 6.6882e-04,\n",
              "         1.2959e-01, 1.7074e-03, 3.1004e-03, 6.2884e-04]])"
            ]
          },
          "metadata": {},
          "execution_count": 81
        }
      ]
    },
    {
      "cell_type": "code",
      "source": [
        "# Convert prediction probabilities to labels\n",
        "pred_classes = pred_probs.argmax(dim = 1)\n",
        "pred_classes"
      ],
      "metadata": {
        "colab": {
          "base_uri": "https://localhost:8080/"
        },
        "id": "vgQIrHK23tdz",
        "outputId": "1bc200ad-3ff4-46f2-d82c-6285231b3a62"
      },
      "execution_count": 82,
      "outputs": [
        {
          "output_type": "execute_result",
          "data": {
            "text/plain": [
              "tensor([5, 1, 7, 4, 3, 0, 4, 7, 1])"
            ]
          },
          "metadata": {},
          "execution_count": 82
        }
      ]
    },
    {
      "cell_type": "code",
      "source": [
        "# Plot predictions\n",
        "plt.figure(figsize=(9,9))\n",
        "nrows = 3\n",
        "ncols = 3\n",
        "for i, sample in enumerate(test_sample):\n",
        "  # Create subplot\n",
        "  plt.subplot(nrows, ncols, i+1)\n",
        "\n",
        "  # Plot the target image\n",
        "  plt.imshow(sample.squeeze(), cmap = 'gray')\n",
        "\n",
        "  # Find the prediction labels in text forms\n",
        "  pred_label = class_names[pred_classes[i]]\n",
        "\n",
        "  # Get the truth label (in text form)\n",
        "  truth_label = class_names[test_labels[i]]\n",
        "\n",
        "  # Create a title for the plot\n",
        "  title_text = f' Pred: {pred_label} | Truth Label: {truth_label}'\n",
        "\n",
        "  # Check for equality between pred and truth and change color of title text\n",
        "  if pred_label == truth_label:\n",
        "    plt.title(title_text, fontsize =10, c='g') # Green text if prediction same as truth\n",
        "  else:\n",
        "    plt.title(title_text, fontsize = 10, c = 'r') # Red text if prediction is wrong\n",
        "\n",
        "  plt.axis(False);"
      ],
      "metadata": {
        "colab": {
          "base_uri": "https://localhost:8080/",
          "height": 749
        },
        "id": "XfnzW3Xv4pVi",
        "outputId": "5fb49d01-5381-4d4b-e0b9-54b3a39cefa7"
      },
      "execution_count": 88,
      "outputs": [
        {
          "output_type": "display_data",
          "data": {
            "text/plain": [
              "<Figure size 900x900 with 9 Axes>"
            ],
            "image/png": "[encoded data removed]"
          },
          "metadata": {}
        }
      ]
    },
    {
      "cell_type": "markdown",
      "source": [
        "## 10. Making Confusion Matrix for further prediction evaluation"
      ],
      "metadata": {
        "id": "garSN4kW8Vmt"
      }
    },
    {
      "cell_type": "code",
      "source": [
        "from tqdm.auto import tqdm\n",
        "\n",
        "# 1. Make predictions with trained model\n",
        "y_preds = []\n",
        "model_2.eval()\n",
        "with torch.inference_mode():\n",
        "  for X, y in tqdm(test_dataloader, desc = 'Making Predictions.....'):\n",
        "    # Send data and target to target device\n",
        "    X, y = X.to(device), y.to(device)\n",
        "    # Do the forward pass\n",
        "    y_logit = model_2(X)\n",
        "    # Turn the predictions from logits -> prediction probabilities -> prediction labels\n",
        "    y_pred = torch.softmax(y_logit.squeeze(), dim = 0).argmax(dim = 1)\n",
        "    # Put predictions to CPU for evaluation\n",
        "    y_preds.append(y_pred.cpu())\n",
        "\n",
        "# Concatenate list of predictions into a tensor\n",
        "# print(y_preds)\n",
        "y_pred_tensor = torch.cat(y_preds)\n",
        "y_pred_tensor"
      ],
      "metadata": {
        "colab": {
          "base_uri": "https://localhost:8080/",
          "height": 66,
          "referenced_widgets": [
            "743b47c39416490e9e60a512eb7c927f",
            "516ca89baa5b4ac5a1f27f9a35137564",
            "b37ce845544a4d73beb5a01581eae6bf",
            "6de645345bc44d67b77ce36a84502f68",
            "0e15b943052b4f4b833e9ced7f2bba4f",
            "a262d716ea2b4b5d9a86cdb052473d03",
            "9b831b6b299a48b19ed676711899dfed",
            "e7cab557be66481fabdc8ea577a97d6c",
            "45b747a48ec74154a11f0f966bd05b78",
            "863367d1790446ac982bd564b5a7c5e1",
            "3f1a761a4f474186a7138dfa74c22d17"
          ]
        },
        "id": "DPr55HXm5mFj",
        "outputId": "07daba9a-bb93-4cba-deb4-9d6174008669"
      },
      "execution_count": 91,
      "outputs": [
        {
          "output_type": "display_data",
          "data": {
            "text/plain": [
              "Making Predictions.....:   0%|          | 0/313 [00:00<?, ?it/s]"
            ],
            "application/vnd.jupyter.widget-view+json": {
              "version_major": 2,
              "version_minor": 0,
              "model_id": "743b47c39416490e9e60a512eb7c927f"
            }
          },
          "metadata": {}
        },
        {
          "output_type": "execute_result",
          "data": {
            "text/plain": [
              "tensor([9, 2, 1,  ..., 8, 1, 2])"
            ]
          },
          "metadata": {},
          "execution_count": 91
        }
      ]
    },
    {
      "cell_type": "code",
      "source": [
        "len(y_pred_tensor)"
      ],
      "metadata": {
        "colab": {
          "base_uri": "https://localhost:8080/"
        },
        "id": "Wtex1dUD93pZ",
        "outputId": "01942c56-5dee-4c5c-9449-c579b792b43c"
      },
      "execution_count": 93,
      "outputs": [
        {
          "output_type": "execute_result",
          "data": {
            "text/plain": [
              "10000"
            ]
          },
          "metadata": {},
          "execution_count": 93
        }
      ]
    },
    {
      "cell_type": "code",
      "source": [
        "!pip install -q torchmetrics -U mlxtend"
      ],
      "metadata": {
        "id": "okIxKzTX-Nqq"
      },
      "execution_count": 99,
      "outputs": []
    },
    {
      "cell_type": "code",
      "source": [
        "import torchmetrics, mlxtend\n",
        "print(f'mlxtend version: {mlxtend.__version__}')"
      ],
      "metadata": {
        "colab": {
          "base_uri": "https://localhost:8080/"
        },
        "id": "2GXQ_9ST-UK5",
        "outputId": "0d66079b-7afa-40ed-9d68-1d992af62163"
      },
      "execution_count": 100,
      "outputs": [
        {
          "output_type": "stream",
          "name": "stdout",
          "text": [
            "mlxtend version: 0.23.0\n"
          ]
        }
      ]
    },
    {
      "cell_type": "code",
      "source": [
        "from torchmetrics import ConfusionMatrix\n",
        "from mlxtend.plotting import plot_confusion_matrix\n",
        "\n",
        "# 2. Setup confusion instance and compare predictions to targets\n",
        "confmat = ConfusionMatrix(num_classes = len(class_names), task='multiclass')\n",
        "confmat_tensor = confmat(preds = y_pred_tensor,\n",
        "                         target = test_data.targets)\n",
        "\n",
        "# 3. Plot the confusion matrix\n",
        "fig, ax = plot_confusion_matrix(\n",
        "    conf_mat = confmat_tensor.numpy(),\n",
        "    class_names = class_names,\n",
        "    figsize = (10, 7)\n",
        ")"
      ],
      "metadata": {
        "colab": {
          "base_uri": "https://localhost:8080/",
          "height": 667
        },
        "id": "pcgztCXn-xAh",
        "outputId": "8b1c3ae7-5cb0-4dcd-b0a0-e9186179f9b7"
      },
      "execution_count": 108,
      "outputs": [
        {
          "output_type": "display_data",
          "data": {
            "text/plain": [
              "<Figure size 1000x700 with 1 Axes>"
            ],
            "image/png": "[encoded data removed]"
          },
          "metadata": {}
        }
      ]
    },
    {
      "cell_type": "markdown",
      "source": [
        "## 11. Save and load best performing model"
      ],
      "metadata": {
        "id": "4gIrfSUCB5nM"
      }
    },
    {
      "cell_type": "code",
      "source": [
        "from pathlib import Path\n",
        "\n",
        "# Create model directory path\n",
        "MODEL_PATH = Path('models')\n",
        "MODEL_PATH.mkdir(parents = True,\n",
        "                 exist_ok = True)\n",
        "\n",
        "# Create model Save\n",
        "MODEL_NAME = 'Pytorch_computer_vision_model_2.pth'\n",
        "MODEL_SAVE_PATH = MODEL_PATH / MODEL_NAME\n",
        "\n",
        "# Save the model state_dict\n",
        "print(f'Saving model to: {MODEL_SAVE_PATH}')\n",
        "torch.save(obj = model_2.state_dict(),\n",
        "           f = MODEL_SAVE_PATH)"
      ],
      "metadata": {
        "colab": {
          "base_uri": "https://localhost:8080/"
        },
        "id": "6wLFNxfGAuix",
        "outputId": "2ad8e9a3-4e7c-493c-ee0f-0f914bffd5bd"
      },
      "execution_count": 110,
      "outputs": [
        {
          "output_type": "stream",
          "name": "stdout",
          "text": [
            "Saving model to: models/Pytorch_computer_vision_model_2.pth\n"
          ]
        }
      ]
    },
    {
      "cell_type": "code",
      "source": [
        "# Create a new instance\n",
        "torch.manual_seed(42)\n",
        "\n",
        "loaded_model_2 = FashionMNISTModelV2(input_shape = 1,\n",
        "                                     hidden_units = 10,\n",
        "                                     output_shape = len(class_names))\n",
        "\n",
        "# Load in state_dict()\n",
        "loaded_model_2.load_state_dict(torch.load(f=MODEL_SAVE_PATH))\n",
        "\n",
        "# Send the model to target device\n",
        "loaded_model_2.to(device)"
      ],
      "metadata": {
        "colab": {
          "base_uri": "https://localhost:8080/"
        },
        "id": "Wm4KRon8Cd95",
        "outputId": "34a91d86-57a4-4809-e0a8-8511e10ff5e4"
      },
      "execution_count": 111,
      "outputs": [
        {
          "output_type": "execute_result",
          "data": {
            "text/plain": [
              "FashionMNISTModelV2(\n",
              "  (block_1): Sequential(\n",
              "    (0): Conv2d(1, 10, kernel_size=(3, 3), stride=(1, 1), padding=(1, 1))\n",
              "    (1): ReLU()\n",
              "    (2): Conv2d(10, 10, kernel_size=(3, 3), stride=(1, 1), padding=(1, 1))\n",
              "    (3): ReLU()\n",
              "    (4): MaxPool2d(kernel_size=2, stride=2, padding=0, dilation=1, ceil_mode=False)\n",
              "  )\n",
              "  (block_2): Sequential(\n",
              "    (0): Conv2d(10, 10, kernel_size=(3, 3), stride=(1, 1), padding=(1, 1))\n",
              "    (1): ReLU()\n",
              "    (2): Conv2d(10, 10, kernel_size=(3, 3), stride=(1, 1), padding=(1, 1))\n",
              "    (3): ReLU()\n",
              "    (4): MaxPool2d(kernel_size=2, stride=2, padding=0, dilation=1, ceil_mode=False)\n",
              "  )\n",
              "  (classifier): Sequential(\n",
              "    (0): Flatten(start_dim=1, end_dim=-1)\n",
              "    (1): Linear(in_features=490, out_features=10, bias=True)\n",
              "  )\n",
              ")"
            ]
          },
          "metadata": {},
          "execution_count": 111
        }
      ]
    },
    {
      "cell_type": "code",
      "source": [
        "# Evaluate the loaded model\n",
        "torch.manual_seed(42)\n",
        "\n",
        "loaded_model_2_results = eval_model(\n",
        "    model = loaded_model_2,\n",
        "    data_loader = test_dataloader,\n",
        "    loss_fn = loss_fn,\n",
        "    accuracy_fn = accuracy_fn\n",
        ")\n",
        "loaded_model_2_results"
      ],
      "metadata": {
        "colab": {
          "base_uri": "https://localhost:8080/",
          "height": 101,
          "referenced_widgets": [
            "4d5f8065e24c43c9864940e58454931e",
            "38addf4458334798aff6d8214450d79f",
            "43d0c34e443d4e42a0d57fadf7e3e60a",
            "3c63588ef09d4068bb4fb61144cce605",
            "18f048a440e54f97899489f822866739",
            "b18f1684b7f84157b993f281d2429d63",
            "1d834ec173484b26838a869a1260f9de",
            "a10ac68c5e2a48c089df0ff9b0cca21c",
            "675e403db3c1463eb00910d178b2915d",
            "266d954405224f6f981d673f8e93453a",
            "a5335f251bc846fc9fa98240539d9c63"
          ]
        },
        "id": "06ggxI_kDi_o",
        "outputId": "234c9f25-cca7-43dd-ac2c-b35395a46e1b"
      },
      "execution_count": 112,
      "outputs": [
        {
          "output_type": "display_data",
          "data": {
            "text/plain": [
              "  0%|          | 0/313 [00:00<?, ?it/s]"
            ],
            "application/vnd.jupyter.widget-view+json": {
              "version_major": 2,
              "version_minor": 0,
              "model_id": "4d5f8065e24c43c9864940e58454931e"
            }
          },
          "metadata": {}
        },
        {
          "output_type": "execute_result",
          "data": {
            "text/plain": [
              "{'Model_name': 'FashionMNISTModelV2',\n",
              " 'Model_loss': 0.3332502543926239,\n",
              " 'Model_acc': 87.83945686900958}"
            ]
          },
          "metadata": {},
          "execution_count": 112
        }
      ]
    },
    {
      "cell_type": "code",
      "source": [
        "# Check if model results are close to each other\n",
        "torch.isclose(torch.tensor(model_2_results['Model_loss']),\n",
        "              torch.tensor(loaded_model_2_results['Model_loss']),\n",
        "              atol = 1e-02)"
      ],
      "metadata": {
        "colab": {
          "base_uri": "https://localhost:8080/"
        },
        "id": "tZOXEGA6EAcp",
        "outputId": "2733cad1-be4b-40b3-fabb-c6f5db0b5fe2"
      },
      "execution_count": 115,
      "outputs": [
        {
          "output_type": "execute_result",
          "data": {
            "text/plain": [
              "tensor(True)"
            ]
          },
          "metadata": {},
          "execution_count": 115
        }
      ]
    },
    {
      "cell_type": "code",
      "source": [],
      "metadata": {
        "id": "l6cv_7xLETFI"
      },
      "execution_count": null,
      "outputs": []
    }
  ]
}